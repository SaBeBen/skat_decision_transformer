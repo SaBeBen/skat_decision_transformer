{
 "cells": [
  {
   "cell_type": "code",
   "execution_count": 1,
   "metadata": {
    "collapsed": true
   },
   "outputs": [],
   "source": [
    "import pandas as pd"
   ]
  },
  {
   "cell_type": "code",
   "execution_count": 2,
   "outputs": [],
   "source": [
    "# Read dt data set\n",
    "skat_dt_game_data_path = \"C:/Users/sasch/Desktop/Uni/Bachelorarbeit/SaschaBenz/data/dl/dt_skattisch_spiel.CSV\"\n",
    "\n",
    "skat_dt_game_data_frame = pd.read_csv(skat_dt_game_data_path, header=None)\n",
    "\n",
    "skat_dt_game_data_frame.columns = [\"GameID\", \"IDGame\", \"IDTable\", \"IDVServer\", \"StartTime\", \"EndTime\", \"PlayerFH\",\n",
    "                                   \"PlayerMH\", \"PlayerBH\", \"Card1\", \"Card2\", \"Card3\", \"Card4\", \"Card5\", \"Card6\",\n",
    "                                   \"Card7\", \"Card8\", \"Card9\", \"Card10\", \"Card11\", \"Card12\", \"Card13\", \"Card14\",\n",
    "                                   \"Card15\", \"Card16\", \"Card17\", \"Card18\", \"Card19\", \"Card20\", \"Card21\", \"Card22\",\n",
    "                                   \"Card23\", \"Card24\", \"Card25\", \"Card26\", \"Card27\", \"Card28\", \"Card29\", \"Card30\",\n",
    "                                   \"Card31\", \"Card32\", \"CallValueFH\", \"CallValueMH\", \"CallValueBH\", \"PlayerID\", \"Game\",\n",
    "                                   \"With\", \"Without\", \"Hand\", \"Schneider\", \"SchneiderCalled\", \"Schwarz\",\n",
    "                                   \"SchwarzCalled\", \"Overt\", \"PointsPlayer\", \"Won\", \"Miscall\",\n",
    "                                   \"CardPointsPlayer\", \"AllPassed\", \"Surrendered\", \"PlayerPosAtTableFH\",\n",
    "                                   \"PlayerPosAtTableMH\", \"PlayerPosAtTableBH\"]\n",
    "\n",
    "# Read rl data set\n",
    "skat_rl_game_data_path = \"C:/Users/sasch/Desktop/Uni/Bachelorarbeit/SaschaBenz/data/dl/rl_skattisch_spiel.CSV\"\n",
    "\n",
    "skat_rl_game_data_frame = pd.read_csv(skat_rl_game_data_path, header=None)\n",
    "\n",
    "skat_rl_game_data_frame.columns = [\"GameID\", \"IDGame\", \"IDTable\", \"IDVServer\", \"StartTime\", \"EndTime\", \"PlayerFH\",\n",
    "                                   \"PlayerMH\", \"PlayerBH\", \"Card1\", \"Card2\", \"Card3\", \"Card4\", \"Card5\", \"Card6\",\n",
    "                                   \"Card7\", \"Card8\", \"Card9\", \"Card10\", \"Card11\", \"Card12\", \"Card13\", \"Card14\",\n",
    "                                   \"Card15\", \"Card16\", \"Card17\", \"Card18\", \"Card19\", \"Card20\", \"Card21\", \"Card22\",\n",
    "                                   \"Card23\", \"Card24\", \"Card25\", \"Card26\", \"Card27\", \"Card28\", \"Card29\", \"Card30\",\n",
    "                                   \"Card31\", \"Card32\", \"CallValueFH\", \"CallValueMH\", \"CallValueBH\", \"PlayerID\", \"Game\",\n",
    "                                   \"With\", \"Without\", \"Hand\", \"Schneider\", \"SchneiderCalled\", \"Schwarz\",\n",
    "                                   \"SchwarzCalled\", \"Overt\", \"PointsPlayer\", \"Won\", \"Miscall\",\n",
    "                                   \"CardPointsPlayer\", \"AllPassed\", \"Surrendered\", \"PlayerPosAtTableFH\",\n",
    "                                   \"PlayerPosAtTableMH\", \"PlayerPosAtTableBH\"]\n",
    "\n",
    "# Read wm data set\n",
    "skat_wm_game_data_path = \"C:/Users/sasch/Desktop/Uni/Bachelorarbeit/SaschaBenz/data/dl/wm_skattisch_spiel.CSV\"\n",
    "\n",
    "skat_wm_game_data_frame = pd.read_csv(skat_wm_game_data_path, header=None)\n",
    "\n",
    "skat_wm_game_data_frame.columns = [\"GameID\", \"IDGame\", \"IDTable\", \"IDVServer\", \"StartTime\", \"EndTime\", \"PlayerFH\",\n",
    "                                   \"PlayerMH\", \"PlayerBH\", \"Card1\", \"Card2\", \"Card3\", \"Card4\", \"Card5\", \"Card6\",\n",
    "                                   \"Card7\", \"Card8\", \"Card9\", \"Card10\", \"Card11\", \"Card12\", \"Card13\", \"Card14\",\n",
    "                                   \"Card15\", \"Card16\", \"Card17\", \"Card18\", \"Card19\", \"Card20\", \"Card21\", \"Card22\",\n",
    "                                   \"Card23\", \"Card24\", \"Card25\", \"Card26\", \"Card27\", \"Card28\", \"Card29\", \"Card30\",\n",
    "                                   \"Card31\", \"Card32\", \"CallValueFH\", \"CallValueMH\", \"CallValueBH\", \"PlayerID\", \"Game\",\n",
    "                                   \"With\", \"Without\", \"Hand\", \"Schneider\", \"SchneiderCalled\", \"Schwarz\",\n",
    "                                   \"SchwarzCalled\", \"Overt\", \"PointsPlayer\", \"Won\", \"Miscall\",\n",
    "                                   \"CardPointsPlayer\", \"AllPassed\", \"Surrendered\", \"PlayerPosAtTableFH\",\n",
    "                                   \"PlayerPosAtTableMH\", \"PlayerPosAtTableBH\"]\n",
    "\n",
    "# Read dm data set\n",
    "skat_dm_game_data_path = \"C:/Users/sasch/Desktop/Uni/Bachelorarbeit/SaschaBenz/data/dl/dm_skattisch_spiel.CSV\"\n",
    "\n",
    "skat_dm_game_data_frame = pd.read_csv(skat_dm_game_data_path, header=None)\n",
    "\n",
    "skat_dm_game_data_frame.columns = [\"GameID\", \"IDGame\", \"IDTable\", \"IDVServer\", \"StartTime\", \"EndTime\", \"PlayerFH\",\n",
    "                                   \"PlayerMH\", \"PlayerBH\", \"Card1\", \"Card2\", \"Card3\", \"Card4\", \"Card5\", \"Card6\",\n",
    "                                   \"Card7\", \"Card8\", \"Card9\", \"Card10\", \"Card11\", \"Card12\", \"Card13\", \"Card14\",\n",
    "                                   \"Card15\", \"Card16\", \"Card17\", \"Card18\", \"Card19\", \"Card20\", \"Card21\", \"Card22\",\n",
    "                                   \"Card23\", \"Card24\", \"Card25\", \"Card26\", \"Card27\", \"Card28\", \"Card29\", \"Card30\",\n",
    "                                   \"Card31\", \"Card32\", \"CallValueFH\", \"CallValueMH\", \"CallValueBH\", \"PlayerID\", \"Game\",\n",
    "                                   \"With\", \"Without\", \"Hand\", \"Schneider\", \"SchneiderCalled\", \"Schwarz\",\n",
    "                                   \"SchwarzCalled\", \"Overt\", \"PointsPlayer\", \"Won\", \"Miscall\",\n",
    "                                   \"CardPointsPlayer\", \"AllPassed\", \"Surrendered\", \"PlayerPosAtTableFH\",\n",
    "                                   \"PlayerPosAtTableMH\", \"PlayerPosAtTableBH\"]\n",
    "\n",
    "# Read bl data set\n",
    "skat_bl_game_data_path = \"C:/Users/sasch/Desktop/Uni/Bachelorarbeit/SaschaBenz/data/dl/bl_skattisch_spiel.CSV\"\n",
    "\n",
    "skat_bl_game_data_frame = pd.read_csv(skat_bl_game_data_path, header=None)\n",
    "\n",
    "skat_bl_game_data_frame.columns = [\"GameID\", \"IDGame\", \"IDTable\", \"IDVServer\", \"StartTime\", \"EndTime\", \"PlayerFH\",\n",
    "                                   \"PlayerMH\", \"PlayerBH\", \"Card1\", \"Card2\", \"Card3\", \"Card4\", \"Card5\", \"Card6\",\n",
    "                                   \"Card7\", \"Card8\", \"Card9\", \"Card10\", \"Card11\", \"Card12\", \"Card13\", \"Card14\",\n",
    "                                   \"Card15\", \"Card16\", \"Card17\", \"Card18\", \"Card19\", \"Card20\", \"Card21\", \"Card22\",\n",
    "                                   \"Card23\", \"Card24\", \"Card25\", \"Card26\", \"Card27\", \"Card28\", \"Card29\", \"Card30\",\n",
    "                                   \"Card31\", \"Card32\", \"CallValueFH\", \"CallValueMH\", \"CallValueBH\", \"PlayerID\", \"Game\",\n",
    "                                   \"With\", \"Without\", \"Hand\", \"Schneider\", \"SchneiderCalled\", \"Schwarz\",\n",
    "                                   \"SchwarzCalled\", \"Overt\", \"PointsPlayer\", \"Won\", \"Miscall\",\n",
    "                                   \"CardPointsPlayer\", \"AllPassed\", \"Surrendered\", \"PlayerPosAtTableFH\",\n",
    "                                   \"PlayerPosAtTableMH\", \"PlayerPosAtTableBH\"]"
   ],
   "metadata": {
    "collapsed": false,
    "pycharm": {
     "name": "#%%\n"
    }
   }
  },
  {
   "cell_type": "code",
   "execution_count": 11,
   "outputs": [
    {
     "data": {
      "text/plain": "    # of Games  Win rate  Schneider  Schwarz  AllPassed  Miscall  Surrendered\ndt      360945    0.7990     0.2694   0.0431     0.0504   0.0020       0.3555\nrl     3074701    0.7914     0.2668   0.0429     0.0585   0.0020       0.0657\nbl      407259    0.7864     0.2687   0.0412     0.0759   0.0013       0.0000\ndm     1173846    0.7991     0.2664   0.0421     0.0481   0.0020       0.0559\nwm      668267    0.7977     0.2678   0.0427     0.0498   0.0019       0.0734",
      "text/html": "<div>\n<style scoped>\n    .dataframe tbody tr th:only-of-type {\n        vertical-align: middle;\n    }\n\n    .dataframe tbody tr th {\n        vertical-align: top;\n    }\n\n    .dataframe thead th {\n        text-align: right;\n    }\n</style>\n<table border=\"1\" class=\"dataframe\">\n  <thead>\n    <tr style=\"text-align: right;\">\n      <th></th>\n      <th># of Games</th>\n      <th>Win rate</th>\n      <th>Schneider</th>\n      <th>Schwarz</th>\n      <th>AllPassed</th>\n      <th>Miscall</th>\n      <th>Surrendered</th>\n    </tr>\n  </thead>\n  <tbody>\n    <tr>\n      <th>dt</th>\n      <td>360945</td>\n      <td>0.7990</td>\n      <td>0.2694</td>\n      <td>0.0431</td>\n      <td>0.0504</td>\n      <td>0.0020</td>\n      <td>0.3555</td>\n    </tr>\n    <tr>\n      <th>rl</th>\n      <td>3074701</td>\n      <td>0.7914</td>\n      <td>0.2668</td>\n      <td>0.0429</td>\n      <td>0.0585</td>\n      <td>0.0020</td>\n      <td>0.0657</td>\n    </tr>\n    <tr>\n      <th>bl</th>\n      <td>407259</td>\n      <td>0.7864</td>\n      <td>0.2687</td>\n      <td>0.0412</td>\n      <td>0.0759</td>\n      <td>0.0013</td>\n      <td>0.0000</td>\n    </tr>\n    <tr>\n      <th>dm</th>\n      <td>1173846</td>\n      <td>0.7991</td>\n      <td>0.2664</td>\n      <td>0.0421</td>\n      <td>0.0481</td>\n      <td>0.0020</td>\n      <td>0.0559</td>\n    </tr>\n    <tr>\n      <th>wm</th>\n      <td>668267</td>\n      <td>0.7977</td>\n      <td>0.2678</td>\n      <td>0.0427</td>\n      <td>0.0498</td>\n      <td>0.0019</td>\n      <td>0.0734</td>\n    </tr>\n  </tbody>\n</table>\n</div>"
     },
     "execution_count": 11,
     "metadata": {},
     "output_type": "execute_result"
    }
   ],
   "source": [
    "stats_transposed = {\n",
    "    \"dt\": [skat_dt_game_data_frame[\"GameID\"].size, skat_dt_game_data_frame[\"Won\"].value_counts(normalize=True)[1],\n",
    "           skat_dt_game_data_frame[\"Schneider\"].value_counts(normalize=True)[1],\n",
    "           skat_dt_game_data_frame[\"Schwarz\"].value_counts(normalize=True)[1],\n",
    "           skat_dt_game_data_frame[\"AllPassed\"].value_counts(normalize=True)[1],\n",
    "           skat_dt_game_data_frame[\"Miscall\"].value_counts(normalize=True)[1],\n",
    "           1-skat_dt_game_data_frame[\"Surrendered\"].value_counts(normalize=True)[0]\n",
    "           ],\n",
    "    \"rl\": [skat_rl_game_data_frame[\"GameID\"].size, skat_rl_game_data_frame[\"Won\"].value_counts(normalize=True)[1],\n",
    "           skat_rl_game_data_frame[\"Schneider\"].value_counts(normalize=True)[1],\n",
    "           skat_rl_game_data_frame[\"Schwarz\"].value_counts(normalize=True)[1],\n",
    "           skat_rl_game_data_frame[\"AllPassed\"].value_counts(normalize=True)[1],\n",
    "           skat_rl_game_data_frame[\"Miscall\"].value_counts(normalize=True)[1],\n",
    "           1-skat_rl_game_data_frame[\"Surrendered\"].value_counts(normalize=True)[0]\n",
    "           ],\n",
    "    \"bl\": [skat_bl_game_data_frame[\"GameID\"].size, skat_bl_game_data_frame[\"Won\"].value_counts(normalize=True)[1],\n",
    "           skat_bl_game_data_frame[\"Schneider\"].value_counts(normalize=True)[1],\n",
    "           skat_bl_game_data_frame[\"Schwarz\"].value_counts(normalize=True)[1],\n",
    "           skat_bl_game_data_frame[\"AllPassed\"].value_counts(normalize=True)[1],\n",
    "           skat_bl_game_data_frame[\"Miscall\"].value_counts(normalize=True)[1],\n",
    "           1-skat_bl_game_data_frame[\"Surrendered\"].value_counts(normalize=True)[0]\n",
    "           ],\n",
    "    \"wm\": [skat_wm_game_data_frame[\"GameID\"].size, skat_wm_game_data_frame[\"Won\"].value_counts(normalize=True)[1],\n",
    "           skat_wm_game_data_frame[\"Schneider\"].value_counts(normalize=True)[1],\n",
    "           skat_wm_game_data_frame[\"Schwarz\"].value_counts(normalize=True)[1],\n",
    "           skat_wm_game_data_frame[\"AllPassed\"].value_counts(normalize=True)[1],\n",
    "           skat_wm_game_data_frame[\"Miscall\"].value_counts(normalize=True)[1],\n",
    "           1-skat_wm_game_data_frame[\"Surrendered\"].value_counts(normalize=True)[0]\n",
    "           ],\n",
    "    \"dm\": [skat_dm_game_data_frame[\"GameID\"].size, skat_dm_game_data_frame[\"Won\"].value_counts(normalize=True)[1],\n",
    "           skat_dm_game_data_frame[\"Schneider\"].value_counts(normalize=True)[1],\n",
    "           skat_dm_game_data_frame[\"Schwarz\"].value_counts(normalize=True)[1],\n",
    "           skat_dm_game_data_frame[\"AllPassed\"].value_counts(normalize=True)[1],\n",
    "           skat_dm_game_data_frame[\"Miscall\"].value_counts(normalize=True)[1],\n",
    "           1-skat_dm_game_data_frame[\"Surrendered\"].value_counts(normalize=True)[0]\n",
    "           ]\n",
    "}"
   ],
   "metadata": {
    "collapsed": false,
    "pycharm": {
     "name": "#%%\n"
    }
   }
  },
  {
   "cell_type": "code",
   "execution_count": 13,
   "outputs": [
    {
     "data": {
      "text/plain": "    # of Games  Win rate  Schneider  Schwarz  AllPassed  Miscall  Surrendered\ndt      360945     79.90      26.94     4.31       5.04     0.20        35.55\nrl     3074701     79.14      26.68     4.29       5.85     0.20         6.57\nbl      407259     78.64      26.87     4.12       7.59     0.13         0.00\ndm     1173846     79.91      26.64     4.21       4.81     0.20         5.59\nwm      668267     79.77      26.78     4.27       4.98     0.19         7.34",
      "text/html": "<div>\n<style scoped>\n    .dataframe tbody tr th:only-of-type {\n        vertical-align: middle;\n    }\n\n    .dataframe tbody tr th {\n        vertical-align: top;\n    }\n\n    .dataframe thead th {\n        text-align: right;\n    }\n</style>\n<table border=\"1\" class=\"dataframe\">\n  <thead>\n    <tr style=\"text-align: right;\">\n      <th></th>\n      <th># of Games</th>\n      <th>Win rate</th>\n      <th>Schneider</th>\n      <th>Schwarz</th>\n      <th>AllPassed</th>\n      <th>Miscall</th>\n      <th>Surrendered</th>\n    </tr>\n  </thead>\n  <tbody>\n    <tr>\n      <th>dt</th>\n      <td>360945</td>\n      <td>79.90</td>\n      <td>26.94</td>\n      <td>4.31</td>\n      <td>5.04</td>\n      <td>0.20</td>\n      <td>35.55</td>\n    </tr>\n    <tr>\n      <th>rl</th>\n      <td>3074701</td>\n      <td>79.14</td>\n      <td>26.68</td>\n      <td>4.29</td>\n      <td>5.85</td>\n      <td>0.20</td>\n      <td>6.57</td>\n    </tr>\n    <tr>\n      <th>bl</th>\n      <td>407259</td>\n      <td>78.64</td>\n      <td>26.87</td>\n      <td>4.12</td>\n      <td>7.59</td>\n      <td>0.13</td>\n      <td>0.00</td>\n    </tr>\n    <tr>\n      <th>dm</th>\n      <td>1173846</td>\n      <td>79.91</td>\n      <td>26.64</td>\n      <td>4.21</td>\n      <td>4.81</td>\n      <td>0.20</td>\n      <td>5.59</td>\n    </tr>\n    <tr>\n      <th>wm</th>\n      <td>668267</td>\n      <td>79.77</td>\n      <td>26.78</td>\n      <td>4.27</td>\n      <td>4.98</td>\n      <td>0.19</td>\n      <td>7.34</td>\n    </tr>\n  </tbody>\n</table>\n</div>"
     },
     "execution_count": 13,
     "metadata": {},
     "output_type": "execute_result"
    }
   ],
   "source": [
    "stats = {\n",
    "    \"# of Games\": [skat_dt_game_data_frame[\"GameID\"].size,\n",
    "                   skat_rl_game_data_frame[\"GameID\"].size,\n",
    "                   skat_bl_game_data_frame[\"GameID\"].size,\n",
    "                   skat_dm_game_data_frame[\"GameID\"].size,\n",
    "                   skat_wm_game_data_frame[\"GameID\"].size\n",
    "                   ],\n",
    "    \"Win rate\": [skat_dt_game_data_frame[\"Won\"].value_counts(normalize=True)[1],\n",
    "                 skat_rl_game_data_frame[\"Won\"].value_counts(normalize=True)[1],\n",
    "                 skat_bl_game_data_frame[\"Won\"].value_counts(normalize=True)[1],\n",
    "                 skat_dm_game_data_frame[\"Won\"].value_counts(normalize=True)[1],\n",
    "                 skat_wm_game_data_frame[\"Won\"].value_counts(normalize=True)[1]\n",
    "                 ],\n",
    "    \"Schneider\": [skat_dt_game_data_frame[\"Schneider\"].value_counts(normalize=True)[1],\n",
    "                  skat_rl_game_data_frame[\"Schneider\"].value_counts(normalize=True)[1],\n",
    "                  skat_bl_game_data_frame[\"Schneider\"].value_counts(normalize=True)[1],\n",
    "                  skat_dm_game_data_frame[\"Schneider\"].value_counts(normalize=True)[1],\n",
    "                  skat_wm_game_data_frame[\"Schneider\"].value_counts(normalize=True)[1]\n",
    "                  ],\n",
    "    \"Schwarz\": [skat_dt_game_data_frame[\"Schwarz\"].value_counts(normalize=True)[1],\n",
    "                skat_rl_game_data_frame[\"Schwarz\"].value_counts(normalize=True)[1],\n",
    "                skat_bl_game_data_frame[\"Schwarz\"].value_counts(normalize=True)[1],\n",
    "                skat_dm_game_data_frame[\"Schwarz\"].value_counts(normalize=True)[1],\n",
    "                skat_wm_game_data_frame[\"Schwarz\"].value_counts(normalize=True)[1]\n",
    "                ],\n",
    "    \"AllPassed\": [skat_dt_game_data_frame[\"AllPassed\"].value_counts(normalize=True)[1],\n",
    "                  skat_rl_game_data_frame[\"AllPassed\"].value_counts(normalize=True)[1],\n",
    "                  skat_bl_game_data_frame[\"AllPassed\"].value_counts(normalize=True)[1],\n",
    "                  skat_dm_game_data_frame[\"AllPassed\"].value_counts(normalize=True)[1],\n",
    "                  skat_wm_game_data_frame[\"AllPassed\"].value_counts(normalize=True)[1]\n",
    "                  ],\n",
    "    \"Miscall\": [skat_dt_game_data_frame[\"Miscall\"].value_counts(normalize=True)[1],\n",
    "                skat_rl_game_data_frame[\"Miscall\"].value_counts(normalize=True)[1],\n",
    "                skat_bl_game_data_frame[\"Miscall\"].value_counts(normalize=True)[1],\n",
    "                skat_dm_game_data_frame[\"Miscall\"].value_counts(normalize=True)[1],\n",
    "                skat_wm_game_data_frame[\"Miscall\"].value_counts(normalize=True)[1]\n",
    "                ],\n",
    "    \"Surrendered\": [1-skat_dt_game_data_frame[\"Surrendered\"].value_counts(normalize=True)[0],\n",
    "                    1-skat_rl_game_data_frame[\"Surrendered\"].value_counts(normalize=True)[0],\n",
    "                    1-skat_bl_game_data_frame[\"Surrendered\"].value_counts(normalize=True)[0],\n",
    "                    1-skat_dm_game_data_frame[\"Surrendered\"].value_counts(normalize=True)[0],\n",
    "                    1-skat_wm_game_data_frame[\"Surrendered\"].value_counts(normalize=True)[0]\n",
    "                    ]\n",
    "}\n",
    "\n",
    "stat_frame = pd.DataFrame(stats, [\"dt\", \"rl\",\"bl\", \"dm\", \"wm\"])\n",
    "stat_frame = stat_frame.round(4)\n",
    "stat_frame.loc[:, stat_frame.columns != \"# of Games\"] = stat_frame.loc[:, stat_frame.columns != \"# of Games\"]*100\n",
    "stat_frame\n"
   ],
   "metadata": {
    "collapsed": false,
    "pycharm": {
     "name": "#%%\n"
    }
   }
  }
 ],
 "metadata": {
  "kernelspec": {
   "display_name": "Python 3",
   "language": "python",
   "name": "python3"
  },
  "language_info": {
   "codemirror_mode": {
    "name": "ipython",
    "version": 2
   },
   "file_extension": ".py",
   "mimetype": "text/x-python",
   "name": "python",
   "nbconvert_exporter": "python",
   "pygments_lexer": "ipython2",
   "version": "2.7.6"
  }
 },
 "nbformat": 4,
 "nbformat_minor": 0
}