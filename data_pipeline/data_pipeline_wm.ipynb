{
 "cells": [
  {
   "cell_type": "code",
   "execution_count": 50,
   "metadata": {
    "collapsed": true,
    "pycharm": {
     "name": "#%%\n"
    }
   },
   "outputs": [],
   "source": [
    "import pandas as pd\n",
    "import random\n",
    "from sklearn.model_selection import train_test_split"
   ]
  },
  {
   "cell_type": "code",
   "execution_count": 51,
   "outputs": [],
   "source": [
    "\"\"\"The dataset of the sequence the cards (cs) were played follows\"\"\"\n",
    "skat_wm_cs_data_path = \"C:/Users/sasch/Desktop/Uni/Bachelorarbeit/SaschaBenz/data/dl/wm_skattisch_kf.CSV\"\n",
    "\n",
    "skat_wm_cs_data_frame = pd.read_csv(skat_wm_cs_data_path, header=None)\n",
    "\n",
    "# TODO: convert data to following encoding:\n",
    "# ♦, ♥, ♠, ♣, {7, 8, 9, Q, K, 10, A}, J/T\n",
    "skat_wm_cs_data = skat_wm_cs_data_frame\n",
    "\n",
    "skat_wm_cs_data.columns = [\"GameID\", \"Sd1\", \"Sd2\", \"KNr0\", \"KNr1\", \"KNr2\", \"KNr3\", \"KNr4\", \"KNr5\", \"KNr6\", \"KNr7\",\n",
    "                           \"KNr8\", \"KNr9\", \"KNr10\", \"KNr11\", \"KNr12\", \"KNr13\", \"KNr14\", \"KNr15\", \"KNr16\", \"KNr17\",\n",
    "                           \"KNr18\", \"KNr19\", \"KNr20\", \"KNr21\", \"KNr22\", \"KNr23\", \"KNr24\", \"KNr25\", \"KNr26\", \"KNr27\",\n",
    "                           \"KNr28\", \"KNr29\", \"KNr30\", \"KNr31\", \"SurrenderedAt\"]"
   ],
   "metadata": {
    "collapsed": false,
    "pycharm": {
     "name": "#%%\n"
    }
   }
  },
  {
   "cell_type": "code",
   "execution_count": 52,
   "outputs": [
    {
     "name": "stdout",
     "output_type": "stream",
     "text": [
      "0\n"
     ]
    }
   ],
   "source": [
    "# Sanity Checks\n",
    "\n",
    "print(skat_wm_cs_data_frame.isna().sum().sum())"
   ],
   "metadata": {
    "collapsed": false,
    "pycharm": {
     "name": "#%%\n"
    }
   }
  },
  {
   "cell_type": "code",
   "execution_count": 53,
   "outputs": [
    {
     "name": "stdout",
     "output_type": "stream",
     "text": [
      "376344\n"
     ]
    }
   ],
   "source": [
    "print(skat_wm_cs_data_frame[\"GameID\"].size)"
   ],
   "metadata": {
    "collapsed": false,
    "pycharm": {
     "name": "#%%\n"
    }
   }
  },
  {
   "cell_type": "code",
   "execution_count": 54,
   "outputs": [
    {
     "name": "stdout",
     "output_type": "stream",
     "text": [
      "False\n"
     ]
    }
   ],
   "source": [
    "print(skat_wm_cs_data_frame[\"GameID\"].duplicated().any())"
   ],
   "metadata": {
    "collapsed": false,
    "pycharm": {
     "name": "#%%\n"
    }
   }
  },
  {
   "cell_type": "code",
   "execution_count": 55,
   "outputs": [
    {
     "name": "stdout",
     "output_type": "stream",
     "text": [
      "   GameID  Sd1  Sd2  KNr0  KNr1  KNr2  KNr3  KNr4  KNr5  KNr6  ...  KNr23  \\\n",
      "0       1   12   31    21     7    13    11    18    15     9  ...     26   \n",
      "1       2   31   30     3     7     5     0     6    21     4  ...     22   \n",
      "2       3    3   13    11    18    28    30     9    19    10  ...      2   \n",
      "3       4   10   17    24     1    19     3     8    26     0  ...     12   \n",
      "4       5   10   13    14    12    25     2    28    17    16  ...      9   \n",
      "5       6   20   28     1     4     2    11    13     0     3  ...      6   \n",
      "6       7    9   13    16    18    20     9     4    23     7  ...      6   \n",
      "7       8   28   17    22    19    29     1    28    23    17  ...     10   \n",
      "8       9   18   20     6    11    10    29     9     8     7  ...     16   \n",
      "9      11    6   16     0    26     9     3    11     2    30  ...     18   \n",
      "\n",
      "   KNr24  KNr25  KNr26  KNr27  KNr28  KNr29  KNr30  KNr31  SurrenderedAt  \n",
      "0      2     20      1      4     24      0     27     31             -1  \n",
      "1     18     29     26      2     25     20     31     30             -1  \n",
      "2     24     17     22      4     25     27     16     14             -1  \n",
      "3     27     16     20      6     17     15      5     25             -1  \n",
      "4     27     29     22     21     11     26     19      5             -1  \n",
      "5     19     20     28     17     31     25     22     16             -1  \n",
      "6     19     24     27     15     21     10     14     11             -1  \n",
      "7     11     16     15      8     30     25     18     20             -1  \n",
      "8     13     14     12     24     23     20     19     21             -1  \n",
      "9     29     23     22      6     28     25     19     16             -1  \n",
      "\n",
      "[10 rows x 36 columns]\n"
     ]
    }
   ],
   "source": [
    "skat_wm_table_data = skat_wm_cs_data_frame\n",
    "\n",
    "head = skat_wm_cs_data.head(n=10)\n",
    "print(head)\n"
   ],
   "metadata": {
    "collapsed": false,
    "pycharm": {
     "name": "#%%\n"
    }
   }
  },
  {
   "cell_type": "code",
   "execution_count": 56,
   "outputs": [
    {
     "data": {
      "text/plain": "                                    IDTable Name  Number  PlayerID1  \\\n0      799a2b2e-ae0f-11da-b3fb-8df7c9751e06    2       1       8687   \n1      7245a47d-ae0f-11da-b3fb-8df7c9751e06    8       6      25444   \n2      ffc47bc5-ae0f-11da-b3fb-8df7c9751e06   29      26      59765   \n3      7afc2c30-ae0f-11da-b3fb-8df7c9751e06   34      33      25365   \n4      7cdc0fc3-ae0f-11da-b3fb-8df7c9751e06   33      31      39775   \n...                                     ...  ...     ...        ...   \n11919                         6x7S67QWV3xRF  T11       3     237339   \n11920                         6x7S67QWV3xRO   T8       6      37068   \n11921                         6x7S67QWV3xRD   T2      13     300814   \n11922                         6x7S67QWV3xRK   T5      11     370619   \n11923                        6x7S67QWV3x63V   T2      13     300814   \n\n       PlayerID2  PlayerID3  PlayerID4          Player1          Player2  \\\n0           8628       6449          0           FRED42           MIMO46   \n1          32580      39208          0  VERFUERTH KLAUS      DER PATE 39   \n2          49816      37776          0      LUSCHENKING             T.K.   \n3          37026      25346          0            PATER       FANTASIO17   \n4          42482       8453          0      HARRYHIRSCH           DIKO98   \n...          ...        ...        ...              ...              ...   \n11919     239742       8662          0         TOTTI 48          ELACHEN   \n11920     240390     279741          0          WOLLE67  SCHACHSPIELER50   \n11921      70362     325948          0     SKAT AMATEUR             ELBE   \n11922     172135     155110          0      PIKDAME1900        SCHROCKI5   \n11923      70362     325948          0     SKAT AMATEUR             ELBE   \n\n                 Player3  Player4        Date  IDVServer   Series  \n0                   AHAB      NaN  1141759244          4      4.0  \n1          STOERTEBECKER      NaN  1141759232          4      4.0  \n2          BONNIE PARKER      NaN  1141759469          4      4.0  \n3              KRUEMEL96      NaN  1141759247          4      4.0  \n4             DOKTORBIER      NaN  1141759250          4      4.0  \n...                  ...      ...         ...        ...      ...  \n11919          HUGO 1005      NaN  1490724005          4  24242.0  \n11920         POWERPAUL1      NaN  1490724033          4  24242.0  \n11921  EDUARD DER ZWEITE      NaN  1490724023          4  24242.0  \n11922        MONSCHI1965      NaN  1490724064          4  24242.0  \n11923  EDUARD DER ZWEITE      NaN  1490726374          4  24242.0  \n\n[11924 rows x 14 columns]",
      "text/html": "<div>\n<style scoped>\n    .dataframe tbody tr th:only-of-type {\n        vertical-align: middle;\n    }\n\n    .dataframe tbody tr th {\n        vertical-align: top;\n    }\n\n    .dataframe thead th {\n        text-align: right;\n    }\n</style>\n<table border=\"1\" class=\"dataframe\">\n  <thead>\n    <tr style=\"text-align: right;\">\n      <th></th>\n      <th>IDTable</th>\n      <th>Name</th>\n      <th>Number</th>\n      <th>PlayerID1</th>\n      <th>PlayerID2</th>\n      <th>PlayerID3</th>\n      <th>PlayerID4</th>\n      <th>Player1</th>\n      <th>Player2</th>\n      <th>Player3</th>\n      <th>Player4</th>\n      <th>Date</th>\n      <th>IDVServer</th>\n      <th>Series</th>\n    </tr>\n  </thead>\n  <tbody>\n    <tr>\n      <th>0</th>\n      <td>799a2b2e-ae0f-11da-b3fb-8df7c9751e06</td>\n      <td>2</td>\n      <td>1</td>\n      <td>8687</td>\n      <td>8628</td>\n      <td>6449</td>\n      <td>0</td>\n      <td>FRED42</td>\n      <td>MIMO46</td>\n      <td>AHAB</td>\n      <td>NaN</td>\n      <td>1141759244</td>\n      <td>4</td>\n      <td>4.0</td>\n    </tr>\n    <tr>\n      <th>1</th>\n      <td>7245a47d-ae0f-11da-b3fb-8df7c9751e06</td>\n      <td>8</td>\n      <td>6</td>\n      <td>25444</td>\n      <td>32580</td>\n      <td>39208</td>\n      <td>0</td>\n      <td>VERFUERTH KLAUS</td>\n      <td>DER PATE 39</td>\n      <td>STOERTEBECKER</td>\n      <td>NaN</td>\n      <td>1141759232</td>\n      <td>4</td>\n      <td>4.0</td>\n    </tr>\n    <tr>\n      <th>2</th>\n      <td>ffc47bc5-ae0f-11da-b3fb-8df7c9751e06</td>\n      <td>29</td>\n      <td>26</td>\n      <td>59765</td>\n      <td>49816</td>\n      <td>37776</td>\n      <td>0</td>\n      <td>LUSCHENKING</td>\n      <td>T.K.</td>\n      <td>BONNIE PARKER</td>\n      <td>NaN</td>\n      <td>1141759469</td>\n      <td>4</td>\n      <td>4.0</td>\n    </tr>\n    <tr>\n      <th>3</th>\n      <td>7afc2c30-ae0f-11da-b3fb-8df7c9751e06</td>\n      <td>34</td>\n      <td>33</td>\n      <td>25365</td>\n      <td>37026</td>\n      <td>25346</td>\n      <td>0</td>\n      <td>PATER</td>\n      <td>FANTASIO17</td>\n      <td>KRUEMEL96</td>\n      <td>NaN</td>\n      <td>1141759247</td>\n      <td>4</td>\n      <td>4.0</td>\n    </tr>\n    <tr>\n      <th>4</th>\n      <td>7cdc0fc3-ae0f-11da-b3fb-8df7c9751e06</td>\n      <td>33</td>\n      <td>31</td>\n      <td>39775</td>\n      <td>42482</td>\n      <td>8453</td>\n      <td>0</td>\n      <td>HARRYHIRSCH</td>\n      <td>DIKO98</td>\n      <td>DOKTORBIER</td>\n      <td>NaN</td>\n      <td>1141759250</td>\n      <td>4</td>\n      <td>4.0</td>\n    </tr>\n    <tr>\n      <th>...</th>\n      <td>...</td>\n      <td>...</td>\n      <td>...</td>\n      <td>...</td>\n      <td>...</td>\n      <td>...</td>\n      <td>...</td>\n      <td>...</td>\n      <td>...</td>\n      <td>...</td>\n      <td>...</td>\n      <td>...</td>\n      <td>...</td>\n      <td>...</td>\n    </tr>\n    <tr>\n      <th>11919</th>\n      <td>6x7S67QWV3xRF</td>\n      <td>T11</td>\n      <td>3</td>\n      <td>237339</td>\n      <td>239742</td>\n      <td>8662</td>\n      <td>0</td>\n      <td>TOTTI 48</td>\n      <td>ELACHEN</td>\n      <td>HUGO 1005</td>\n      <td>NaN</td>\n      <td>1490724005</td>\n      <td>4</td>\n      <td>24242.0</td>\n    </tr>\n    <tr>\n      <th>11920</th>\n      <td>6x7S67QWV3xRO</td>\n      <td>T8</td>\n      <td>6</td>\n      <td>37068</td>\n      <td>240390</td>\n      <td>279741</td>\n      <td>0</td>\n      <td>WOLLE67</td>\n      <td>SCHACHSPIELER50</td>\n      <td>POWERPAUL1</td>\n      <td>NaN</td>\n      <td>1490724033</td>\n      <td>4</td>\n      <td>24242.0</td>\n    </tr>\n    <tr>\n      <th>11921</th>\n      <td>6x7S67QWV3xRD</td>\n      <td>T2</td>\n      <td>13</td>\n      <td>300814</td>\n      <td>70362</td>\n      <td>325948</td>\n      <td>0</td>\n      <td>SKAT AMATEUR</td>\n      <td>ELBE</td>\n      <td>EDUARD DER ZWEITE</td>\n      <td>NaN</td>\n      <td>1490724023</td>\n      <td>4</td>\n      <td>24242.0</td>\n    </tr>\n    <tr>\n      <th>11922</th>\n      <td>6x7S67QWV3xRK</td>\n      <td>T5</td>\n      <td>11</td>\n      <td>370619</td>\n      <td>172135</td>\n      <td>155110</td>\n      <td>0</td>\n      <td>PIKDAME1900</td>\n      <td>SCHROCKI5</td>\n      <td>MONSCHI1965</td>\n      <td>NaN</td>\n      <td>1490724064</td>\n      <td>4</td>\n      <td>24242.0</td>\n    </tr>\n    <tr>\n      <th>11923</th>\n      <td>6x7S67QWV3x63V</td>\n      <td>T2</td>\n      <td>13</td>\n      <td>300814</td>\n      <td>70362</td>\n      <td>325948</td>\n      <td>0</td>\n      <td>SKAT AMATEUR</td>\n      <td>ELBE</td>\n      <td>EDUARD DER ZWEITE</td>\n      <td>NaN</td>\n      <td>1490726374</td>\n      <td>4</td>\n      <td>24242.0</td>\n    </tr>\n  </tbody>\n</table>\n<p>11924 rows × 14 columns</p>\n</div>"
     },
     "execution_count": 56,
     "metadata": {},
     "output_type": "execute_result"
    }
   ],
   "source": [
    "\"\"\"The table dataset follows\"\"\"\n",
    "skat_wm_table_data_path = \"C:/Users/sasch/Desktop/Uni/Bachelorarbeit/SaschaBenz/data/dl/wm_skattisch.CSV\"\n",
    "\n",
    "skat_wm_table_data_frame = pd.read_csv(skat_wm_table_data_path, header=None)\n",
    "\n",
    "skat_wm_table_data_frame.columns = [\"IDTable\", \"Name\", \"Number\", \"PlayerID1\", \"PlayerID2\", \"PlayerID3\", \"PlayerID4\",\n",
    "                                    \"Player1\", \"Player2\", \"Player3\", \"Player4\", \"Date\", \"IDVServer\", \"Series\"]\n",
    "\n",
    "skat_wm_table_data_frame"
   ],
   "metadata": {
    "collapsed": false,
    "pycharm": {
     "name": "#%%\n"
    }
   }
  },
  {
   "cell_type": "code",
   "execution_count": 57,
   "outputs": [
    {
     "name": "stdout",
     "output_type": "stream",
     "text": [
      "IDTable          0\n",
      "Name             0\n",
      "Number           0\n",
      "PlayerID1        0\n",
      "PlayerID2        0\n",
      "PlayerID3        0\n",
      "PlayerID4        0\n",
      "Player1          0\n",
      "Player2          0\n",
      "Player3          0\n",
      "Player4      11924\n",
      "Date             0\n",
      "IDVServer        0\n",
      "Series           3\n",
      "dtype: int64\n"
     ]
    }
   ],
   "source": [
    "# Sanity Checks\n",
    "\n",
    "print(skat_wm_table_data_frame.isna().sum())"
   ],
   "metadata": {
    "collapsed": false,
    "pycharm": {
     "name": "#%%\n"
    }
   }
  },
  {
   "cell_type": "code",
   "execution_count": 58,
   "outputs": [
    {
     "name": "stdout",
     "output_type": "stream",
     "text": [
      "11924\n"
     ]
    }
   ],
   "source": [
    "print(skat_wm_table_data_frame[\"IDTable\"].size)"
   ],
   "metadata": {
    "collapsed": false,
    "pycharm": {
     "name": "#%%\n"
    }
   }
  },
  {
   "cell_type": "code",
   "execution_count": 59,
   "outputs": [
    {
     "name": "stdout",
     "output_type": "stream",
     "text": [
      "False\n"
     ]
    }
   ],
   "source": [
    "print(skat_wm_table_data_frame[\"IDTable\"].duplicated().any())"
   ],
   "metadata": {
    "collapsed": false,
    "pycharm": {
     "name": "#%%\n"
    }
   }
  },
  {
   "cell_type": "code",
   "execution_count": 60,
   "outputs": [
    {
     "name": "stdout",
     "output_type": "stream",
     "text": [
      "                                IDTable Name  Number  PlayerID1  PlayerID2  \\\n",
      "0  799a2b2e-ae0f-11da-b3fb-8df7c9751e06    2       1       8687       8628   \n",
      "1  7245a47d-ae0f-11da-b3fb-8df7c9751e06    8       6      25444      32580   \n",
      "2  ffc47bc5-ae0f-11da-b3fb-8df7c9751e06   29      26      59765      49816   \n",
      "3  7afc2c30-ae0f-11da-b3fb-8df7c9751e06   34      33      25365      37026   \n",
      "4  7cdc0fc3-ae0f-11da-b3fb-8df7c9751e06   33      31      39775      42482   \n",
      "5  71c3ca4c-ae0f-11da-b3fb-8df7c9751e06   12      15      29758      20755   \n",
      "6  7478d833-ae0f-11da-b3fb-8df7c9751e06   19      18      23585      11691   \n",
      "7  729b3e90-ae0f-11da-b3fb-8df7c9751e06   11       8      22429      24313   \n",
      "8  729990df-ae0f-11da-b3fb-8df7c9751e06   18      16      27957      17169   \n",
      "9  750b2d25-ae0f-11da-b3fb-8df7c9751e06   35      34      24470      55811   \n",
      "\n",
      "   PlayerID3  PlayerID4          Player1      Player2        Player3  Player4  \\\n",
      "0       6449          0           FRED42       MIMO46           AHAB      NaN   \n",
      "1      39208          0  VERFUERTH KLAUS  DER PATE 39  STOERTEBECKER      NaN   \n",
      "2      37776          0      LUSCHENKING         T.K.  BONNIE PARKER      NaN   \n",
      "3      25346          0            PATER   FANTASIO17      KRUEMEL96      NaN   \n",
      "4       8453          0      HARRYHIRSCH       DIKO98     DOKTORBIER      NaN   \n",
      "5      58716          0           MZUNGU        HELAU       SPADEMAN      NaN   \n",
      "6       8664          0           FOXBAT     ANJA1001  STEINRAUSCHER      NaN   \n",
      "7      11070          0          B E I L    MAGGIMANN     DEICHHEINZ      NaN   \n",
      "8      11803          0        ENTENLUTZ    PROFESSOR         SHUFTA      NaN   \n",
      "9      30141          0         SENTASSI       CAPONE      SKATMICHI      NaN   \n",
      "\n",
      "         Date  IDVServer  Series  \n",
      "0  1141759244          4     4.0  \n",
      "1  1141759232          4     4.0  \n",
      "2  1141759469          4     4.0  \n",
      "3  1141759247          4     4.0  \n",
      "4  1141759250          4     4.0  \n",
      "5  1141759231          4     4.0  \n",
      "6  1141759236          4     4.0  \n",
      "7  1141759233          4     4.0  \n",
      "8  1141759233          4     4.0  \n",
      "9  1141759237          4     4.0  \n"
     ]
    }
   ],
   "source": [
    "skat_wm_table_data = skat_wm_table_data_frame\n",
    "\n",
    "head = skat_wm_table_data.head(n=10)\n",
    "print(head)"
   ],
   "metadata": {
    "collapsed": false,
    "pycharm": {
     "name": "#%%\n"
    }
   }
  },
  {
   "cell_type": "code",
   "execution_count": 61,
   "outputs": [],
   "source": [
    "\"\"\"The game dataset follows\"\"\"\n",
    "\n",
    "skat_wm_game_data_path = \"C:/Users/sasch/Desktop/Uni/Bachelorarbeit/SaschaBenz/data/dl/wm_skattisch_spiel.CSV\"\n",
    "\n",
    "skat_wm_game_data_frame = pd.read_csv(skat_wm_game_data_path, header=None)\n",
    "\n",
    "skat_wm_game_data_frame.columns = [\"GameID\", \"IDGame\", \"IDTable\", \"IDVServer\", \"StartTime\", \"EndTime\", \"PlayerFH\",\n",
    "                                   \"PlayerMH\", \"PlayerBH\", \"Card1\", \"Card2\", \"Card3\", \"Card4\", \"Card5\", \"Card6\",\n",
    "                                   \"Card7\", \"Card8\", \"Card9\", \"Card10\", \"Card11\", \"Card12\", \"Card13\", \"Card14\",\n",
    "                                   \"Card15\", \"Card16\", \"Card17\", \"Card18\", \"Card19\", \"Card20\", \"Card21\", \"Card22\",\n",
    "                                   \"Card23\", \"Card24\", \"Card25\", \"Card26\", \"Card27\", \"Card28\", \"Card29\", \"Card30\",\n",
    "                                   \"Card31\", \"Card32\", \"CallValueFH\", \"CallValueMH\", \"CallValueBH\", \"PlayerID\", \"Spiel\",\n",
    "                                   \"With\", \"Without\", \"Hand\", \"Schneider\", \"SchneiderCalled\", \"Schwarz\",\n",
    "                                   \"SchwarzCalled\", \"Overt\", \"PointsPlayer\", \"Won\", \"Miscall\",\n",
    "                                   \"CardPointsPlayer\", \"AllPassed\", \"Surrendered\", \"PlayerPosAtTableFH\",\n",
    "                                   \"PlayerPosAtTableMH\", \"PlayerPosAtTableBH\"]"
   ],
   "metadata": {
    "collapsed": false,
    "pycharm": {
     "name": "#%%\n"
    }
   }
  },
  {
   "cell_type": "code",
   "execution_count": 62,
   "outputs": [],
   "source": [
    "head = skat_wm_game_data_frame.head(n=10)\n",
    "print(head)"
   ],
   "metadata": {
    "collapsed": false,
    "pycharm": {
     "name": "#%%\n"
    }
   }
  },
  {
   "cell_type": "code",
   "execution_count": 67,
   "outputs": [
    {
     "data": {
      "text/plain": "         CallValueFH    CallValueMH    CallValueBH       PlayerID  \\\ncount  407259.000000  407259.000000  407259.000000  407259.000000   \nmean        9.116813       9.139501       9.131648  104217.098650   \nstd        11.009870      11.015312      11.012890   94446.125838   \nmin         0.000000       0.000000       0.000000       0.000000   \n25%         0.000000       0.000000       0.000000   25552.000000   \n50%         0.000000       0.000000       0.000000   73002.000000   \n75%        18.000000      18.000000      18.000000  162419.000000   \nmax        96.000000     120.000000      90.000000  394263.000000   \n\n               Spiel           With        Without           Hand  \\\ncount  407259.000000  407259.000000  407259.000000  407259.000000   \nmean       14.545628       0.921586       0.582651       0.046823   \nstd         8.866425       1.133817       0.938203       0.211259   \nmin         0.000000       0.000000       0.000000       0.000000   \n25%        10.000000       0.000000       0.000000       0.000000   \n50%        12.000000       1.000000       0.000000       0.000000   \n75%        24.000000       2.000000       1.000000       0.000000   \nmax        59.000000      10.000000       9.000000       1.000000   \n\n           Schneider  SchneiderCalled  ...          Overt   PointsPlayer  \\\ncount  407259.000000    407259.000000  ...  407259.000000  407259.000000   \nmean        0.268701         0.026791  ...       0.025834      61.314259   \nstd         0.443285         0.161473  ...       0.158639      79.583084   \nmin         0.000000         0.000000  ...       0.000000    -530.000000   \n25%         0.000000         0.000000  ...       0.000000      70.000000   \n50%         0.000000         0.000000  ...       0.000000      80.000000   \n75%         1.000000         0.000000  ...       0.000000      98.000000   \nmax         1.000000         1.000000  ...       1.000000     314.000000   \n\n                 Won        Miscall  CardPointsPlayer      AllPassed  \\\ncount  407259.000000  407259.000000     407259.000000  407259.000000   \nmean        0.786414       0.001299         68.495139       0.075907   \nstd         0.409839       0.036017         31.010530       0.264850   \nmin         0.000000       0.000000          0.000000       0.000000   \n25%         1.000000       0.000000         60.000000       0.000000   \n50%         1.000000       0.000000         76.000000       0.000000   \n75%         1.000000       0.000000         89.000000       0.000000   \nmax         1.000000       1.000000        120.000000       1.000000   \n\n       Surrendered  PlayerPosAtTableFH  PlayerPosAtTableMH  PlayerPosAtTableBH  \ncount     407259.0       407259.000000       407259.000000       407259.000000  \nmean           0.0            1.000037            1.000081            0.999845  \nstd            0.0            0.816457            0.816544            0.816514  \nmin            0.0            0.000000            0.000000            0.000000  \n25%            0.0            0.000000            0.000000            0.000000  \n50%            0.0            1.000000            1.000000            1.000000  \n75%            0.0            2.000000            2.000000            2.000000  \nmax            0.0            2.000000            2.000000            2.000000  \n\n[8 rows x 22 columns]",
      "text/html": "<div>\n<style scoped>\n    .dataframe tbody tr th:only-of-type {\n        vertical-align: middle;\n    }\n\n    .dataframe tbody tr th {\n        vertical-align: top;\n    }\n\n    .dataframe thead th {\n        text-align: right;\n    }\n</style>\n<table border=\"1\" class=\"dataframe\">\n  <thead>\n    <tr style=\"text-align: right;\">\n      <th></th>\n      <th>CallValueFH</th>\n      <th>CallValueMH</th>\n      <th>CallValueBH</th>\n      <th>PlayerID</th>\n      <th>Spiel</th>\n      <th>With</th>\n      <th>Without</th>\n      <th>Hand</th>\n      <th>Schneider</th>\n      <th>SchneiderCalled</th>\n      <th>...</th>\n      <th>Overt</th>\n      <th>PointsPlayer</th>\n      <th>Won</th>\n      <th>Miscall</th>\n      <th>CardPointsPlayer</th>\n      <th>AllPassed</th>\n      <th>Surrendered</th>\n      <th>PlayerPosAtTableFH</th>\n      <th>PlayerPosAtTableMH</th>\n      <th>PlayerPosAtTableBH</th>\n    </tr>\n  </thead>\n  <tbody>\n    <tr>\n      <th>count</th>\n      <td>407259.000000</td>\n      <td>407259.000000</td>\n      <td>407259.000000</td>\n      <td>407259.000000</td>\n      <td>407259.000000</td>\n      <td>407259.000000</td>\n      <td>407259.000000</td>\n      <td>407259.000000</td>\n      <td>407259.000000</td>\n      <td>407259.000000</td>\n      <td>...</td>\n      <td>407259.000000</td>\n      <td>407259.000000</td>\n      <td>407259.000000</td>\n      <td>407259.000000</td>\n      <td>407259.000000</td>\n      <td>407259.000000</td>\n      <td>407259.0</td>\n      <td>407259.000000</td>\n      <td>407259.000000</td>\n      <td>407259.000000</td>\n    </tr>\n    <tr>\n      <th>mean</th>\n      <td>9.116813</td>\n      <td>9.139501</td>\n      <td>9.131648</td>\n      <td>104217.098650</td>\n      <td>14.545628</td>\n      <td>0.921586</td>\n      <td>0.582651</td>\n      <td>0.046823</td>\n      <td>0.268701</td>\n      <td>0.026791</td>\n      <td>...</td>\n      <td>0.025834</td>\n      <td>61.314259</td>\n      <td>0.786414</td>\n      <td>0.001299</td>\n      <td>68.495139</td>\n      <td>0.075907</td>\n      <td>0.0</td>\n      <td>1.000037</td>\n      <td>1.000081</td>\n      <td>0.999845</td>\n    </tr>\n    <tr>\n      <th>std</th>\n      <td>11.009870</td>\n      <td>11.015312</td>\n      <td>11.012890</td>\n      <td>94446.125838</td>\n      <td>8.866425</td>\n      <td>1.133817</td>\n      <td>0.938203</td>\n      <td>0.211259</td>\n      <td>0.443285</td>\n      <td>0.161473</td>\n      <td>...</td>\n      <td>0.158639</td>\n      <td>79.583084</td>\n      <td>0.409839</td>\n      <td>0.036017</td>\n      <td>31.010530</td>\n      <td>0.264850</td>\n      <td>0.0</td>\n      <td>0.816457</td>\n      <td>0.816544</td>\n      <td>0.816514</td>\n    </tr>\n    <tr>\n      <th>min</th>\n      <td>0.000000</td>\n      <td>0.000000</td>\n      <td>0.000000</td>\n      <td>0.000000</td>\n      <td>0.000000</td>\n      <td>0.000000</td>\n      <td>0.000000</td>\n      <td>0.000000</td>\n      <td>0.000000</td>\n      <td>0.000000</td>\n      <td>...</td>\n      <td>0.000000</td>\n      <td>-530.000000</td>\n      <td>0.000000</td>\n      <td>0.000000</td>\n      <td>0.000000</td>\n      <td>0.000000</td>\n      <td>0.0</td>\n      <td>0.000000</td>\n      <td>0.000000</td>\n      <td>0.000000</td>\n    </tr>\n    <tr>\n      <th>25%</th>\n      <td>0.000000</td>\n      <td>0.000000</td>\n      <td>0.000000</td>\n      <td>25552.000000</td>\n      <td>10.000000</td>\n      <td>0.000000</td>\n      <td>0.000000</td>\n      <td>0.000000</td>\n      <td>0.000000</td>\n      <td>0.000000</td>\n      <td>...</td>\n      <td>0.000000</td>\n      <td>70.000000</td>\n      <td>1.000000</td>\n      <td>0.000000</td>\n      <td>60.000000</td>\n      <td>0.000000</td>\n      <td>0.0</td>\n      <td>0.000000</td>\n      <td>0.000000</td>\n      <td>0.000000</td>\n    </tr>\n    <tr>\n      <th>50%</th>\n      <td>0.000000</td>\n      <td>0.000000</td>\n      <td>0.000000</td>\n      <td>73002.000000</td>\n      <td>12.000000</td>\n      <td>1.000000</td>\n      <td>0.000000</td>\n      <td>0.000000</td>\n      <td>0.000000</td>\n      <td>0.000000</td>\n      <td>...</td>\n      <td>0.000000</td>\n      <td>80.000000</td>\n      <td>1.000000</td>\n      <td>0.000000</td>\n      <td>76.000000</td>\n      <td>0.000000</td>\n      <td>0.0</td>\n      <td>1.000000</td>\n      <td>1.000000</td>\n      <td>1.000000</td>\n    </tr>\n    <tr>\n      <th>75%</th>\n      <td>18.000000</td>\n      <td>18.000000</td>\n      <td>18.000000</td>\n      <td>162419.000000</td>\n      <td>24.000000</td>\n      <td>2.000000</td>\n      <td>1.000000</td>\n      <td>0.000000</td>\n      <td>1.000000</td>\n      <td>0.000000</td>\n      <td>...</td>\n      <td>0.000000</td>\n      <td>98.000000</td>\n      <td>1.000000</td>\n      <td>0.000000</td>\n      <td>89.000000</td>\n      <td>0.000000</td>\n      <td>0.0</td>\n      <td>2.000000</td>\n      <td>2.000000</td>\n      <td>2.000000</td>\n    </tr>\n    <tr>\n      <th>max</th>\n      <td>96.000000</td>\n      <td>120.000000</td>\n      <td>90.000000</td>\n      <td>394263.000000</td>\n      <td>59.000000</td>\n      <td>10.000000</td>\n      <td>9.000000</td>\n      <td>1.000000</td>\n      <td>1.000000</td>\n      <td>1.000000</td>\n      <td>...</td>\n      <td>1.000000</td>\n      <td>314.000000</td>\n      <td>1.000000</td>\n      <td>1.000000</td>\n      <td>120.000000</td>\n      <td>1.000000</td>\n      <td>0.0</td>\n      <td>2.000000</td>\n      <td>2.000000</td>\n      <td>2.000000</td>\n    </tr>\n  </tbody>\n</table>\n<p>8 rows × 22 columns</p>\n</div>"
     },
     "execution_count": 67,
     "metadata": {},
     "output_type": "execute_result"
    }
   ],
   "source": [
    "skat_wm_game_data_frame[[\"CallValueFH\", \"CallValueMH\", \"CallValueBH\", \"PlayerID\", \"Spiel\",\n",
    "                         \"With\", \"Without\", \"Hand\", \"Schneider\", \"SchneiderCalled\", \"Schwarz\",\n",
    "                         \"SchwarzCalled\", \"Overt\", \"PointsPlayer\", \"Won\", \"Miscall\",\n",
    "                         \"CardPointsPlayer\", \"AllPassed\", \"Surrendered\"]].describe()"
   ],
   "metadata": {
    "collapsed": false,
    "pycharm": {
     "name": "#%% Sanity Checks\n"
    }
   }
  },
  {
   "cell_type": "code",
   "execution_count": null,
   "outputs": [],
   "source": [
    "skat_wm_game_data_frame[[\"CallValueFH\", \"CallValueMH\", \"CallValueBH\", \"PlayerPosAtTableFH\", \"PlayerPosAtTableMH\",\n",
    "                         \"PlayerPosAtTableBH\"]].describe()"
   ],
   "metadata": {
    "collapsed": false,
    "pycharm": {
     "name": "#%%\n"
    }
   }
  },
  {
   "cell_type": "code",
   "execution_count": null,
   "outputs": [],
   "source": [
    "print(skat_wm_game_data_frame.isna().sum().sum())"
   ],
   "metadata": {
    "collapsed": false,
    "pycharm": {
     "name": "#%%\n"
    }
   }
  },
  {
   "cell_type": "code",
   "execution_count": null,
   "outputs": [],
   "source": [
    "print(skat_wm_game_data_frame[\"GameID\"].size)"
   ],
   "metadata": {
    "collapsed": false,
    "pycharm": {
     "name": "#%%\n"
    }
   }
  },
  {
   "cell_type": "code",
   "execution_count": null,
   "outputs": [],
   "source": [
    "print(skat_wm_game_data_frame[\"GameID\"].duplicated().any())"
   ],
   "metadata": {
    "collapsed": false,
    "pycharm": {
     "name": "#%%\n"
    }
   }
  },
  {
   "cell_type": "code",
   "execution_count": null,
   "outputs": [],
   "source": [
    "print(skat_wm_game_data_frame[\"IDGame\"].duplicated().any())"
   ],
   "metadata": {
    "collapsed": false,
    "pycharm": {
     "name": "#%%\n"
    }
   }
  },
  {
   "cell_type": "code",
   "execution_count": null,
   "outputs": [],
   "source": [
    "skat_wm_game_data_frame[\"Won\"].value_counts(normalize=True)"
   ],
   "metadata": {
    "collapsed": false,
    "pycharm": {
     "name": "#%%\n"
    }
   }
  },
  {
   "cell_type": "code",
   "execution_count": null,
   "outputs": [],
   "source": [
    "skat_wm_game_data_frame[\"Schneider\"].value_counts(normalize=True)"
   ],
   "metadata": {
    "collapsed": false,
    "pycharm": {
     "name": "#%%\n"
    }
   }
  },
  {
   "cell_type": "code",
   "execution_count": null,
   "outputs": [],
   "source": [
    "skat_wm_game_data_frame[\"Schwarz\"].value_counts(normalize=True)"
   ],
   "metadata": {
    "collapsed": false,
    "pycharm": {
     "name": "#%%\n"
    }
   }
  },
  {
   "cell_type": "code",
   "execution_count": null,
   "outputs": [],
   "source": [
    "skat_wm_game_data_frame[\"Spiel\"].value_counts()"
   ],
   "metadata": {
    "collapsed": false,
    "pycharm": {
     "name": "#%%\n"
    }
   }
  },
  {
   "cell_type": "code",
   "execution_count": null,
   "outputs": [],
   "source": [
    "skat_wm_game_data_frame[\"AllPassed\"].value_counts(normalize=True)"
   ],
   "metadata": {
    "collapsed": false,
    "pycharm": {
     "name": "#%%\n"
    }
   }
  },
  {
   "cell_type": "code",
   "execution_count": null,
   "outputs": [],
   "source": [
    "skat_wm_game_data_frame[\"Miscall\"].value_counts(normalize=True)"
   ],
   "metadata": {
    "collapsed": false,
    "pycharm": {
     "name": "#%%\n"
    }
   }
  },
  {
   "cell_type": "code",
   "execution_count": null,
   "outputs": [],
   "source": [
    "skat_wm_game_data_frame[\"Surrendered\"].value_counts(normalize=True)\n"
   ],
   "metadata": {
    "collapsed": false,
    "pycharm": {
     "name": "#%%\n"
    }
   }
  },
  {
   "cell_type": "code",
   "execution_count": null,
   "outputs": [],
   "source": [
    "skat_wm_game_data_frame[\"Miscall\"].value_counts(normalize=True)\n",
    "\n"
   ],
   "metadata": {
    "collapsed": false,
    "pycharm": {
     "name": "#%%\n"
    }
   }
  }
 ],
 "metadata": {
  "kernelspec": {
   "name": "python3",
   "language": "python",
   "display_name": "Python 3"
  },
  "language_info": {
   "codemirror_mode": {
    "name": "ipython",
    "version": 2
   },
   "file_extension": ".py",
   "mimetype": "text/x-python",
   "name": "python",
   "nbconvert_exporter": "python",
   "pygments_lexer": "ipython2",
   "version": "2.7.6"
  }
 },
 "nbformat": 4,
 "nbformat_minor": 0
}