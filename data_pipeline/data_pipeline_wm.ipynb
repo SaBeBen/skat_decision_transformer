{
 "cells": [
  {
   "cell_type": "code",
   "execution_count": 32,
   "outputs": [],
   "source": [],
   "metadata": {
    "collapsed": false,
    "ExecuteTime": {
     "end_time": "2023-07-17T11:59:32.415558500Z",
     "start_time": "2023-07-17T11:59:32.195917900Z"
    }
   }
  },
  {
   "cell_type": "code",
   "execution_count": 33,
   "outputs": [],
   "source": [
    "\n",
    "import numpy as np\n",
    "import pandas as pd\n",
    "import matplotlib.pyplot as plt\n",
    "import random\n",
    "from sklearn.model_selection import train_test_split\n",
    "\n",
    "import decision_transformer\n"
   ],
   "metadata": {
    "collapsed": false,
    "ExecuteTime": {
     "end_time": "2023-07-17T11:59:32.415558500Z",
     "start_time": "2023-07-17T11:59:32.211603900Z"
    }
   }
  },
  {
   "cell_type": "code",
   "execution_count": 34,
   "outputs": [],
   "source": [
    "\n",
    "\"\"\"The dataset of the sequence the cards (cs) were played follows\"\"\"\n",
    "skat_wm_cs_data_path = \"C:/Users/sasch/Desktop/Uni/Bachelorarbeit/SaschaBenz/data/dl/wm_skattisch_kf.CSV\"\n",
    "\n",
    "skat_wm_cs_data_frame = pd.read_csv(skat_wm_cs_data_path, header=None)\n",
    "\n",
    "skat_wm_cs_data = skat_wm_cs_data_frame\n",
    "\n",
    "skat_wm_cs_data.columns = [\"GameID\", \"Sd1\", \"Sd2\", \"CNr0\", \"CNr1\", \"CNr2\", \"CNr3\", \"CNr4\", \"CNr5\", \"CNr6\", \"CNr7\",\n",
    "                           \"CNr8\", \"CNr9\", \"CNr10\", \"CNr11\", \"CNr12\", \"CNr13\", \"CNr14\", \"CNr15\", \"CNr16\", \"CNr17\",\n",
    "                           \"CNr18\", \"CNr19\", \"CNr20\", \"CNr21\", \"CNr22\", \"CNr23\", \"CNr24\", \"CNr25\", \"CNr26\", \"CNr27\",\n",
    "                           \"CNr28\", \"CNr29\", \"CNr30\", \"CNr31\", \"SurrenderedAt\"]\n"
   ],
   "metadata": {
    "collapsed": false,
    "ExecuteTime": {
     "end_time": "2023-07-17T11:59:33.628064800Z",
     "start_time": "2023-07-17T11:59:32.227633200Z"
    }
   }
  },
  {
   "cell_type": "code",
   "execution_count": 35,
   "outputs": [
    {
     "name": "stdout",
     "output_type": "stream",
     "text": [
      "<class 'pandas.core.frame.DataFrame'>\n",
      "RangeIndex: 635015 entries, 0 to 635014\n",
      "Data columns (total 36 columns):\n",
      " #   Column         Non-Null Count   Dtype\n",
      "---  ------         --------------   -----\n",
      " 0   GameID         635015 non-null  int64\n",
      " 1   Sd1            635015 non-null  int64\n",
      " 2   Sd2            635015 non-null  int64\n",
      " 3   CNr0           635015 non-null  int64\n",
      " 4   CNr1           635015 non-null  int64\n",
      " 5   CNr2           635015 non-null  int64\n",
      " 6   CNr3           635015 non-null  int64\n",
      " 7   CNr4           635015 non-null  int64\n",
      " 8   CNr5           635015 non-null  int64\n",
      " 9   CNr6           635015 non-null  int64\n",
      " 10  CNr7           635015 non-null  int64\n",
      " 11  CNr8           635015 non-null  int64\n",
      " 12  CNr9           635015 non-null  int64\n",
      " 13  CNr10          635015 non-null  int64\n",
      " 14  CNr11          635015 non-null  int64\n",
      " 15  CNr12          635015 non-null  int64\n",
      " 16  CNr13          635015 non-null  int64\n",
      " 17  CNr14          635015 non-null  int64\n",
      " 18  CNr15          635015 non-null  int64\n",
      " 19  CNr16          635015 non-null  int64\n",
      " 20  CNr17          635015 non-null  int64\n",
      " 21  CNr18          635015 non-null  int64\n",
      " 22  CNr19          635015 non-null  int64\n",
      " 23  CNr20          635015 non-null  int64\n",
      " 24  CNr21          635015 non-null  int64\n",
      " 25  CNr22          635015 non-null  int64\n",
      " 26  CNr23          635015 non-null  int64\n",
      " 27  CNr24          635015 non-null  int64\n",
      " 28  CNr25          635015 non-null  int64\n",
      " 29  CNr26          635015 non-null  int64\n",
      " 30  CNr27          635015 non-null  int64\n",
      " 31  CNr28          635015 non-null  int64\n",
      " 32  CNr29          635015 non-null  int64\n",
      " 33  CNr30          635015 non-null  int64\n",
      " 34  CNr31          635015 non-null  int64\n",
      " 35  SurrenderedAt  635015 non-null  int64\n",
      "dtypes: int64(36)\n",
      "memory usage: 174.4 MB\n"
     ]
    },
    {
     "data": {
      "text/plain": "Empty DataFrame\nColumns: []\nIndex: [0, 1, 2, 3, 4, 5, 6, 7, 8, 9, 10, 11, 12, 13, 14, 15, 16, 17, 18, 19, 20, 21, 22, 23, 24, 25, 26, 27, 28, 29, 30, 31, 32, 33, 34, 35, 36, 37, 38, 39, 40, 41, 42, 43, 44, 45, 46, 47, 48, 49, 50, 51, 52, 53, 54, 55, 56, 57, 58, 59, 60, 61, 62, 63, 64, 65, 66, 67, 68, 69, 70, 71, 72, 73, 74, 75, 76, 77, 78, 79, 80, 81, 82, 83, 84, 85, 86, 87, 88, 89, 90, 91, 92, 93, 94, 95, 96, 97, 98, 99, ...]\n\n[635015 rows x 0 columns]",
      "text/html": "<div>\n<style scoped>\n    .dataframe tbody tr th:only-of-type {\n        vertical-align: middle;\n    }\n\n    .dataframe tbody tr th {\n        vertical-align: top;\n    }\n\n    .dataframe thead th {\n        text-align: right;\n    }\n</style>\n<table border=\"1\" class=\"dataframe\">\n  <thead>\n    <tr style=\"text-align: right;\">\n      <th></th>\n    </tr>\n  </thead>\n  <tbody>\n    <tr>\n      <th>0</th>\n    </tr>\n    <tr>\n      <th>1</th>\n    </tr>\n    <tr>\n      <th>2</th>\n    </tr>\n    <tr>\n      <th>3</th>\n    </tr>\n    <tr>\n      <th>4</th>\n    </tr>\n    <tr>\n      <th>...</th>\n    </tr>\n    <tr>\n      <th>635010</th>\n    </tr>\n    <tr>\n      <th>635011</th>\n    </tr>\n    <tr>\n      <th>635012</th>\n    </tr>\n    <tr>\n      <th>635013</th>\n    </tr>\n    <tr>\n      <th>635014</th>\n    </tr>\n  </tbody>\n</table>\n<p>635015 rows × 0 columns</p>\n</div>"
     },
     "execution_count": 35,
     "metadata": {},
     "output_type": "execute_result"
    }
   ],
   "source": [
    "\n",
    "skat_wm_cs_data.info(memory_usage=\"deep\")\n",
    "\n",
    "skat_wm_cs_data_frame.select_dtypes(include=['int'])\n",
    "# converted_int = gl_int.apply(pd.to_numeric,downcast='unsigned')\n"
   ],
   "metadata": {
    "collapsed": false,
    "ExecuteTime": {
     "end_time": "2023-07-17T11:59:33.705100700Z",
     "start_time": "2023-07-17T11:59:33.628064800Z"
    }
   }
  },
  {
   "cell_type": "code",
   "execution_count": 36,
   "outputs": [],
   "source": [
    "\n",
    "# Sanity Checks\n"
   ],
   "metadata": {
    "collapsed": false,
    "ExecuteTime": {
     "end_time": "2023-07-17T11:59:33.720751Z",
     "start_time": "2023-07-17T11:59:33.705100700Z"
    }
   }
  },
  {
   "cell_type": "code",
   "execution_count": 37,
   "outputs": [
    {
     "name": "stdout",
     "output_type": "stream",
     "text": [
      "GameID            2\n",
      "Sd1              20\n",
      "Sd2              21\n",
      "CNr0              1\n",
      "CNr1              5\n",
      "CNr2             11\n",
      "CNr3             18\n",
      "CNr4              2\n",
      "CNr5             19\n",
      "CNr6             20\n",
      "CNr7              0\n",
      "CNr8             15\n",
      "CNr9             21\n",
      "CNr10            16\n",
      "CNr11            22\n",
      "CNr12            23\n",
      "CNr13            17\n",
      "CNr14            24\n",
      "CNr15            25\n",
      "CNr16             4\n",
      "CNr17            12\n",
      "CNr18             3\n",
      "CNr19            13\n",
      "CNr20            30\n",
      "CNr21            31\n",
      "CNr22            14\n",
      "CNr23            26\n",
      "CNr24             6\n",
      "CNr25            27\n",
      "CNr26             8\n",
      "CNr27            28\n",
      "CNr28             9\n",
      "CNr29            29\n",
      "CNr30            10\n",
      "CNr31             7\n",
      "SurrenderedAt    18\n",
      "Name: 1, dtype: int64\n"
     ]
    }
   ],
   "source": [
    "\n",
    "skat_wm_cs_data\n",
    "print(skat_wm_cs_data.loc[1, :])\n"
   ],
   "metadata": {
    "collapsed": false,
    "ExecuteTime": {
     "end_time": "2023-07-17T11:59:33.783858700Z",
     "start_time": "2023-07-17T11:59:33.728313100Z"
    }
   }
  },
  {
   "cell_type": "code",
   "execution_count": 38,
   "outputs": [
    {
     "name": "stdout",
     "output_type": "stream",
     "text": [
      "0\n"
     ]
    }
   ],
   "source": [
    "\n",
    "print(skat_wm_cs_data_frame.isna().sum().sum())\n"
   ],
   "metadata": {
    "collapsed": false,
    "ExecuteTime": {
     "end_time": "2023-07-17T11:59:33.863477400Z",
     "start_time": "2023-07-17T11:59:33.736884300Z"
    }
   }
  },
  {
   "cell_type": "code",
   "execution_count": 39,
   "outputs": [
    {
     "name": "stdout",
     "output_type": "stream",
     "text": [
      "635015\n"
     ]
    }
   ],
   "source": [
    "\n",
    "print(skat_wm_cs_data_frame[\"GameID\"].size)\n"
   ],
   "metadata": {
    "collapsed": false,
    "ExecuteTime": {
     "end_time": "2023-07-17T11:59:33.863477400Z",
     "start_time": "2023-07-17T11:59:33.789396200Z"
    }
   }
  },
  {
   "cell_type": "code",
   "execution_count": 40,
   "outputs": [
    {
     "name": "stdout",
     "output_type": "stream",
     "text": [
      "False\n"
     ]
    }
   ],
   "source": [
    "\n",
    "print(skat_wm_cs_data_frame[\"GameID\"].duplicated().any())\n"
   ],
   "metadata": {
    "collapsed": false,
    "ExecuteTime": {
     "end_time": "2023-07-17T11:59:33.961317700Z",
     "start_time": "2023-07-17T11:59:33.799932800Z"
    }
   }
  },
  {
   "cell_type": "code",
   "execution_count": 41,
   "outputs": [
    {
     "name": "stdout",
     "output_type": "stream",
     "text": [
      "GameID            2\n",
      "Sd1              20\n",
      "Sd2              21\n",
      "CNr0              1\n",
      "CNr1              5\n",
      "CNr2             11\n",
      "CNr3             18\n",
      "CNr4              2\n",
      "CNr5             19\n",
      "CNr6             20\n",
      "CNr7              0\n",
      "CNr8             15\n",
      "CNr9             21\n",
      "CNr10            16\n",
      "CNr11            22\n",
      "CNr12            23\n",
      "CNr13            17\n",
      "CNr14            24\n",
      "CNr15            25\n",
      "CNr16             4\n",
      "CNr17            12\n",
      "CNr18             3\n",
      "CNr19            13\n",
      "CNr20            30\n",
      "CNr21            31\n",
      "CNr22            14\n",
      "CNr23            26\n",
      "CNr24             6\n",
      "CNr25            27\n",
      "CNr26             8\n",
      "CNr27            28\n",
      "CNr28             9\n",
      "CNr29            29\n",
      "CNr30            10\n",
      "CNr31             7\n",
      "SurrenderedAt    18\n",
      "Name: 1, dtype: int64\n"
     ]
    }
   ],
   "source": [
    "\n",
    "print(skat_wm_cs_data_frame.loc[1, :])\n"
   ],
   "metadata": {
    "collapsed": false,
    "ExecuteTime": {
     "end_time": "2023-07-17T11:59:33.961317700Z",
     "start_time": "2023-07-17T11:59:33.831705400Z"
    }
   }
  },
  {
   "cell_type": "code",
   "execution_count": 42,
   "outputs": [
    {
     "name": "stdout",
     "output_type": "stream",
     "text": [
      "    GameID  Sd1  Sd2  CNr0  CNr1  CNr2  CNr3  CNr4  CNr5  CNr6  ...  CNr23  \\\n",
      "0        1   31   25     2     1    19    14     8    12     0  ...      5   \n",
      "1        2   20   21     1     5    11    18     2    19    20  ...     26   \n",
      "2        3    4    5    29    23     7     0    30    31     4  ...     11   \n",
      "3        4   30   28     2     6    28    11    21     8     0  ...     20   \n",
      "4        5    7   13     2    29    26    23     0     1    27  ...     13   \n",
      "5        6   17   18     9     8    17     6    10    18    19  ...      1   \n",
      "6        7    5   23    15    17    16     2    28    30    14  ...     31   \n",
      "7        8   18   24    10    25    21     4    22    24    23  ...     16   \n",
      "8        9   26   12     1    23    27    24    16     0    17  ...     12   \n",
      "9       10    1   21    18    30    16    19    28    11    23  ...     25   \n",
      "10      11   14   12    15    29    26     7     8    17    13  ...     25   \n",
      "11      13    6    7    21     8    29    24    15     6    30  ...      2   \n",
      "12      14    7    1     8    31    12     0    15     6    23  ...      9   \n",
      "13      15    5    6     0    12    13     1    14    30    31  ...     11   \n",
      "14      16   20   22     5    16    11     4     8    18    24  ...     14   \n",
      "15      17    5   31    14    15    16     3    17    30    18  ...     28   \n",
      "16      18   28   14    11     8    17    13     7    12     4  ...     18   \n",
      "17      19    4   25     0     3     4     9    30     6    26  ...     14   \n",
      "18      20    2   18     8     7    30     9    13    14    15  ...     23   \n",
      "19      21   14   15    18    24    25     9    15    20    26  ...     11   \n",
      "\n",
      "    CNr24  CNr25  CNr26  CNr27  CNr28  CNr29  CNr30  CNr31  SurrenderedAt  \n",
      "0      13     31     22     21     17     28     25     30             -1  \n",
      "1       6     27      8     28      9     29     10      7             18  \n",
      "2      26     16     17     18     19     13     14     10             -1  \n",
      "3      29     22     12     16     31     26     30     14             -1  \n",
      "4       6     19      8      4     15     16     18      7             -1  \n",
      "5      23     24     25     16     26     27     28     29             17  \n",
      "6       6     12     11     21      9     24      1      8             -1  \n",
      "7      31     13     26     11      5     17     18      9             -1  \n",
      "8      15     14     30      2     22     26     29     13             -1  \n",
      "9       7      6      3      2     21     22      4     24             -1  \n",
      "10     18     23     27      6     22     20     21     19             -1  \n",
      "11     27     16      4     19      5     26     13      3             -1  \n",
      "12      4      1     21      3     16     20      2     24             -1  \n",
      "13      3      4     25     26     27      5     28     29             12  \n",
      "14     21      2     20      9     28      1     22      0             -1  \n",
      "15      6     11      4     29      9     12      8     31             14  \n",
      "16     15     14     16     25     30     28     26     29             -1  \n",
      "17      5     31     25     27     20     10     29      8             -1  \n",
      "18     12     24     25     26     27     28      5     29             13  \n",
      "19      6     22     19      2      0     16      8      1             24  \n",
      "\n",
      "[20 rows x 36 columns]\n"
     ]
    }
   ],
   "source": [
    "\n",
    "skat_wm_table_data = skat_wm_cs_data_frame\n",
    "\n",
    "head = skat_wm_cs_data.head(n=20)\n",
    "print(head)\n"
   ],
   "metadata": {
    "collapsed": false,
    "ExecuteTime": {
     "end_time": "2023-07-17T11:59:33.961317700Z",
     "start_time": "2023-07-17T11:59:33.863477400Z"
    }
   }
  },
  {
   "cell_type": "code",
   "execution_count": 43,
   "outputs": [
    {
     "data": {
      "text/plain": "              IDTable Name  Number  PlayerID1  PlayerID2  PlayerID3  \\\n0      8xI7WM0WJKx3Wx  T27      13     463331     463749     463338   \n1      8xI7WM0WJKx3Bx  T20      14     463402     461372     462805   \n2      8xI7WM0WJKx3Rx  T32       2     463883     461335     463742   \n3      8xI7WM0WJKx3Ox   T8      31     463617     463214     461503   \n4      8xI7WM0WJKx3Gx  T37       1     463734     461329     463575   \n...               ...  ...     ...        ...        ...        ...   \n19786   8xNTOEMGIXxYA   T5       6     424401     427574     427916   \n19787   8xNTOEMGIXxT6   T4       7     425792     426535     426314   \n19788   8xNTOEMGIXxTV   T6       2     427915     427701     427872   \n19789   8xNTOEMGIXxT3   T3       0     427305     424499     426313   \n19790   8xNTOEMGIXxLZ   T6       2     427915     427701     427872   \n\n       PlayerID4           Player1           Player2           Player3  \\\n0              0          AS-207-1            US-126            WS-152   \n1              0          JG-208-1          WR-122-7          HC-161-4   \n2              0          WF-216-1          NP-172-2          AL-211-7   \n3              0          MB-184-1          OS-206-6          RW-171-6   \n4              0          ML-211-3          AG-193-7          KP-209-7   \n...          ...               ...               ...               ...   \n19786          0  WM#2020#MP-160-1    WM#2020#DM-161  WM#2020#TE-187-3   \n19787          0    WM#2020#JZ-336  WM#2020#HF-172-0    WM#2020#MZ-058   \n19788          0    WM#2020#JR-345    WM#2020#AZ-825  WM#2020#UK-186-7   \n19789          0  WM#2020#TR-177-1  WM#2020#HS-113-2    WM#2020#JS-204   \n19790          0    WM#2020#JR-345    WM#2020#AZ-825  WM#2020#UK-186-7   \n\n       Player4        Date  IDVServer   Series  \n0          NaN  1642251612         48  34712.0  \n1          NaN  1642251613         48  34712.0  \n2          NaN  1642251613         48  34712.0  \n3          NaN  1642251614         48  34712.0  \n4          NaN  1642251614         48  34712.0  \n...        ...         ...        ...      ...  \n19786      NaN  1583694030         48  30972.0  \n19787      NaN  1583694070         48  30972.0  \n19788      NaN  1583694047         48  30972.0  \n19789      NaN  1583694119         48  30972.0  \n19790      NaN  1583696872         48  30972.0  \n\n[19791 rows x 14 columns]",
      "text/html": "<div>\n<style scoped>\n    .dataframe tbody tr th:only-of-type {\n        vertical-align: middle;\n    }\n\n    .dataframe tbody tr th {\n        vertical-align: top;\n    }\n\n    .dataframe thead th {\n        text-align: right;\n    }\n</style>\n<table border=\"1\" class=\"dataframe\">\n  <thead>\n    <tr style=\"text-align: right;\">\n      <th></th>\n      <th>IDTable</th>\n      <th>Name</th>\n      <th>Number</th>\n      <th>PlayerID1</th>\n      <th>PlayerID2</th>\n      <th>PlayerID3</th>\n      <th>PlayerID4</th>\n      <th>Player1</th>\n      <th>Player2</th>\n      <th>Player3</th>\n      <th>Player4</th>\n      <th>Date</th>\n      <th>IDVServer</th>\n      <th>Series</th>\n    </tr>\n  </thead>\n  <tbody>\n    <tr>\n      <th>0</th>\n      <td>8xI7WM0WJKx3Wx</td>\n      <td>T27</td>\n      <td>13</td>\n      <td>463331</td>\n      <td>463749</td>\n      <td>463338</td>\n      <td>0</td>\n      <td>AS-207-1</td>\n      <td>US-126</td>\n      <td>WS-152</td>\n      <td>NaN</td>\n      <td>1642251612</td>\n      <td>48</td>\n      <td>34712.0</td>\n    </tr>\n    <tr>\n      <th>1</th>\n      <td>8xI7WM0WJKx3Bx</td>\n      <td>T20</td>\n      <td>14</td>\n      <td>463402</td>\n      <td>461372</td>\n      <td>462805</td>\n      <td>0</td>\n      <td>JG-208-1</td>\n      <td>WR-122-7</td>\n      <td>HC-161-4</td>\n      <td>NaN</td>\n      <td>1642251613</td>\n      <td>48</td>\n      <td>34712.0</td>\n    </tr>\n    <tr>\n      <th>2</th>\n      <td>8xI7WM0WJKx3Rx</td>\n      <td>T32</td>\n      <td>2</td>\n      <td>463883</td>\n      <td>461335</td>\n      <td>463742</td>\n      <td>0</td>\n      <td>WF-216-1</td>\n      <td>NP-172-2</td>\n      <td>AL-211-7</td>\n      <td>NaN</td>\n      <td>1642251613</td>\n      <td>48</td>\n      <td>34712.0</td>\n    </tr>\n    <tr>\n      <th>3</th>\n      <td>8xI7WM0WJKx3Ox</td>\n      <td>T8</td>\n      <td>31</td>\n      <td>463617</td>\n      <td>463214</td>\n      <td>461503</td>\n      <td>0</td>\n      <td>MB-184-1</td>\n      <td>OS-206-6</td>\n      <td>RW-171-6</td>\n      <td>NaN</td>\n      <td>1642251614</td>\n      <td>48</td>\n      <td>34712.0</td>\n    </tr>\n    <tr>\n      <th>4</th>\n      <td>8xI7WM0WJKx3Gx</td>\n      <td>T37</td>\n      <td>1</td>\n      <td>463734</td>\n      <td>461329</td>\n      <td>463575</td>\n      <td>0</td>\n      <td>ML-211-3</td>\n      <td>AG-193-7</td>\n      <td>KP-209-7</td>\n      <td>NaN</td>\n      <td>1642251614</td>\n      <td>48</td>\n      <td>34712.0</td>\n    </tr>\n    <tr>\n      <th>...</th>\n      <td>...</td>\n      <td>...</td>\n      <td>...</td>\n      <td>...</td>\n      <td>...</td>\n      <td>...</td>\n      <td>...</td>\n      <td>...</td>\n      <td>...</td>\n      <td>...</td>\n      <td>...</td>\n      <td>...</td>\n      <td>...</td>\n      <td>...</td>\n    </tr>\n    <tr>\n      <th>19786</th>\n      <td>8xNTOEMGIXxYA</td>\n      <td>T5</td>\n      <td>6</td>\n      <td>424401</td>\n      <td>427574</td>\n      <td>427916</td>\n      <td>0</td>\n      <td>WM#2020#MP-160-1</td>\n      <td>WM#2020#DM-161</td>\n      <td>WM#2020#TE-187-3</td>\n      <td>NaN</td>\n      <td>1583694030</td>\n      <td>48</td>\n      <td>30972.0</td>\n    </tr>\n    <tr>\n      <th>19787</th>\n      <td>8xNTOEMGIXxT6</td>\n      <td>T4</td>\n      <td>7</td>\n      <td>425792</td>\n      <td>426535</td>\n      <td>426314</td>\n      <td>0</td>\n      <td>WM#2020#JZ-336</td>\n      <td>WM#2020#HF-172-0</td>\n      <td>WM#2020#MZ-058</td>\n      <td>NaN</td>\n      <td>1583694070</td>\n      <td>48</td>\n      <td>30972.0</td>\n    </tr>\n    <tr>\n      <th>19788</th>\n      <td>8xNTOEMGIXxTV</td>\n      <td>T6</td>\n      <td>2</td>\n      <td>427915</td>\n      <td>427701</td>\n      <td>427872</td>\n      <td>0</td>\n      <td>WM#2020#JR-345</td>\n      <td>WM#2020#AZ-825</td>\n      <td>WM#2020#UK-186-7</td>\n      <td>NaN</td>\n      <td>1583694047</td>\n      <td>48</td>\n      <td>30972.0</td>\n    </tr>\n    <tr>\n      <th>19789</th>\n      <td>8xNTOEMGIXxT3</td>\n      <td>T3</td>\n      <td>0</td>\n      <td>427305</td>\n      <td>424499</td>\n      <td>426313</td>\n      <td>0</td>\n      <td>WM#2020#TR-177-1</td>\n      <td>WM#2020#HS-113-2</td>\n      <td>WM#2020#JS-204</td>\n      <td>NaN</td>\n      <td>1583694119</td>\n      <td>48</td>\n      <td>30972.0</td>\n    </tr>\n    <tr>\n      <th>19790</th>\n      <td>8xNTOEMGIXxLZ</td>\n      <td>T6</td>\n      <td>2</td>\n      <td>427915</td>\n      <td>427701</td>\n      <td>427872</td>\n      <td>0</td>\n      <td>WM#2020#JR-345</td>\n      <td>WM#2020#AZ-825</td>\n      <td>WM#2020#UK-186-7</td>\n      <td>NaN</td>\n      <td>1583696872</td>\n      <td>48</td>\n      <td>30972.0</td>\n    </tr>\n  </tbody>\n</table>\n<p>19791 rows × 14 columns</p>\n</div>"
     },
     "execution_count": 43,
     "metadata": {},
     "output_type": "execute_result"
    }
   ],
   "source": [
    "\n",
    "\"\"\"The table dataset follows\"\"\"\n",
    "skat_wm_table_data_path = \"C:/Users/sasch/Desktop/Uni/Bachelorarbeit/SaschaBenz/data/dl/wm_skattisch.CSV\"\n",
    "\n",
    "skat_wm_table_data_frame = pd.read_csv(skat_wm_table_data_path, header=None)\n",
    "\n",
    "skat_wm_table_data_frame.columns = [\"IDTable\", \"Name\", \"Number\", \"PlayerID1\", \"PlayerID2\", \"PlayerID3\", \"PlayerID4\",\n",
    "                                    \"Player1\", \"Player2\", \"Player3\", \"Player4\", \"Date\", \"IDVServer\", \"Series\"]\n",
    "\n",
    "skat_wm_table_data_frame\n"
   ],
   "metadata": {
    "collapsed": false,
    "ExecuteTime": {
     "end_time": "2023-07-17T11:59:34.053451400Z",
     "start_time": "2023-07-17T11:59:33.928769700Z"
    }
   }
  },
  {
   "cell_type": "code",
   "execution_count": 44,
   "outputs": [
    {
     "name": "stdout",
     "output_type": "stream",
     "text": [
      "IDTable          0\n",
      "Name             0\n",
      "Number           0\n",
      "PlayerID1        0\n",
      "PlayerID2        0\n",
      "PlayerID3        0\n",
      "PlayerID4        0\n",
      "Player1          0\n",
      "Player2          0\n",
      "Player3          0\n",
      "Player4      19791\n",
      "Date             0\n",
      "IDVServer        0\n",
      "Series          11\n",
      "dtype: int64\n"
     ]
    }
   ],
   "source": [
    "\n",
    "# Sanity Checks\n",
    "\n",
    "print(skat_wm_table_data_frame.isna().sum())\n"
   ],
   "metadata": {
    "collapsed": false,
    "ExecuteTime": {
     "end_time": "2023-07-17T11:59:34.053451400Z",
     "start_time": "2023-07-17T11:59:34.028771Z"
    }
   }
  },
  {
   "cell_type": "code",
   "execution_count": 45,
   "outputs": [
    {
     "name": "stdout",
     "output_type": "stream",
     "text": [
      "19791\n"
     ]
    }
   ],
   "source": [
    "\n",
    "print(skat_wm_table_data_frame[\"IDTable\"].size)\n"
   ],
   "metadata": {
    "collapsed": false,
    "ExecuteTime": {
     "end_time": "2023-07-17T11:59:34.053451400Z",
     "start_time": "2023-07-17T11:59:34.037884600Z"
    }
   }
  },
  {
   "cell_type": "code",
   "execution_count": 46,
   "outputs": [
    {
     "name": "stdout",
     "output_type": "stream",
     "text": [
      "False\n"
     ]
    }
   ],
   "source": [
    "\n",
    "print(skat_wm_table_data_frame[\"IDTable\"].duplicated().any())\n"
   ],
   "metadata": {
    "collapsed": false,
    "ExecuteTime": {
     "end_time": "2023-07-17T11:59:34.069112500Z",
     "start_time": "2023-07-17T11:59:34.053451400Z"
    }
   }
  },
  {
   "cell_type": "code",
   "execution_count": 47,
   "outputs": [
    {
     "name": "stdout",
     "output_type": "stream",
     "text": [
      "          IDTable Name  Number  PlayerID1  PlayerID2  PlayerID3  PlayerID4  \\\n",
      "0  8xI7WM0WJKx3Wx  T27      13     463331     463749     463338          0   \n",
      "1  8xI7WM0WJKx3Bx  T20      14     463402     461372     462805          0   \n",
      "2  8xI7WM0WJKx3Rx  T32       2     463883     461335     463742          0   \n",
      "3  8xI7WM0WJKx3Ox   T8      31     463617     463214     461503          0   \n",
      "4  8xI7WM0WJKx3Gx  T37       1     463734     461329     463575          0   \n",
      "5  8xI7WM0WJKx34x  T14      24     461418     464039     461420          0   \n",
      "6  8xI7WM0WJKx3Px  T21      16     462146     464033     460195          0   \n",
      "7  8xI7WM0WJKx3Xx   T5      30     461448     461502     461468          0   \n",
      "8  8xI7WM0WJKx3Zx   T7      26     462890     462496     463736          0   \n",
      "9  8xI7WM0WJKx3Kx  T26      20     461259     461406     461267          0   \n",
      "\n",
      "    Player1   Player2   Player3  Player4        Date  IDVServer   Series  \n",
      "0  AS-207-1    US-126    WS-152      NaN  1642251612         48  34712.0  \n",
      "1  JG-208-1  WR-122-7  HC-161-4      NaN  1642251613         48  34712.0  \n",
      "2  WF-216-1  NP-172-2  AL-211-7      NaN  1642251613         48  34712.0  \n",
      "3  MB-184-1  OS-206-6  RW-171-6      NaN  1642251614         48  34712.0  \n",
      "4  ML-211-3  AG-193-7  KP-209-7      NaN  1642251614         48  34712.0  \n",
      "5    HN-086    FK-779  TW-196-3      NaN  1642251615         48  34712.0  \n",
      "6  WA-129-4  MR-187-2  PH-162-5      NaN  1642251616         48  34712.0  \n",
      "7  AB-196-9  AS-151-7  BC-197-7      NaN  1642251616         48  34712.0  \n",
      "8  RR-204-9  SV-174-6  UB-211-5      NaN  1642251617         48  34712.0  \n",
      "9  WE-122-8  FL-195-7    BS-579      NaN  1642251618         48  34712.0  \n"
     ]
    }
   ],
   "source": [
    "\n",
    "head = skat_wm_table_data_frame.head(n=10)\n",
    "print(head)\n"
   ],
   "metadata": {
    "collapsed": false,
    "ExecuteTime": {
     "end_time": "2023-07-17T11:59:34.195506200Z",
     "start_time": "2023-07-17T11:59:34.084847700Z"
    }
   }
  },
  {
   "cell_type": "code",
   "execution_count": 48,
   "outputs": [],
   "source": [
    "\n",
    "\"\"\"The game dataset follows\"\"\"\n",
    "\n",
    "skat_wm_game_data_path = \"C:/Users/sasch/Desktop/Uni/Bachelorarbeit/SaschaBenz/data/dl/wm_skattisch_spiel.CSV\"\n",
    "\n",
    "skat_wm_game_data_frame = pd.read_csv(skat_wm_game_data_path, header=None)\n",
    "\n",
    "skat_wm_game_data_frame.columns = [\"GameID\", \"IDGame\", \"IDTable\", \"IDVServer\", \"StartTime\", \"EndTime\", \"PlayerFH\",\n",
    "                                   \"PlayerMH\", \"PlayerRH\", \"Card1\", \"Card2\", \"Card3\", \"Card4\", \"Card5\", \"Card6\",\n",
    "                                   \"Card7\", \"Card8\", \"Card9\", \"Card10\", \"Card11\", \"Card12\", \"Card13\", \"Card14\",\n",
    "                                   \"Card15\", \"Card16\", \"Card17\", \"Card18\", \"Card19\", \"Card20\", \"Card21\", \"Card22\",\n",
    "                                   \"Card23\", \"Card24\", \"Card25\", \"Card26\", \"Card27\", \"Card28\", \"Card29\", \"Card30\",\n",
    "                                   \"Card31\", \"Card32\", \"CallValueFH\", \"CallValueMH\", \"CallValueRH\", \"PlayerID\", \"Game\",\n",
    "                                   \"With\", \"Without\", \"Hand\", \"Schneider\", \"SchneiderCalled\", \"Schwarz\",\n",
    "                                   \"SchwarzCalled\", \"Ouvert\", \"PointsPlayer\", \"Won\", \"Miscall\",\n",
    "                                   \"CardPointsPlayer\", \"AllPassed\", \"Surrendered\", \"PlayerPosAtTableFH\",\n",
    "                                   \"PlayerPosAtTableMH\", \"PlayerPosAtTableRH\"]\n"
   ],
   "metadata": {
    "collapsed": false,
    "ExecuteTime": {
     "end_time": "2023-07-17T11:59:37.077462500Z",
     "start_time": "2023-07-17T11:59:34.116495900Z"
    }
   }
  },
  {
   "cell_type": "code",
   "execution_count": 49,
   "outputs": [
    {
     "name": "stdout",
     "output_type": "stream",
     "text": [
      "    GameID        IDGame       IDTable  IDVServer   StartTime     EndTime  \\\n",
      "0        1  8x619M13Bx36  8x619M13BxQK         48  1325948951  1325949030   \n",
      "1        2  8x619M13BxQH  8x619M13BxQK         48  1325948903  1325948948   \n",
      "2        3  8x619M13Bx3U  8x619M13BxQK         48  1325949276  1325949332   \n",
      "3        4  8x619M13Bx3C  8x619M13BxQK         48  1325949039  1325949115   \n",
      "4        5  8x619M13Bx30  8x619M13BxQK         48  1325949120  1325949181   \n",
      "5        6  8x619M13Bx32  8x619M13BxQK         48  1325949186  1325949270   \n",
      "6        7  8x619M13Bx9S  8x619M13BxQK         48  1325949595  1325949641   \n",
      "7        8  8x619M13Bx3B  8x619M13BxQK         48  1325949336  1325949402   \n",
      "8        9  8x619M13Bx3X  8x619M13BxQK         48  1325949407  1325949480   \n",
      "9       10  8x619M13Bx9V  8x619M13BxQK         48  1325949486  1325949586   \n",
      "10      11  8x619M13Bx99  8x619M13BxQK         48  1325949645  1325949724   \n",
      "11      12  8x619M13Bx9Y  8x619M13BxQK         48  1325949728  1325949739   \n",
      "12      13  8x619M13Bx38  8x619M13Bx3Q         48  1325949239  1325949323   \n",
      "13      14  8x619M13Bx31  8x619M13Bx3Q         48  1325949087  1325949164   \n",
      "14      15  8x619M13Bx3M  8x619M13Bx3Q         48  1325949170  1325949235   \n",
      "15      16  8x619M13Bx9Q  8x619M13Bx3Q         48  1325949565  1325949645   \n",
      "16      17  8x619M13Bx3E  8x619M13Bx3Q         48  1325949327  1325949372   \n",
      "17      18  8x619M13Bx3P  8x619M13Bx3Q         48  1325949376  1325949472   \n",
      "18      19  8x619M13Bx3J  8x619M13Bx3Q         48  1325949479  1325949559   \n",
      "19      20  8x619M13Bx9C  8x619M13Bx3Q         48  1325949667  1325949725   \n",
      "\n",
      "    PlayerFH  PlayerMH  PlayerRH  Card1  ...  Ouvert  PointsPlayer  Won  \\\n",
      "0     300367    300461    300364     21  ...       0          -122    0   \n",
      "1     300364    300367    300461     28  ...       0            86    1   \n",
      "2     300461    300364    300367     22  ...       0           122    1   \n",
      "3     300461    300364    300367     15  ...       0            94    1   \n",
      "4     300364    300367    300461      4  ...       0           122    1   \n",
      "5     300367    300461    300364     24  ...       0           122    1   \n",
      "6     300364    300367    300461     25  ...       0           122    1   \n",
      "7     300364    300367    300461     10  ...       0            77    1   \n",
      "8     300367    300461    300364      4  ...       0            74    1   \n",
      "9     300461    300364    300367     31  ...       0          -242    0   \n",
      "10    300367    300461    300364     12  ...       0            86    1   \n",
      "11    300461    300364    300367     12  ...       0             0    0   \n",
      "12    301193    309674    307377      5  ...       0           -86    0   \n",
      "13    309674    307377    301193      3  ...       0            77    1   \n",
      "14    307377    301193    309674     19  ...       0          -146    0   \n",
      "15    309674    307377    301193     31  ...       0            86    1   \n",
      "16    309674    307377    301193     14  ...       0           170    1   \n",
      "17    307377    301193    309674     17  ...       0            74    1   \n",
      "18    301193    309674    307377     28  ...       0          -194    0   \n",
      "19    307377    301193    309674     23  ...       0           122    1   \n",
      "\n",
      "    Miscall  CardPointsPlayer  AllPassed  Surrendered  PlayerPosAtTableFH  \\\n",
      "0         0                60          0            0                   2   \n",
      "1         0                62          0            0                   1   \n",
      "2         0               105          0            0                   0   \n",
      "3         0               102          0            0                   0   \n",
      "4         0                88          0            0                   1   \n",
      "5         0                88          0            0                   2   \n",
      "6         0               116          0            0                   1   \n",
      "7         0                80          0            0                   1   \n",
      "8         0                82          0            0                   2   \n",
      "9         0                56          0            0                   0   \n",
      "10        0                67          0            0                   2   \n",
      "11        0                 0          1            0                   0   \n",
      "12        0                58          0            0                   0   \n",
      "13        0                63          0            0                   1   \n",
      "14        0                60          0            0                   2   \n",
      "15        0                91          0            0                   1   \n",
      "16        0               120          0            0                   1   \n",
      "17        0                76          0            0                   2   \n",
      "18        0                60          0            0                   0   \n",
      "19        0                95          0            0                   2   \n",
      "\n",
      "    PlayerPosAtTableMH  PlayerPosAtTableRH  \n",
      "0                    0                   1  \n",
      "1                    2                   0  \n",
      "2                    1                   2  \n",
      "3                    1                   2  \n",
      "4                    2                   0  \n",
      "5                    0                   1  \n",
      "6                    2                   0  \n",
      "7                    2                   0  \n",
      "8                    0                   1  \n",
      "9                    1                   2  \n",
      "10                   0                   1  \n",
      "11                   1                   2  \n",
      "12                   1                   2  \n",
      "13                   2                   0  \n",
      "14                   0                   1  \n",
      "15                   2                   0  \n",
      "16                   2                   0  \n",
      "17                   0                   1  \n",
      "18                   1                   2  \n",
      "19                   0                   1  \n",
      "\n",
      "[20 rows x 63 columns]\n"
     ]
    }
   ],
   "source": [
    "\n",
    "head = skat_wm_game_data_frame.head(n=20)\n",
    "print(head)\n"
   ],
   "metadata": {
    "collapsed": false,
    "ExecuteTime": {
     "end_time": "2023-07-17T11:59:37.155196700Z",
     "start_time": "2023-07-17T11:59:37.088601400Z"
    }
   }
  },
  {
   "cell_type": "code",
   "execution_count": 50,
   "outputs": [
    {
     "name": "stdout",
     "output_type": "stream",
     "text": [
      "GameID               2\n",
      "IDGame    8x619M13BxQH\n",
      "Name: 1, dtype: object\n",
      "Card1     28\n",
      "Card2      7\n",
      "Card3     19\n",
      "Card4     14\n",
      "Card5     24\n",
      "Card6     25\n",
      "Card7      1\n",
      "Card8     20\n",
      "Card9      8\n",
      "Card10    21\n",
      "Card11    22\n",
      "Card12    18\n",
      "Card13    30\n",
      "Card14    10\n",
      "Card15    12\n",
      "Card16    29\n",
      "Card17    31\n",
      "Card18    27\n",
      "Card19    11\n",
      "Card20     0\n",
      "Card21    17\n",
      "Card22    13\n",
      "Card23     4\n",
      "Card24     5\n",
      "Card25     9\n",
      "Card26     2\n",
      "Card27    23\n",
      "Card28    26\n",
      "Card29    16\n",
      "Card30     3\n",
      "Card31     6\n",
      "Card32    15\n",
      "Name: 1, dtype: object\n",
      "Surrendered    0\n",
      "Name: 1, dtype: object\n"
     ]
    }
   ],
   "source": [
    "print(skat_wm_game_data_frame.iloc[1, 0:2])\n",
    "\n",
    "print(skat_wm_game_data_frame.iloc[1, 9:41])\n",
    "\n",
    "print(skat_wm_game_data_frame.iloc[1, 59:60])\n"
   ],
   "metadata": {
    "collapsed": false,
    "ExecuteTime": {
     "end_time": "2023-07-17T11:59:37.155823700Z",
     "start_time": "2023-07-17T11:59:37.123186100Z"
    }
   }
  },
  {
   "cell_type": "code",
   "execution_count": 51,
   "outputs": [],
   "source": [
    "colums = [0, 6, 7, 8] + list(range(9, 41)) + [44, 45, 55, 56, 58, 59]\n",
    "# list(range(9, 41))\n",
    "\n",
    "skat_data_game_frame = np.asarray(np.loadtxt(skat_wm_game_data_path, delimiter=\",\", dtype=int,\n",
    "                                             usecols=colums))\n"
   ],
   "metadata": {
    "collapsed": false,
    "ExecuteTime": {
     "end_time": "2023-07-17T12:00:10.237246400Z",
     "start_time": "2023-07-17T11:59:37.155823700Z"
    }
   }
  },
  {
   "cell_type": "code",
   "execution_count": 52,
   "outputs": [],
   "source": [
    "\n",
    "# games_only_surrendered = skat_wm_game_data_frame[\"Surrendered\"]\n",
    "\n",
    "# skat_wm_game_data_frame = skat_wm_game_data_frame[skat_wm_game_data_frame[\"Won\"] == 1]"
   ],
   "metadata": {
    "collapsed": false,
    "ExecuteTime": {
     "end_time": "2023-07-17T12:00:10.362283100Z",
     "start_time": "2023-07-17T12:00:10.237246400Z"
    }
   }
  },
  {
   "cell_type": "code",
   "execution_count": 53,
   "outputs": [],
   "source": [
    "skat_wm_game_data = skat_wm_game_data_frame.to_numpy()\n"
   ],
   "metadata": {
    "collapsed": false,
    "ExecuteTime": {
     "end_time": "2023-07-17T12:00:11.302660600Z",
     "start_time": "2023-07-17T12:00:10.650626700Z"
    }
   }
  },
  {
   "cell_type": "code",
   "execution_count": 54,
   "outputs": [],
   "source": [
    "skat_data_cs_frame = np.asarray(np.loadtxt(skat_wm_cs_data_path, delimiter=\",\", dtype=int))\n",
    "\n",
    "skat_and_cs = skat_data_cs_frame[:, 1:33]\n"
   ],
   "metadata": {
    "collapsed": false,
    "ExecuteTime": {
     "end_time": "2023-07-17T12:00:35.436567900Z",
     "start_time": "2023-07-17T12:00:11.302660600Z"
    }
   }
  },
  {
   "cell_type": "code",
   "execution_count": 62,
   "outputs": [
    {
     "name": "stdout",
     "output_type": "stream",
     "text": [
      "2\n"
     ]
    },
    {
     "ename": "TypeError",
     "evalue": "unhashable type: 'numpy.ndarray'",
     "output_type": "error",
     "traceback": [
      "\u001B[1;31m---------------------------------------------------------------------------\u001B[0m",
      "\u001B[1;31mTypeError\u001B[0m                                 Traceback (most recent call last)",
      "\u001B[1;32m<ipython-input-62-f50a6cd6b53a>\u001B[0m in \u001B[0;36m<module>\u001B[1;34m\u001B[0m\n\u001B[1;32m----> 1\u001B[1;33m \u001B[0mdata\u001B[0m \u001B[1;33m=\u001B[0m \u001B[0mdecision_transformer\u001B[0m\u001B[1;33m.\u001B[0m\u001B[0mget_data\u001B[0m\u001B[1;33m(\u001B[0m\u001B[1;33m)\u001B[0m\u001B[1;33m\u001B[0m\u001B[1;33m\u001B[0m\u001B[0m\n\u001B[0m\u001B[0;32m      2\u001B[0m \u001B[1;33m\u001B[0m\u001B[0m\n",
      "\u001B[1;32m~\\Desktop\\Uni\\Bachelorarbeit\\SaschaBenz\\software\\skat_decision_transformer\\decision_transformer.py\u001B[0m in \u001B[0;36mget_data\u001B[1;34m()\u001B[0m\n\u001B[0;32m    330\u001B[0m \u001B[1;33m\u001B[0m\u001B[0m\n\u001B[0;32m    331\u001B[0m         \u001B[1;31m# initialise the hand cards\u001B[0m\u001B[1;33m\u001B[0m\u001B[1;33m\u001B[0m\u001B[1;33m\u001B[0m\u001B[0m\n\u001B[1;32m--> 332\u001B[1;33m         \u001B[0menv\u001B[0m\u001B[1;33m.\u001B[0m\u001B[0mplayer1\u001B[0m\u001B[1;33m.\u001B[0m\u001B[0mset_cards\u001B[0m\u001B[1;33m(\u001B[0m\u001B[0mconversion1\u001B[0m\u001B[1;33m(\u001B[0m\u001B[0mmeta_and_cards\u001B[0m\u001B[1;33m[\u001B[0m\u001B[0mgame\u001B[0m\u001B[1;33m,\u001B[0m \u001B[1;36m4\u001B[0m\u001B[1;33m:\u001B[0m\u001B[1;36m14\u001B[0m\u001B[1;33m]\u001B[0m\u001B[1;33m)\u001B[0m\u001B[1;33m)\u001B[0m\u001B[1;33m\u001B[0m\u001B[1;33m\u001B[0m\u001B[0m\n\u001B[0m\u001B[0;32m    333\u001B[0m         \u001B[0menv\u001B[0m\u001B[1;33m.\u001B[0m\u001B[0mplayer2\u001B[0m\u001B[1;33m.\u001B[0m\u001B[0mset_cards\u001B[0m\u001B[1;33m(\u001B[0m\u001B[0mconversion1\u001B[0m\u001B[1;33m(\u001B[0m\u001B[0mmeta_and_cards\u001B[0m\u001B[1;33m[\u001B[0m\u001B[0mgame\u001B[0m\u001B[1;33m,\u001B[0m \u001B[1;36m14\u001B[0m\u001B[1;33m:\u001B[0m\u001B[1;36m24\u001B[0m\u001B[1;33m]\u001B[0m\u001B[1;33m)\u001B[0m\u001B[1;33m)\u001B[0m\u001B[1;33m\u001B[0m\u001B[1;33m\u001B[0m\u001B[0m\n\u001B[0;32m    334\u001B[0m         \u001B[0menv\u001B[0m\u001B[1;33m.\u001B[0m\u001B[0mplayer3\u001B[0m\u001B[1;33m.\u001B[0m\u001B[0mset_cards\u001B[0m\u001B[1;33m(\u001B[0m\u001B[0mconversion1\u001B[0m\u001B[1;33m(\u001B[0m\u001B[0mmeta_and_cards\u001B[0m\u001B[1;33m[\u001B[0m\u001B[0mgame\u001B[0m\u001B[1;33m,\u001B[0m \u001B[1;36m24\u001B[0m\u001B[1;33m:\u001B[0m\u001B[1;36m34\u001B[0m\u001B[1;33m]\u001B[0m\u001B[1;33m)\u001B[0m\u001B[1;33m)\u001B[0m\u001B[1;33m\u001B[0m\u001B[1;33m\u001B[0m\u001B[0m\n",
      "\u001B[1;32m~\\Desktop\\Uni\\Bachelorarbeit\\SaschaBenz\\software\\skat_decision_transformer\\decision_transformer.py\u001B[0m in \u001B[0;36m<lambda>\u001B[1;34m(card)\u001B[0m\n\u001B[0;32m    327\u001B[0m         \u001B[0mrewards\u001B[0m \u001B[1;33m=\u001B[0m \u001B[1;33m[\u001B[0m\u001B[1;33m]\u001B[0m\u001B[1;33m\u001B[0m\u001B[1;33m\u001B[0m\u001B[0m\n\u001B[0;32m    328\u001B[0m \u001B[1;33m\u001B[0m\u001B[0m\n\u001B[1;32m--> 329\u001B[1;33m         \u001B[0mconversion1\u001B[0m \u001B[1;33m=\u001B[0m \u001B[1;32mlambda\u001B[0m \u001B[0mcard\u001B[0m\u001B[1;33m:\u001B[0m \u001B[0mconvert_one_hot_to_card\u001B[0m\u001B[1;33m(\u001B[0m\u001B[0mcard\u001B[0m\u001B[1;33m)\u001B[0m\u001B[1;33m\u001B[0m\u001B[1;33m\u001B[0m\u001B[0m\n\u001B[0m\u001B[0;32m    330\u001B[0m \u001B[1;33m\u001B[0m\u001B[0m\n\u001B[0;32m    331\u001B[0m         \u001B[1;31m# initialise the hand cards\u001B[0m\u001B[1;33m\u001B[0m\u001B[1;33m\u001B[0m\u001B[1;33m\u001B[0m\u001B[0m\n",
      "\u001B[1;32m~\\Desktop\\Uni\\Bachelorarbeit\\SaschaBenz\\software\\skat_decision_transformer\\decision_transformer.py\u001B[0m in \u001B[0;36mconvert_one_hot_to_card\u001B[1;34m(card)\u001B[0m\n\u001B[0;32m    134\u001B[0m         \u001B[1;36m31\u001B[0m\u001B[1;33m:\u001B[0m \u001B[0mCard\u001B[0m\u001B[1;33m(\u001B[0m\u001B[0mCard\u001B[0m\u001B[1;33m.\u001B[0m\u001B[0mSuit\u001B[0m\u001B[1;33m.\u001B[0m\u001B[0mDIAMOND\u001B[0m\u001B[1;33m,\u001B[0m \u001B[0mCard\u001B[0m\u001B[1;33m.\u001B[0m\u001B[0mFace\u001B[0m\u001B[1;33m.\u001B[0m\u001B[0mSEVEN\u001B[0m\u001B[1;33m)\u001B[0m  \u001B[1;31m# 7♦\u001B[0m\u001B[1;33m\u001B[0m\u001B[1;33m\u001B[0m\u001B[0m\n\u001B[0;32m    135\u001B[0m     }\n\u001B[1;32m--> 136\u001B[1;33m     \u001B[0mconverted_card\u001B[0m \u001B[1;33m=\u001B[0m \u001B[0mvector_rep\u001B[0m\u001B[1;33m[\u001B[0m\u001B[0mcard\u001B[0m\u001B[1;33m]\u001B[0m\u001B[1;33m\u001B[0m\u001B[1;33m\u001B[0m\u001B[0m\n\u001B[0m\u001B[0;32m    137\u001B[0m \u001B[1;33m\u001B[0m\u001B[0m\n\u001B[0;32m    138\u001B[0m     \u001B[1;32mreturn\u001B[0m \u001B[0mconverted_card\u001B[0m\u001B[1;33m\u001B[0m\u001B[1;33m\u001B[0m\u001B[0m\n",
      "\u001B[1;31mTypeError\u001B[0m: unhashable type: 'numpy.ndarray'"
     ]
    }
   ],
   "source": [
    "\n"
   ],
   "metadata": {
    "collapsed": false
   }
  },
  {
   "cell_type": "code",
   "execution_count": null,
   "outputs": [],
   "source": [
    "\n",
    "skat_wm_game_data_frame[[\"CallValueFH\", \"CallValueMH\", \"CallValueRH\", \"PlayerID\", \"Game\",\n",
    "                         \"With\", \"Without\", \"Hand\", \"Schneider\", \"SchneiderCalled\", \"Schwarz\",\n",
    "                         \"SchwarzCalled\", \"Ouvert\", \"PointsPlayer\", \"Won\", \"Miscall\",\n",
    "                         \"CardPointsPlayer\", \"AllPassed\", \"Surrendered\"]].describe()\n"
   ],
   "metadata": {
    "collapsed": false
   }
  },
  {
   "cell_type": "code",
   "execution_count": null,
   "outputs": [],
   "source": [
    "\n",
    "skat_wm_game_data_frame[[\"CallValueFH\", \"CallValueMH\", \"CallValueRH\", \"PlayerPosAtTableFH\", \"PlayerPosAtTableMH\",\n",
    "                         \"PlayerPosAtTableRH\"]].describe()\n"
   ],
   "metadata": {
    "collapsed": false
   }
  },
  {
   "cell_type": "code",
   "execution_count": null,
   "outputs": [],
   "source": [
    "\n",
    "print(skat_wm_game_data_frame.isna().sum().sum())\n"
   ],
   "metadata": {
    "collapsed": false
   }
  },
  {
   "cell_type": "code",
   "execution_count": null,
   "outputs": [],
   "source": [
    "\n",
    "print(skat_wm_game_data_frame[\"GameID\"].size)\n"
   ],
   "metadata": {
    "collapsed": false
   }
  },
  {
   "cell_type": "code",
   "execution_count": null,
   "outputs": [],
   "source": [
    "\n",
    "print(skat_wm_game_data_frame[\"GameID\"].duplicated().any())\n"
   ],
   "metadata": {
    "collapsed": false
   }
  },
  {
   "cell_type": "code",
   "execution_count": null,
   "outputs": [],
   "source": [
    "\n",
    "print(skat_wm_game_data_frame[\"IDGame\"].duplicated().any())\n"
   ],
   "metadata": {
    "collapsed": false
   }
  },
  {
   "cell_type": "code",
   "execution_count": null,
   "outputs": [],
   "source": [
    "\n",
    "skat_wm_game_data_frame[\"Won\"].value_counts(normalize=True)\n"
   ],
   "metadata": {
    "collapsed": false
   }
  },
  {
   "cell_type": "code",
   "execution_count": null,
   "outputs": [],
   "source": [
    "\n",
    "skat_wm_game_data_frame[\"Schneider\"].value_counts(normalize=True)\n"
   ],
   "metadata": {
    "collapsed": false
   }
  },
  {
   "cell_type": "code",
   "execution_count": null,
   "outputs": [],
   "source": [
    "\n",
    "skat_wm_game_data_frame[\"Schwarz\"].value_counts(normalize=True)\n"
   ],
   "metadata": {
    "collapsed": false
   }
  },
  {
   "cell_type": "code",
   "execution_count": null,
   "outputs": [],
   "source": [
    "\n",
    "skat_wm_game_data_frame[\"Game\"].value_counts()\n"
   ],
   "metadata": {
    "collapsed": false
   }
  },
  {
   "cell_type": "code",
   "execution_count": null,
   "outputs": [],
   "source": [
    "\n",
    "skat_wm_game_data_frame[\"AllPassed\"].value_counts(normalize=True)\n"
   ],
   "metadata": {
    "collapsed": false
   }
  },
  {
   "cell_type": "code",
   "execution_count": null,
   "outputs": [],
   "source": [
    "\n",
    "skat_wm_game_data_frame[\"Miscall\"].value_counts(normalize=True)\n"
   ],
   "metadata": {
    "collapsed": false
   }
  },
  {
   "cell_type": "code",
   "execution_count": null,
   "outputs": [],
   "source": [
    "\n",
    "skat_wm_game_data_frame[\"Surrendered\"].value_counts(normalize=True)\n"
   ],
   "metadata": {
    "collapsed": false
   }
  },
  {
   "cell_type": "code",
   "execution_count": null,
   "outputs": [],
   "source": [
    "\n",
    "# Data Visualisation\n"
   ],
   "metadata": {
    "collapsed": false
   }
  },
  {
   "cell_type": "code",
   "execution_count": null,
   "outputs": [],
   "source": [
    "\n",
    "# Analysis of games\n",
    "game_variants = skat_wm_game_data_frame[\"Game\"].value_counts(normalize=True)\n",
    "game_variants = game_variants.rename(\n",
    "    index={24: \"Grand\", 12: \"Cross\", 11: \"Spades\", 10: \"Hearts\", 9: \"Diamonds\", 0: \"AllPassed\", 23: \"Null\",\n",
    "           46: \"Null Ouvert\", 59: \"Null Ouvert Hand\", 35: \"Null Hand\"})\n",
    "game_variants[\"Null\"] += game_variants[\"Null Ouvert\"] + game_variants[\"Null Hand\"] + game_variants[\"Null Ouvert Hand\"]\n",
    "game_variants = game_variants.drop(labels=[\"Null Ouvert\", \"Null Hand\", \"Null Ouvert Hand\"])\n"
   ],
   "metadata": {
    "collapsed": false
   }
  },
  {
   "cell_type": "code",
   "execution_count": null,
   "outputs": [],
   "source": [
    "\n",
    "# Create a pie plot showing the relative occurrence of game variants in all games\n",
    "game_variants.plot(kind=\"pie\", y=\"Game\", autopct='%1.0f%%')\n",
    "plt.savefig(\"graphics/all_games_pie_wm.png\")\n",
    "plt.show()\n",
    "\n",
    "skat_wm_game_data_frame[\"Surrendered\"].value_counts(normalize=True)\n",
    "\n",
    "skat_wm_cs_data_frame[\"SurrenderedAt\"].value_counts(normalize=True)\n",
    "\n",
    "print(len(skat_wm_game_data_frame))\n",
    "\n",
    "print(len(skat_wm_cs_data_frame))\n",
    "\n",
    "skat_wm_cs_and_game_data = skat_wm_game_data_frame.join(skat_wm_cs_data, lsuffix='_caller', rsuffix='_other')"
   ],
   "metadata": {
    "collapsed": false
   }
  },
  {
   "cell_type": "code",
   "execution_count": null,
   "outputs": [],
   "source": [
    "\n",
    "# Filter the games that were won\n",
    "games_won = skat_wm_game_data_frame[skat_wm_game_data_frame[\"Won\"] == 1]\n",
    "\n",
    "game_variants_won = games_won[\"Game\"].value_counts(normalize=True)\n",
    "game_variants_won = game_variants_won.rename(\n",
    "    index={24: \"Grand\", 12: \"Cross\", 11: \"Spades\", 10: \"Hearts\", 9: \"Diamonds\", 0: \"AllPassed\", 23: \"Null\",\n",
    "           46: \"Null Ouvert\", 59: \"Null Ouvert Hand\", 35: \"Null Hand\"})\n",
    "game_variants_won.loc[\"AllPassed\"] = 0.0\n",
    "game_variants_won\n"
   ],
   "metadata": {
    "collapsed": false
   }
  },
  {
   "cell_type": "code",
   "execution_count": null,
   "outputs": [],
   "source": [
    "\n",
    "# Filter the games that were lost\n",
    "games_lost = skat_wm_game_data_frame[skat_wm_game_data_frame[\"Won\"] == 0]\n",
    "\n",
    "game_variants_lost = games_lost[\"Game\"].value_counts(normalize=True)\n",
    "game_variants_lost = game_variants_lost.rename(\n",
    "    index={24: \"Grand\", 12: \"Cross\", 11: \"Spades\", 10: \"Hearts\", 9: \"Diamonds\", 0: \"AllPassed\", 23: \"Null\",\n",
    "           46: \"Null Ouvert\", 59: \"Null Ouvert Hand\", 35: \"Null Hand\"})\n",
    "game_variants_lost\n"
   ],
   "metadata": {
    "collapsed": false
   }
  },
  {
   "cell_type": "code",
   "execution_count": null,
   "outputs": [],
   "source": [
    "\n",
    "# Drop the games were all passed for the comparison with the won games\n",
    "# game_variants_lost = game_variants_lost.drop([\"AllPassed\"])\n",
    "\n"
   ],
   "metadata": {
    "collapsed": false
   }
  },
  {
   "cell_type": "code",
   "execution_count": null,
   "outputs": [],
   "source": [
    "\n",
    "# direct comparison of lost and won games\n",
    "comp_won_lost = pd.DataFrame({\"won\": game_variants_won,\n",
    "                              \"lost\": game_variants_lost})\n",
    "comp_won_lost.plot.barh()\n",
    "plt.savefig(\"graphics/comp_won_lost_wm.png\")\n",
    "plt.show()"
   ],
   "metadata": {
    "collapsed": false
   }
  },
  {
   "cell_type": "code",
   "execution_count": null,
   "outputs": [],
   "source": [
    "\n",
    "game_variants_won[\"Null\"] += game_variants_won[\"Null Ouvert\"] + game_variants_won[\"Null Hand\"] + game_variants_won[\n",
    "    \"Null Ouvert Hand\"]\n",
    "game_variants_won = game_variants_won.drop(labels=[\"Null Ouvert\", \"Null Hand\", \"Null Ouvert Hand\", \"AllPassed\"])\n",
    "\n",
    "# Create a pie plot showing the relative occurrence of game variants in won games\n",
    "game_variants_won.plot(kind=\"pie\", y=\"Game\", autopct='%1.0f%%')\n",
    "plt.savefig(\"graphics/won_games_pie_wm.png\")\n",
    "plt.show()\n"
   ],
   "metadata": {
    "collapsed": false
   }
  },
  {
   "cell_type": "code",
   "execution_count": null,
   "outputs": [],
   "source": [
    "\n",
    "# Data Cleansing\n"
   ],
   "metadata": {
    "collapsed": false
   }
  },
  {
   "cell_type": "code",
   "execution_count": null,
   "outputs": [],
   "source": [
    "\n",
    "# Drop irrelevant information\n",
    "games_clean = skat_wm_game_data_frame.drop([\"IDVServer\", \"StartTime\", \"EndTime\"], axis=1)\n"
   ],
   "metadata": {
    "collapsed": false
   }
  },
  {
   "cell_type": "code",
   "execution_count": null,
   "outputs": [],
   "source": [
    "games_clean.info(memory_usage=\"deep\")\n",
    "\n",
    "games_clean.select_dtypes(include=['int'])\n"
   ],
   "metadata": {
    "collapsed": false
   }
  },
  {
   "cell_type": "code",
   "execution_count": null,
   "outputs": [],
   "source": [
    "# Optimizing memory space\n",
    "games_clean.iloc[:, 3:] = games_clean.iloc[:, 3:].apply(pd.to_numeric, downcast=\"unsigned\")\n",
    "\n",
    "# games_clean.iloc[:, 6:38] = games_clean.iloc[:, 6:38].apply(pd.to_numeric, downcast=\"\")\n",
    "\n",
    "games_clean.info(memory_usage=\"deep\")"
   ],
   "metadata": {
    "collapsed": false
   }
  }
 ],
 "metadata": {
  "kernelspec": {
   "name": "python3",
   "language": "python",
   "display_name": "Python 3"
  },
  "language_info": {
   "codemirror_mode": {
    "name": "ipython",
    "version": 2
   },
   "file_extension": ".py",
   "mimetype": "text/x-python",
   "name": "python",
   "nbconvert_exporter": "python",
   "pygments_lexer": "ipython2",
   "version": "2.7.6"
  }
 },
 "nbformat": 4,
 "nbformat_minor": 0
}
