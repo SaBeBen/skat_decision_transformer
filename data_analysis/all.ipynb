{
 "cells": [
  {
   "cell_type": "code",
   "execution_count": 6,
   "metadata": {
    "pycharm": {
     "name": "#%%\n"
    }
   },
   "outputs": [],
   "source": [
    "import pandas as pd\n",
    "import plotly.figure_factory as ff"
   ]
  },
  {
   "cell_type": "code",
   "execution_count": 7,
   "metadata": {
    "pycharm": {
     "is_executing": true,
     "name": "#%%\n"
    }
   },
   "outputs": [],
   "source": [
    "# Read dt data set\n",
    "skat_dt_game_data_path = \"C:/Users/sasch/Desktop/Uni/Bachelorarbeit/SaschaBenz/data/dl/dt_skattisch_spiel.CSV\"\n",
    "\n",
    "skat_dt_game_data_frame = pd.read_csv(skat_dt_game_data_path, header=None)\n",
    "\n",
    "skat_dt_game_data_frame.columns = [\"GameID\", \"IDGame\", \"IDTable\", \"IDVServer\", \"StartTime\", \"EndTime\", \"PlayerFH\",\n",
    "                                   \"PlayerMH\", \"PlayerBH\", \"Card1\", \"Card2\", \"Card3\", \"Card4\", \"Card5\", \"Card6\",\n",
    "                                   \"Card7\", \"Card8\", \"Card9\", \"Card10\", \"Card11\", \"Card12\", \"Card13\", \"Card14\",\n",
    "                                   \"Card15\", \"Card16\", \"Card17\", \"Card18\", \"Card19\", \"Card20\", \"Card21\", \"Card22\",\n",
    "                                   \"Card23\", \"Card24\", \"Card25\", \"Card26\", \"Card27\", \"Card28\", \"Card29\", \"Card30\",\n",
    "                                   \"Card31\", \"Card32\", \"CallValueFH\", \"CallValueMH\", \"CallValueBH\", \"PlayerID\", \"Game\",\n",
    "                                   \"With\", \"Without\", \"Hand\", \"Schneider\", \"SchneiderCalled\", \"Schwarz\",\n",
    "                                   \"SchwarzCalled\", \"Overt\", \"PointsPlayer\", \"Won\", \"Miscall\",\n",
    "                                   \"CardPointsPlayer\", \"AllPassed\", \"Surrendered\", \"PlayerPosAtTableFH\",\n",
    "                                   \"PlayerPosAtTableMH\", \"PlayerPosAtTableBH\"]\n",
    "\n",
    "# Read rl data set\n",
    "skat_rl_game_data_path = \"C:/Users/sasch/Desktop/Uni/Bachelorarbeit/SaschaBenz/data/dl/rl_skattisch_spiel.CSV\"\n",
    "\n",
    "skat_rl_game_data_frame = pd.read_csv(skat_rl_game_data_path, header=None)\n",
    "\n",
    "skat_rl_game_data_frame.columns = [\"GameID\", \"IDGame\", \"IDTable\", \"IDVServer\", \"StartTime\", \"EndTime\", \"PlayerFH\",\n",
    "                                   \"PlayerMH\", \"PlayerBH\", \"Card1\", \"Card2\", \"Card3\", \"Card4\", \"Card5\", \"Card6\",\n",
    "                                   \"Card7\", \"Card8\", \"Card9\", \"Card10\", \"Card11\", \"Card12\", \"Card13\", \"Card14\",\n",
    "                                   \"Card15\", \"Card16\", \"Card17\", \"Card18\", \"Card19\", \"Card20\", \"Card21\", \"Card22\",\n",
    "                                   \"Card23\", \"Card24\", \"Card25\", \"Card26\", \"Card27\", \"Card28\", \"Card29\", \"Card30\",\n",
    "                                   \"Card31\", \"Card32\", \"CallValueFH\", \"CallValueMH\", \"CallValueBH\", \"PlayerID\", \"Game\",\n",
    "                                   \"With\", \"Without\", \"Hand\", \"Schneider\", \"SchneiderCalled\", \"Schwarz\",\n",
    "                                   \"SchwarzCalled\", \"Overt\", \"PointsPlayer\", \"Won\", \"Miscall\",\n",
    "                                   \"CardPointsPlayer\", \"AllPassed\", \"Surrendered\", \"PlayerPosAtTableFH\",\n",
    "                                   \"PlayerPosAtTableMH\", \"PlayerPosAtTableBH\"]\n",
    "\n",
    "# Read wm data set\n",
    "skat_wm_game_data_path = \"C:/Users/sasch/Desktop/Uni/Bachelorarbeit/SaschaBenz/data/dl/wm_skattisch_spiel.CSV\"\n",
    "\n",
    "skat_wm_game_data_frame = pd.read_csv(skat_wm_game_data_path, header=None)\n",
    "\n",
    "skat_wm_game_data_frame.columns = [\"GameID\", \"IDGame\", \"IDTable\", \"IDVServer\", \"StartTime\", \"EndTime\", \"PlayerFH\",\n",
    "                                   \"PlayerMH\", \"PlayerBH\", \"Card1\", \"Card2\", \"Card3\", \"Card4\", \"Card5\", \"Card6\",\n",
    "                                   \"Card7\", \"Card8\", \"Card9\", \"Card10\", \"Card11\", \"Card12\", \"Card13\", \"Card14\",\n",
    "                                   \"Card15\", \"Card16\", \"Card17\", \"Card18\", \"Card19\", \"Card20\", \"Card21\", \"Card22\",\n",
    "                                   \"Card23\", \"Card24\", \"Card25\", \"Card26\", \"Card27\", \"Card28\", \"Card29\", \"Card30\",\n",
    "                                   \"Card31\", \"Card32\", \"CallValueFH\", \"CallValueMH\", \"CallValueBH\", \"PlayerID\", \"Game\",\n",
    "                                   \"With\", \"Without\", \"Hand\", \"Schneider\", \"SchneiderCalled\", \"Schwarz\",\n",
    "                                   \"SchwarzCalled\", \"Overt\", \"PointsPlayer\", \"Won\", \"Miscall\",\n",
    "                                   \"CardPointsPlayer\", \"AllPassed\", \"Surrendered\", \"PlayerPosAtTableFH\",\n",
    "                                   \"PlayerPosAtTableMH\", \"PlayerPosAtTableBH\"]\n",
    "\n",
    "# Read dm data set\n",
    "skat_dm_game_data_path = \"C:/Users/sasch/Desktop/Uni/Bachelorarbeit/SaschaBenz/data/dl/dm_skattisch_spiel.CSV\"\n",
    "\n",
    "skat_dm_game_data_frame = pd.read_csv(skat_dm_game_data_path, header=None)\n",
    "\n",
    "skat_dm_game_data_frame.columns = [\"GameID\", \"IDGame\", \"IDTable\", \"IDVServer\", \"StartTime\", \"EndTime\", \"PlayerFH\",\n",
    "                                   \"PlayerMH\", \"PlayerBH\", \"Card1\", \"Card2\", \"Card3\", \"Card4\", \"Card5\", \"Card6\",\n",
    "                                   \"Card7\", \"Card8\", \"Card9\", \"Card10\", \"Card11\", \"Card12\", \"Card13\", \"Card14\",\n",
    "                                   \"Card15\", \"Card16\", \"Card17\", \"Card18\", \"Card19\", \"Card20\", \"Card21\", \"Card22\",\n",
    "                                   \"Card23\", \"Card24\", \"Card25\", \"Card26\", \"Card27\", \"Card28\", \"Card29\", \"Card30\",\n",
    "                                   \"Card31\", \"Card32\", \"CallValueFH\", \"CallValueMH\", \"CallValueBH\", \"PlayerID\", \"Game\",\n",
    "                                   \"With\", \"Without\", \"Hand\", \"Schneider\", \"SchneiderCalled\", \"Schwarz\",\n",
    "                                   \"SchwarzCalled\", \"Overt\", \"PointsPlayer\", \"Won\", \"Miscall\",\n",
    "                                   \"CardPointsPlayer\", \"AllPassed\", \"Surrendered\", \"PlayerPosAtTableFH\",\n",
    "                                   \"PlayerPosAtTableMH\", \"PlayerPosAtTableBH\"]\n",
    "\n",
    "# Read bl data set\n",
    "skat_bl_game_data_path = \"C:/Users/sasch/Desktop/Uni/Bachelorarbeit/SaschaBenz/data/dl/bl_skattisch_spiel.CSV\"\n",
    "\n",
    "skat_bl_game_data_frame = pd.read_csv(skat_bl_game_data_path, header=None)\n",
    "\n",
    "skat_bl_game_data_frame.columns = [\"GameID\", \"IDGame\", \"IDTable\", \"IDVServer\", \"StartTime\", \"EndTime\", \"PlayerFH\",\n",
    "                                   \"PlayerMH\", \"PlayerBH\", \"Card1\", \"Card2\", \"Card3\", \"Card4\", \"Card5\", \"Card6\",\n",
    "                                   \"Card7\", \"Card8\", \"Card9\", \"Card10\", \"Card11\", \"Card12\", \"Card13\", \"Card14\",\n",
    "                                   \"Card15\", \"Card16\", \"Card17\", \"Card18\", \"Card19\", \"Card20\", \"Card21\", \"Card22\",\n",
    "                                   \"Card23\", \"Card24\", \"Card25\", \"Card26\", \"Card27\", \"Card28\", \"Card29\", \"Card30\",\n",
    "                                   \"Card31\", \"Card32\", \"CallValueFH\", \"CallValueMH\", \"CallValueBH\", \"PlayerID\", \"Game\",\n",
    "                                   \"With\", \"Without\", \"Hand\", \"Schneider\", \"SchneiderCalled\", \"Schwarz\",\n",
    "                                   \"SchwarzCalled\", \"Overt\", \"PointsPlayer\", \"Won\", \"Miscall\",\n",
    "                                   \"CardPointsPlayer\", \"AllPassed\", \"Surrendered\", \"PlayerPosAtTableFH\",\n",
    "                                   \"PlayerPosAtTableMH\", \"PlayerPosAtTableBH\"]"
   ]
  },
  {
   "cell_type": "code",
   "execution_count": 8,
   "metadata": {
    "pycharm": {
     "is_executing": true,
     "name": "#%%\n"
    }
   },
   "outputs": [],
   "source": [
    "stats = {\n",
    "    \"dt\": [skat_dt_game_data_frame[\"GameID\"].size, skat_dt_game_data_frame[\"Won\"].value_counts(normalize=True)[1],\n",
    "           skat_dt_game_data_frame[\"Schneider\"].value_counts(normalize=True)[1],\n",
    "           skat_dt_game_data_frame[\"Schwarz\"].value_counts(normalize=True)[1],\n",
    "           skat_dt_game_data_frame[\"AllPassed\"].value_counts(normalize=True)[1],\n",
    "           skat_dt_game_data_frame[\"Miscall\"].value_counts(normalize=True)[1],\n",
    "           1 - skat_dt_game_data_frame[\"Surrendered\"].value_counts(normalize=True)[0]\n",
    "           ],\n",
    "    \"rl\": [skat_rl_game_data_frame[\"GameID\"].size, skat_rl_game_data_frame[\"Won\"].value_counts(normalize=True)[1],\n",
    "           skat_rl_game_data_frame[\"Schneider\"].value_counts(normalize=True)[1],\n",
    "           skat_rl_game_data_frame[\"Schwarz\"].value_counts(normalize=True)[1],\n",
    "           skat_rl_game_data_frame[\"AllPassed\"].value_counts(normalize=True)[1],\n",
    "           skat_rl_game_data_frame[\"Miscall\"].value_counts(normalize=True)[1],\n",
    "           1 - skat_rl_game_data_frame[\"Surrendered\"].value_counts(normalize=True)[0]\n",
    "           ],\n",
    "    \"bl\": [skat_bl_game_data_frame[\"GameID\"].size, skat_bl_game_data_frame[\"Won\"].value_counts(normalize=True)[1],\n",
    "           skat_bl_game_data_frame[\"Schneider\"].value_counts(normalize=True)[1],\n",
    "           skat_bl_game_data_frame[\"Schwarz\"].value_counts(normalize=True)[1],\n",
    "           skat_bl_game_data_frame[\"AllPassed\"].value_counts(normalize=True)[1],\n",
    "           skat_bl_game_data_frame[\"Miscall\"].value_counts(normalize=True)[1],\n",
    "           1 - skat_bl_game_data_frame[\"Surrendered\"].value_counts(normalize=True)[0]\n",
    "           ],\n",
    "    \"wm\": [skat_wm_game_data_frame[\"GameID\"].size, skat_wm_game_data_frame[\"Won\"].value_counts(normalize=True)[1],\n",
    "           skat_wm_game_data_frame[\"Schneider\"].value_counts(normalize=True)[1],\n",
    "           skat_wm_game_data_frame[\"Schwarz\"].value_counts(normalize=True)[1],\n",
    "           skat_wm_game_data_frame[\"AllPassed\"].value_counts(normalize=True)[1],\n",
    "           skat_wm_game_data_frame[\"Miscall\"].value_counts(normalize=True)[1],\n",
    "           1 - skat_wm_game_data_frame[\"Surrendered\"].value_counts(normalize=True)[0]\n",
    "           ],\n",
    "    \"dm\": [skat_dm_game_data_frame[\"GameID\"].size, skat_dm_game_data_frame[\"Won\"].value_counts(normalize=True)[1],\n",
    "           skat_dm_game_data_frame[\"Schneider\"].value_counts(normalize=True)[1],\n",
    "           skat_dm_game_data_frame[\"Schwarz\"].value_counts(normalize=True)[1],\n",
    "           skat_dm_game_data_frame[\"AllPassed\"].value_counts(normalize=True)[1],\n",
    "           skat_dm_game_data_frame[\"Miscall\"].value_counts(normalize=True)[1],\n",
    "           1 - skat_dm_game_data_frame[\"Surrendered\"].value_counts(normalize=True)[0]\n",
    "           ]\n",
    "}"
   ]
  },
  {
   "cell_type": "code",
   "execution_count": 11,
   "metadata": {
    "pycharm": {
     "is_executing": true,
     "name": "#%%\n"
    }
   },
   "outputs": [
    {
     "data": {
      "text/html": [
       "<div>\n",
       "<style scoped>\n",
       "    .dataframe tbody tr th:only-of-type {\n",
       "        vertical-align: middle;\n",
       "    }\n",
       "\n",
       "    .dataframe tbody tr th {\n",
       "        vertical-align: top;\n",
       "    }\n",
       "\n",
       "    .dataframe thead th {\n",
       "        text-align: right;\n",
       "    }\n",
       "</style>\n",
       "<table border=\"1\" class=\"dataframe\">\n",
       "  <thead>\n",
       "    <tr style=\"text-align: right;\">\n",
       "      <th></th>\n",
       "      <th>dt</th>\n",
       "      <th>rl</th>\n",
       "      <th>bl</th>\n",
       "      <th>wm</th>\n",
       "      <th>dm</th>\n",
       "    </tr>\n",
       "  </thead>\n",
       "  <tbody>\n",
       "    <tr>\n",
       "      <th># of Games</th>\n",
       "      <td>36094500.00</td>\n",
       "      <td>3.074701e+08</td>\n",
       "      <td>40725900.00</td>\n",
       "      <td>66826700.00</td>\n",
       "      <td>1.173846e+08</td>\n",
       "    </tr>\n",
       "    <tr>\n",
       "      <th>Win rate</th>\n",
       "      <td>79.90</td>\n",
       "      <td>7.914000e+01</td>\n",
       "      <td>78.64</td>\n",
       "      <td>79.77</td>\n",
       "      <td>7.991000e+01</td>\n",
       "    </tr>\n",
       "    <tr>\n",
       "      <th>Schneider</th>\n",
       "      <td>26.94</td>\n",
       "      <td>2.668000e+01</td>\n",
       "      <td>26.87</td>\n",
       "      <td>26.78</td>\n",
       "      <td>2.664000e+01</td>\n",
       "    </tr>\n",
       "    <tr>\n",
       "      <th>Schwarz</th>\n",
       "      <td>4.31</td>\n",
       "      <td>4.290000e+00</td>\n",
       "      <td>4.12</td>\n",
       "      <td>4.27</td>\n",
       "      <td>4.210000e+00</td>\n",
       "    </tr>\n",
       "    <tr>\n",
       "      <th>AllPassed</th>\n",
       "      <td>5.04</td>\n",
       "      <td>5.850000e+00</td>\n",
       "      <td>7.59</td>\n",
       "      <td>4.98</td>\n",
       "      <td>4.810000e+00</td>\n",
       "    </tr>\n",
       "    <tr>\n",
       "      <th>Miscall</th>\n",
       "      <td>0.20</td>\n",
       "      <td>2.000000e-01</td>\n",
       "      <td>0.13</td>\n",
       "      <td>0.19</td>\n",
       "      <td>2.000000e-01</td>\n",
       "    </tr>\n",
       "    <tr>\n",
       "      <th>Surrendered</th>\n",
       "      <td>35.55</td>\n",
       "      <td>6.570000e+00</td>\n",
       "      <td>0.00</td>\n",
       "      <td>7.34</td>\n",
       "      <td>5.590000e+00</td>\n",
       "    </tr>\n",
       "  </tbody>\n",
       "</table>\n",
       "</div>"
      ],
      "text/plain": [
       "                      dt            rl           bl           wm            dm\n",
       "# of Games   36094500.00  3.074701e+08  40725900.00  66826700.00  1.173846e+08\n",
       "Win rate           79.90  7.914000e+01        78.64        79.77  7.991000e+01\n",
       "Schneider          26.94  2.668000e+01        26.87        26.78  2.664000e+01\n",
       "Schwarz             4.31  4.290000e+00         4.12         4.27  4.210000e+00\n",
       "AllPassed           5.04  5.850000e+00         7.59         4.98  4.810000e+00\n",
       "Miscall             0.20  2.000000e-01         0.13         0.19  2.000000e-01\n",
       "Surrendered        35.55  6.570000e+00         0.00         7.34  5.590000e+00"
      ]
     },
     "execution_count": 11,
     "metadata": {},
     "output_type": "execute_result"
    }
   ],
   "source": [
    "stat_frame = pd.DataFrame(stats,\n",
    "                          [\"# of Games\", \"Win rate\", \"Schneider\", \"Schwarz\", \"AllPassed\", \"Miscall\", \"Surrendered\"])\n",
    "\n",
    "stat_frame.loc[:, stat_frame.columns != \"# of Games\"] = stat_frame.loc[:, stat_frame.columns != \"# of Games\"]*100\n",
    "stat_frame = stat_frame.round(2)\n",
    "\n",
    "stat_frame"
   ]
  },
  {
   "cell_type": "code",
   "execution_count": 10,
   "metadata": {
    "pycharm": {
     "is_executing": true,
     "name": "#%%\n"
    }
   },
   "outputs": [],
   "source": [
    "stat_table = ff.create_table(stat_frame)\n",
    "\n",
    "# stat_table.update_layout(autosize=False, width=600, height=500)\n",
    "stat_table.write_image(\"graphics/stat_table.png\", scale=2)"
   ]
  },
  {
   "cell_type": "code",
   "execution_count": null,
   "metadata": {},
   "outputs": [],
   "source": []
  },
  {
   "cell_type": "code",
   "execution_count": null,
   "metadata": {},
   "outputs": [],
   "source": []
  }
 ],
 "metadata": {
  "kernelspec": {
   "display_name": "Python 3",
   "language": "python",
   "name": "python3"
  },
  "language_info": {
   "codemirror_mode": {
    "name": "ipython",
    "version": 3
   },
   "file_extension": ".py",
   "mimetype": "text/x-python",
   "name": "python",
   "nbconvert_exporter": "python",
   "pygments_lexer": "ipython3",
   "version": "3.8.8"
  }
 },
 "nbformat": 4,
 "nbformat_minor": 1
}