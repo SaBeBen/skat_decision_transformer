{
 "cells": [
  {
   "cell_type": "code",
   "execution_count": 1,
   "metadata": {
    "collapsed": true,
    "pycharm": {
     "name": "#%%\n"
    }
   },
   "outputs": [],
   "source": [
    "import pandas as pd\n",
    "import random\n",
    "from sklearn.model_selection import train_test_split"
   ]
  },
  {
   "cell_type": "code",
   "execution_count": 2,
   "outputs": [],
   "source": [
    "\"\"\"The dataset of the sequence the cards (cs) were played follows\"\"\"\n",
    "skat_dt_cs_data_path = \"C:/Users/sasch/Desktop/Uni/Bachelorarbeit/SaschaBenz/data/dl/dt_skattisch_kf.CSV\"\n",
    "\n",
    "skat_dt_cs_data_frame = pd.read_csv(skat_dt_cs_data_path, header=None)\n",
    "\n",
    "# TODO: convert data to following encoding:\n",
    "# ♦, ♥, ♠, ♣, {7, 8, 9, Q, K, 10, A}, J/T\n",
    "skat_dt_cs_data = skat_dt_cs_data_frame\n",
    "\n",
    "skat_dt_cs_data.columns = [\"GameID\", \"Sd1\", \"Sd2\", \"KNr0\", \"KNr1\", \"KNr2\", \"KNr3\", \"KNr4\", \"KNr5\", \"KNr6\", \"KNr7\",\n",
    "                           \"KNr8\", \"KNr9\", \"KNr10\", \"KNr11\", \"KNr12\", \"KNr13\", \"KNr14\", \"KNr15\", \"KNr16\", \"KNr17\",\n",
    "                           \"KNr18\", \"KNr19\", \"KNr20\", \"KNr21\", \"KNr22\", \"KNr23\", \"KNr24\", \"KNr25\", \"KNr26\", \"KNr27\",\n",
    "                           \"KNr28\", \"KNr29\", \"KNr30\", \"KNr31\", \"SurrenderedAt\"]"
   ],
   "metadata": {
    "collapsed": false,
    "pycharm": {
     "name": "#%%\n"
    }
   }
  },
  {
   "cell_type": "code",
   "execution_count": 3,
   "outputs": [
    {
     "name": "stdout",
     "output_type": "stream",
     "text": [
      "0\n"
     ]
    }
   ],
   "source": [
    "# Sanity Checks\n",
    "\n",
    "print(skat_dt_cs_data_frame.isna().sum().sum())"
   ],
   "metadata": {
    "collapsed": false,
    "pycharm": {
     "name": "#%%\n"
    }
   }
  },
  {
   "cell_type": "code",
   "execution_count": 4,
   "outputs": [
    {
     "name": "stdout",
     "output_type": "stream",
     "text": [
      "342755\n"
     ]
    }
   ],
   "source": [
    "print(skat_dt_cs_data_frame[\"GameID\"].size)"
   ],
   "metadata": {
    "collapsed": false,
    "pycharm": {
     "name": "#%%\n"
    }
   }
  },
  {
   "cell_type": "code",
   "execution_count": 5,
   "outputs": [
    {
     "name": "stdout",
     "output_type": "stream",
     "text": [
      "False\n"
     ]
    }
   ],
   "source": [
    "print(skat_dt_cs_data_frame[\"GameID\"].duplicated().any())"
   ],
   "metadata": {
    "collapsed": false,
    "pycharm": {
     "name": "#%%\n"
    }
   }
  },
  {
   "cell_type": "code",
   "execution_count": 6,
   "outputs": [
    {
     "name": "stdout",
     "output_type": "stream",
     "text": [
      "   GameID  Sd1  Sd2  KNr0  KNr1  KNr2  KNr3  KNr4  KNr5  KNr6  ...  KNr23  \\\n",
      "0       3   20   22     4     5     6     3     7     8     9  ...     23   \n",
      "1       5   28   14     6     7     8     3     9    10    11  ...     23   \n",
      "2       6   20   28    12    21    22    23    16    13    15  ...      3   \n",
      "3       7    9   13     9    18    24    14    11    28    19  ...      5   \n",
      "4       8   25   17     0     2    15     1     6    16    17  ...     23   \n",
      "5       9   28   30     1     2     3     4     5     0     6  ...     23   \n",
      "6      10   29   31     8     7    20    19    18    21     6  ...     28   \n",
      "7      11   14    9    24    28    25     3    29    27    26  ...      6   \n",
      "8      12   17   25     0     2     4    12     3     1     6  ...     26   \n",
      "9      13    6   20    16    17    18    15    19    20    30  ...      4   \n",
      "\n",
      "   KNr24  KNr25  KNr26  KNr27  KNr28  KNr29  KNr30  KNr31  SurrenderedAt  \n",
      "0      0     24     25     26     27     28      1     29              0  \n",
      "1     24     25     26      4     30     27     28     29              0  \n",
      "2      7     27      9      1     31     28     11     29              1  \n",
      "3      6     29      7     12     13     21     23     27             -1  \n",
      "4     24     30     25      5     26     27     28     29              5  \n",
      "5     24     25     26     27     30     28     31     29              0  \n",
      "6      0      9      1      2     11     30     29     31              2  \n",
      "7      9     11     17      1     12     10     14     19             -1  \n",
      "8     11     31     10     27     16     28     29      9              9  \n",
      "9     14      5     27      8     28     13     29     12              0  \n",
      "\n",
      "[10 rows x 36 columns]\n"
     ]
    }
   ],
   "source": [
    "skat_dt_table_data = skat_dt_cs_data_frame\n",
    "\n",
    "head = skat_dt_cs_data.head(n=10)\n",
    "print(head)\n"
   ],
   "metadata": {
    "collapsed": false,
    "pycharm": {
     "name": "#%%\n"
    }
   }
  },
  {
   "cell_type": "code",
   "execution_count": 7,
   "outputs": [
    {
     "data": {
      "text/plain": "               IDTable Name  Number  PlayerID1  PlayerID2  PlayerID3  \\\n0       6xNW5P4VROx3Gx  T17      10     185046     203230     333351   \n1       6xNW5P4VROx34x  T21      31     410954     366609     430393   \n2       6xNW5P4VROx3Px  T49      39     387619     249360     393141   \n3       6xNW5P4VROx3Xx   T3       1     312865     422733     111307   \n4       6xNW5P4VROx3Zx  T24      16     301028     180533     445087   \n...                ...  ...     ...        ...        ...        ...   \n10483  6xIE20NDA3xIHDx   T1      11     404838     280391     471436   \n10484  6xIE20NDA3xIH5x   T5       9     467773     214914     405698   \n10485  6xIE20NDA3xIHEx   T4       6     442698     412097     348011   \n10486  6xIE20NDA3xIHWx   T8      12     474167     475314     366477   \n10487  6xIE20NDA3xIHBx  T15       2     461789     476066     471584   \n\n       PlayerID4           Player1          Player2       Player3  Player4  \\\n0              0           ULF2008          MERLIN4    GOLFPASCHA      NaN   \n1              0            TANNE6  BASTIMASTERKIEL        SFRM14      NaN   \n2              0         WAIERER51         99 BERND   .HACKI-BSC.      NaN   \n3              0       KATZENWEDEL          OSKAR68       LENKA80      NaN   \n4              0  SCHLAUBISCHLUMPF           MAXOPA        SCHADO      NaN   \n...          ...               ...              ...           ...      ...   \n10483          0             DEMED           ROJORN    REDSHARK59      NaN   \n10484          0     DAREDEVIL1963        RICOLA 80  ATENSER-JUNG      NaN   \n10485          0            MAJORB          LIPFI76        CONTER      NaN   \n10486          0          ADDOLINO       RETROTOMMY      BIKERUWE      NaN   \n10487          0        BOLGATANGA     PALERIDER322    KREISLIGA2      NaN   \n\n             Date  IDVServer  Series  \n0      1609498960         54   32643  \n1      1609498960         54   32643  \n2      1609498960         54   32643  \n3      1609498961         54   32643  \n4      1609498961         54   32643  \n...           ...        ...     ...  \n10483  1685388669         54   37217  \n10484  1685388673         54   37217  \n10485  1685388674         54   37217  \n10486  1685388689         54   37217  \n10487  1685388692         54   37217  \n\n[10488 rows x 14 columns]",
      "text/html": "<div>\n<style scoped>\n    .dataframe tbody tr th:only-of-type {\n        vertical-align: middle;\n    }\n\n    .dataframe tbody tr th {\n        vertical-align: top;\n    }\n\n    .dataframe thead th {\n        text-align: right;\n    }\n</style>\n<table border=\"1\" class=\"dataframe\">\n  <thead>\n    <tr style=\"text-align: right;\">\n      <th></th>\n      <th>IDTable</th>\n      <th>Name</th>\n      <th>Number</th>\n      <th>PlayerID1</th>\n      <th>PlayerID2</th>\n      <th>PlayerID3</th>\n      <th>PlayerID4</th>\n      <th>Player1</th>\n      <th>Player2</th>\n      <th>Player3</th>\n      <th>Player4</th>\n      <th>Date</th>\n      <th>IDVServer</th>\n      <th>Series</th>\n    </tr>\n  </thead>\n  <tbody>\n    <tr>\n      <th>0</th>\n      <td>6xNW5P4VROx3Gx</td>\n      <td>T17</td>\n      <td>10</td>\n      <td>185046</td>\n      <td>203230</td>\n      <td>333351</td>\n      <td>0</td>\n      <td>ULF2008</td>\n      <td>MERLIN4</td>\n      <td>GOLFPASCHA</td>\n      <td>NaN</td>\n      <td>1609498960</td>\n      <td>54</td>\n      <td>32643</td>\n    </tr>\n    <tr>\n      <th>1</th>\n      <td>6xNW5P4VROx34x</td>\n      <td>T21</td>\n      <td>31</td>\n      <td>410954</td>\n      <td>366609</td>\n      <td>430393</td>\n      <td>0</td>\n      <td>TANNE6</td>\n      <td>BASTIMASTERKIEL</td>\n      <td>SFRM14</td>\n      <td>NaN</td>\n      <td>1609498960</td>\n      <td>54</td>\n      <td>32643</td>\n    </tr>\n    <tr>\n      <th>2</th>\n      <td>6xNW5P4VROx3Px</td>\n      <td>T49</td>\n      <td>39</td>\n      <td>387619</td>\n      <td>249360</td>\n      <td>393141</td>\n      <td>0</td>\n      <td>WAIERER51</td>\n      <td>99 BERND</td>\n      <td>.HACKI-BSC.</td>\n      <td>NaN</td>\n      <td>1609498960</td>\n      <td>54</td>\n      <td>32643</td>\n    </tr>\n    <tr>\n      <th>3</th>\n      <td>6xNW5P4VROx3Xx</td>\n      <td>T3</td>\n      <td>1</td>\n      <td>312865</td>\n      <td>422733</td>\n      <td>111307</td>\n      <td>0</td>\n      <td>KATZENWEDEL</td>\n      <td>OSKAR68</td>\n      <td>LENKA80</td>\n      <td>NaN</td>\n      <td>1609498961</td>\n      <td>54</td>\n      <td>32643</td>\n    </tr>\n    <tr>\n      <th>4</th>\n      <td>6xNW5P4VROx3Zx</td>\n      <td>T24</td>\n      <td>16</td>\n      <td>301028</td>\n      <td>180533</td>\n      <td>445087</td>\n      <td>0</td>\n      <td>SCHLAUBISCHLUMPF</td>\n      <td>MAXOPA</td>\n      <td>SCHADO</td>\n      <td>NaN</td>\n      <td>1609498961</td>\n      <td>54</td>\n      <td>32643</td>\n    </tr>\n    <tr>\n      <th>...</th>\n      <td>...</td>\n      <td>...</td>\n      <td>...</td>\n      <td>...</td>\n      <td>...</td>\n      <td>...</td>\n      <td>...</td>\n      <td>...</td>\n      <td>...</td>\n      <td>...</td>\n      <td>...</td>\n      <td>...</td>\n      <td>...</td>\n      <td>...</td>\n    </tr>\n    <tr>\n      <th>10483</th>\n      <td>6xIE20NDA3xIHDx</td>\n      <td>T1</td>\n      <td>11</td>\n      <td>404838</td>\n      <td>280391</td>\n      <td>471436</td>\n      <td>0</td>\n      <td>DEMED</td>\n      <td>ROJORN</td>\n      <td>REDSHARK59</td>\n      <td>NaN</td>\n      <td>1685388669</td>\n      <td>54</td>\n      <td>37217</td>\n    </tr>\n    <tr>\n      <th>10484</th>\n      <td>6xIE20NDA3xIH5x</td>\n      <td>T5</td>\n      <td>9</td>\n      <td>467773</td>\n      <td>214914</td>\n      <td>405698</td>\n      <td>0</td>\n      <td>DAREDEVIL1963</td>\n      <td>RICOLA 80</td>\n      <td>ATENSER-JUNG</td>\n      <td>NaN</td>\n      <td>1685388673</td>\n      <td>54</td>\n      <td>37217</td>\n    </tr>\n    <tr>\n      <th>10485</th>\n      <td>6xIE20NDA3xIHEx</td>\n      <td>T4</td>\n      <td>6</td>\n      <td>442698</td>\n      <td>412097</td>\n      <td>348011</td>\n      <td>0</td>\n      <td>MAJORB</td>\n      <td>LIPFI76</td>\n      <td>CONTER</td>\n      <td>NaN</td>\n      <td>1685388674</td>\n      <td>54</td>\n      <td>37217</td>\n    </tr>\n    <tr>\n      <th>10486</th>\n      <td>6xIE20NDA3xIHWx</td>\n      <td>T8</td>\n      <td>12</td>\n      <td>474167</td>\n      <td>475314</td>\n      <td>366477</td>\n      <td>0</td>\n      <td>ADDOLINO</td>\n      <td>RETROTOMMY</td>\n      <td>BIKERUWE</td>\n      <td>NaN</td>\n      <td>1685388689</td>\n      <td>54</td>\n      <td>37217</td>\n    </tr>\n    <tr>\n      <th>10487</th>\n      <td>6xIE20NDA3xIHBx</td>\n      <td>T15</td>\n      <td>2</td>\n      <td>461789</td>\n      <td>476066</td>\n      <td>471584</td>\n      <td>0</td>\n      <td>BOLGATANGA</td>\n      <td>PALERIDER322</td>\n      <td>KREISLIGA2</td>\n      <td>NaN</td>\n      <td>1685388692</td>\n      <td>54</td>\n      <td>37217</td>\n    </tr>\n  </tbody>\n</table>\n<p>10488 rows × 14 columns</p>\n</div>"
     },
     "execution_count": 7,
     "metadata": {},
     "output_type": "execute_result"
    }
   ],
   "source": [
    "\"\"\"The table dataset follows\"\"\"\n",
    "skat_dt_table_data_path = \"C:/Users/sasch/Desktop/Uni/Bachelorarbeit/SaschaBenz/data/dl/dt_skattisch.CSV\"\n",
    "\n",
    "skat_dt_table_data_frame = pd.read_csv(skat_dt_table_data_path, header=None)\n",
    "\n",
    "skat_dt_table_data_frame.columns = [\"IDTable\", \"Name\", \"Number\", \"PlayerID1\", \"PlayerID2\", \"PlayerID3\", \"PlayerID4\",\n",
    "                                    \"Player1\", \"Player2\", \"Player3\", \"Player4\", \"Date\", \"IDVServer\", \"Series\"]\n",
    "\n",
    "skat_dt_table_data_frame"
   ],
   "metadata": {
    "collapsed": false,
    "pycharm": {
     "name": "#%%\n"
    }
   }
  },
  {
   "cell_type": "code",
   "execution_count": 8,
   "outputs": [
    {
     "name": "stdout",
     "output_type": "stream",
     "text": [
      "IDTable          0\n",
      "Name             0\n",
      "Number           0\n",
      "PlayerID1        0\n",
      "PlayerID2        0\n",
      "PlayerID3        0\n",
      "PlayerID4        0\n",
      "Player1          0\n",
      "Player2          0\n",
      "Player3          0\n",
      "Player4      10488\n",
      "Date             0\n",
      "IDVServer        0\n",
      "Series           0\n",
      "dtype: int64\n"
     ]
    }
   ],
   "source": [
    "# Sanity Checks\n",
    "\n",
    "print(skat_dt_table_data_frame.isna().sum())"
   ],
   "metadata": {
    "collapsed": false,
    "pycharm": {
     "name": "#%%\n"
    }
   }
  },
  {
   "cell_type": "code",
   "execution_count": 9,
   "outputs": [
    {
     "name": "stdout",
     "output_type": "stream",
     "text": [
      "10488\n"
     ]
    }
   ],
   "source": [
    "print(skat_dt_table_data_frame[\"IDTable\"].size)"
   ],
   "metadata": {
    "collapsed": false,
    "pycharm": {
     "name": "#%%\n"
    }
   }
  },
  {
   "cell_type": "code",
   "execution_count": 10,
   "outputs": [
    {
     "name": "stdout",
     "output_type": "stream",
     "text": [
      "False\n"
     ]
    }
   ],
   "source": [
    "print(skat_dt_table_data_frame[\"IDTable\"].duplicated().any())"
   ],
   "metadata": {
    "collapsed": false,
    "pycharm": {
     "name": "#%%\n"
    }
   }
  },
  {
   "cell_type": "code",
   "execution_count": 11,
   "outputs": [
    {
     "name": "stdout",
     "output_type": "stream",
     "text": [
      "          IDTable Name  Number  PlayerID1  PlayerID2  PlayerID3  PlayerID4  \\\n",
      "0  6xNW5P4VROx3Gx  T17      10     185046     203230     333351          0   \n",
      "1  6xNW5P4VROx34x  T21      31     410954     366609     430393          0   \n",
      "2  6xNW5P4VROx3Px  T49      39     387619     249360     393141          0   \n",
      "3  6xNW5P4VROx3Xx   T3       1     312865     422733     111307          0   \n",
      "4  6xNW5P4VROx3Zx  T24      16     301028     180533     445087          0   \n",
      "5  6xNW5P4VROx3Kx  T10       8     131117     169935     391162          0   \n",
      "6  6xNW5P4VROx3Hx   T2      14     370853     442886     237604          0   \n",
      "7  6xNW5P4VROx3Jx  T55      58     415767     405384     338536          0   \n",
      "8  6xNW5P4VROx3Ax  T41      47     135282     145815     235209          0   \n",
      "9  6xNW5P4VROx9Vx  T70      69     301311     151992     426195          0   \n",
      "\n",
      "            Player1          Player2       Player3  Player4        Date  \\\n",
      "0           ULF2008          MERLIN4    GOLFPASCHA      NaN  1609498960   \n",
      "1            TANNE6  BASTIMASTERKIEL        SFRM14      NaN  1609498960   \n",
      "2         WAIERER51         99 BERND   .HACKI-BSC.      NaN  1609498960   \n",
      "3       KATZENWEDEL          OSKAR68       LENKA80      NaN  1609498961   \n",
      "4  SCHLAUBISCHLUMPF           MAXOPA        SCHADO      NaN  1609498961   \n",
      "5          TANTALOS            SAECO      SCHROEMY      NaN  1609498962   \n",
      "6    SIRHENRYMORGAN           JUMPIN        SWENDY      NaN  1609498964   \n",
      "7               GO4         HEIDIE64  JOGIBAER3007      NaN  1609498964   \n",
      "8            SIRENE       KLEMMTUETE  MITSPIELER50      NaN  1609498964   \n",
      "9        BORABORA81      SAINTPAULIA    LENNY 0417      NaN  1609498964   \n",
      "\n",
      "   IDVServer  Series  \n",
      "0         54   32643  \n",
      "1         54   32643  \n",
      "2         54   32643  \n",
      "3         54   32643  \n",
      "4         54   32643  \n",
      "5         54   32643  \n",
      "6         54   32643  \n",
      "7         54   32643  \n",
      "8         54   32643  \n",
      "9         54   32643  \n"
     ]
    }
   ],
   "source": [
    "skat_dt_table_data = skat_dt_table_data_frame\n",
    "\n",
    "head = skat_dt_table_data.head(n=10)\n",
    "print(head)"
   ],
   "metadata": {
    "collapsed": false,
    "pycharm": {
     "name": "#%%\n"
    }
   }
  },
  {
   "cell_type": "code",
   "execution_count": 12,
   "outputs": [],
   "source": [
    "\"\"\"The game dataset follows\"\"\"\n",
    "\n",
    "skat_dt_game_data_path = \"C:/Users/sasch/Desktop/Uni/Bachelorarbeit/SaschaBenz/data/dl/dt_skattisch_spiel.CSV\"\n",
    "\n",
    "skat_dt_game_data_frame = pd.read_csv(skat_dt_game_data_path, header=None)\n",
    "\n",
    "skat_dt_game_data_frame.columns = [\"GameID\", \"IDGame\", \"IDTable\", \"IDVServer\", \"StartTime\", \"EndTime\", \"PlayerFH\",\n",
    "                                   \"PlayerMH\", \"PlayerBH\", \"Card1\", \"Card2\", \"Card3\", \"Card4\", \"Card5\", \"Card6\",\n",
    "                                   \"Card7\", \"Card8\", \"Card9\", \"Card10\", \"Card11\", \"Card12\", \"Card13\", \"Card14\",\n",
    "                                   \"Card15\", \"Card16\", \"Card17\", \"Card18\", \"Card19\", \"Card20\", \"Card21\", \"Card22\",\n",
    "                                   \"Card23\", \"Card24\", \"Card25\", \"Card26\", \"Card27\", \"Card28\", \"Card29\", \"Card30\",\n",
    "                                   \"Card31\", \"Card32\", \"CallValueFH\", \"CallValueMH\", \"CallValueBH\", \"PlayerID\", \"Spiel\",\n",
    "                                   \"With\", \"Without\", \"Hand\", \"Schneider\", \"SchneiderCalled\", \"Schwarz\",\n",
    "                                   \"SchwarzCalled\", \"Overt\", \"PointsPlayer\", \"Won\", \"Miscall\",\n",
    "                                   \"CardPointsPlayer\", \"AllPassed\", \"Surrendered\", \"PlayerPosAtTableFH\",\n",
    "                                   \"PlayerPosAtTableMH\", \"PlayerPosAtTableBH\"]"
   ],
   "metadata": {
    "collapsed": false,
    "pycharm": {
     "name": "#%%\n"
    }
   }
  },
  {
   "cell_type": "code",
   "execution_count": 13,
   "outputs": [
    {
     "name": "stdout",
     "output_type": "stream",
     "text": [
      "   GameID          IDGame         IDTable  IDVServer   StartTime     EndTime  \\\n",
      "0       1  6xNW5P4VROxCMx  6xNW5P4VROx94x         54  1609498973  1609498984   \n",
      "1       2  6xNW5P4VROxC8x  6xNW5P4VROxCVx         54  1609498977  1609498988   \n",
      "2       3  6xNW5P4VROxCDx  6xNW5P4VROx9Ix         54  1609498966  1609498990   \n",
      "3       4  6xNW5P4VROxCOx  6xNW5P4VROxC9x         54  1609498982  1609498995   \n",
      "4       5  6xNW5P4VROxC4x  6xNW5P4VROx9Wx         54  1609498971  1609499006   \n",
      "5       6  6xNW5P4VROxCPx  6xNW5P4VROx3Px         54  1609498960  1609499009   \n",
      "6       7  6xNW5P4VROxCZx  6xNW5P4VROx3Ax         54  1609498964  1609499020   \n",
      "7       8  6xNW5P4VROxCKx  6xNW5P4VROx97x         54  1609498965  1609499022   \n",
      "8       9  6xNW5P4VROxCHx  6xNW5P4VROx91x         54  1609498967  1609499024   \n",
      "9      10  6xNW5P4VROxCJx  6xNW5P4VROx9Dx         54  1609498970  1609499025   \n",
      "\n",
      "   PlayerFH  PlayerMH  PlayerBH  Card1  ...  Overt  PointsPlayer  Won  \\\n",
      "0    296394    150079    415723     26  ...      0             0    0   \n",
      "1    141864    432194    427799      6  ...      0             0    0   \n",
      "2    435785    211078    300814     29  ...      0           170    1   \n",
      "3    422415    299034    397510     27  ...      0             0    0   \n",
      "4    308501    249720     42628     22  ...      0           146    1   \n",
      "5    249360    393141    387619      1  ...      0            72    1   \n",
      "6    145815    235209    135282      6  ...      0            80    1   \n",
      "7     90586    279697    238559      4  ...      0           122    1   \n",
      "8    360992    254202    101171     17  ...      1            96    1   \n",
      "9     61826    160120    317632      2  ...      0           122    1   \n",
      "\n",
      "   Miscall  CardPointsPlayer  AllPassed  Surrendered  PlayerPosAtTableFH  \\\n",
      "0        0                 0          1            0                   1   \n",
      "1        0                 0          1            0                   1   \n",
      "2        0               120          0            3                   1   \n",
      "3        0                 0          1            0                   1   \n",
      "4        0               120          0            3                   1   \n",
      "5        0                71          0            2                   1   \n",
      "6        0                70          0            0                   1   \n",
      "7        0                77          0            3                   1   \n",
      "8        0                 0          0            3                   1   \n",
      "9        0                70          0            3                   1   \n",
      "\n",
      "   PlayerPosAtTableMH  PlayerPosAtTableBH  \n",
      "0                   2                   0  \n",
      "1                   2                   0  \n",
      "2                   2                   0  \n",
      "3                   2                   0  \n",
      "4                   2                   0  \n",
      "5                   2                   0  \n",
      "6                   2                   0  \n",
      "7                   2                   0  \n",
      "8                   2                   0  \n",
      "9                   2                   0  \n",
      "\n",
      "[10 rows x 63 columns]\n"
     ]
    }
   ],
   "source": [
    "head = skat_dt_game_data_frame.head(n=10)\n",
    "print(head)"
   ],
   "metadata": {
    "collapsed": false,
    "pycharm": {
     "name": "#%%\n"
    }
   }
  },
  {
   "cell_type": "code",
   "execution_count": 14,
   "outputs": [
    {
     "data": {
      "text/plain": "         CallValueFH    CallValueMH    CallValueBH      PlayerID  \\\ncount  360945.000000  360945.000000  360945.000000  360945.00000   \nmean       10.340659      10.349386      10.312444  292437.12941   \nstd        11.666545      11.664467      11.659925  145569.51070   \nmin         0.000000       0.000000       0.000000       0.00000   \n25%         0.000000       0.000000       0.000000  181538.00000   \n50%         0.000000       0.000000       0.000000  338536.00000   \n75%        18.000000      18.000000      18.000000  418488.00000   \nmax       120.000000     120.000000     120.000000  476431.00000   \n\n               Spiel           With        Without           Hand  \\\ncount  360945.000000  360945.000000  360945.000000  360945.000000   \nmean       15.236690       0.925299       0.627073       0.056859   \nstd         8.761968       1.130585       0.983856       0.231573   \nmin         0.000000       0.000000       0.000000       0.000000   \n25%        10.000000       0.000000       0.000000       0.000000   \n50%        12.000000       1.000000       0.000000       0.000000   \n75%        24.000000       2.000000       1.000000       0.000000   \nmax        59.000000      10.000000      11.000000       1.000000   \n\n           Schneider  SchneiderCalled        Schwarz  SchwarzCalled  \\\ncount  360945.000000    360945.000000  360945.000000  360945.000000   \nmean        0.269379         0.028835       0.043095       0.027705   \nstd         0.443638         0.167344       0.203072       0.164127   \nmin         0.000000         0.000000       0.000000       0.000000   \n25%         0.000000         0.000000       0.000000       0.000000   \n50%         0.000000         0.000000       0.000000       0.000000   \n75%         1.000000         0.000000       0.000000       0.000000   \nmax         1.000000         1.000000       1.000000       1.000000   \n\n               Overt   PointsPlayer            Won        Miscall  \\\ncount  360945.000000  360945.000000  360945.000000  360945.000000   \nmean        0.027694      61.369001       0.799028       0.002036   \nstd         0.164095      83.083890       0.400728       0.045080   \nmin         0.000000    -578.000000       0.000000       0.000000   \n25%         0.000000      70.000000       1.000000       0.000000   \n50%         0.000000      83.000000       1.000000       0.000000   \n75%         0.000000      98.000000       1.000000       0.000000   \nmax         1.000000     314.000000       1.000000       1.000000   \n\n       CardPointsPlayer      AllPassed    Surrendered  \ncount     360945.000000  360945.000000  360945.000000  \nmean          69.657751       0.050395       0.990442  \nstd           29.495155       0.218760       1.363921  \nmin            0.000000       0.000000       0.000000  \n25%           61.000000       0.000000       0.000000  \n50%           76.000000       0.000000       0.000000  \n75%           89.000000       0.000000       3.000000  \nmax          120.000000       1.000000       3.000000  ",
      "text/html": "<div>\n<style scoped>\n    .dataframe tbody tr th:only-of-type {\n        vertical-align: middle;\n    }\n\n    .dataframe tbody tr th {\n        vertical-align: top;\n    }\n\n    .dataframe thead th {\n        text-align: right;\n    }\n</style>\n<table border=\"1\" class=\"dataframe\">\n  <thead>\n    <tr style=\"text-align: right;\">\n      <th></th>\n      <th>CallValueFH</th>\n      <th>CallValueMH</th>\n      <th>CallValueBH</th>\n      <th>PlayerID</th>\n      <th>Spiel</th>\n      <th>With</th>\n      <th>Without</th>\n      <th>Hand</th>\n      <th>Schneider</th>\n      <th>SchneiderCalled</th>\n      <th>Schwarz</th>\n      <th>SchwarzCalled</th>\n      <th>Overt</th>\n      <th>PointsPlayer</th>\n      <th>Won</th>\n      <th>Miscall</th>\n      <th>CardPointsPlayer</th>\n      <th>AllPassed</th>\n      <th>Surrendered</th>\n    </tr>\n  </thead>\n  <tbody>\n    <tr>\n      <th>count</th>\n      <td>360945.000000</td>\n      <td>360945.000000</td>\n      <td>360945.000000</td>\n      <td>360945.00000</td>\n      <td>360945.000000</td>\n      <td>360945.000000</td>\n      <td>360945.000000</td>\n      <td>360945.000000</td>\n      <td>360945.000000</td>\n      <td>360945.000000</td>\n      <td>360945.000000</td>\n      <td>360945.000000</td>\n      <td>360945.000000</td>\n      <td>360945.000000</td>\n      <td>360945.000000</td>\n      <td>360945.000000</td>\n      <td>360945.000000</td>\n      <td>360945.000000</td>\n      <td>360945.000000</td>\n    </tr>\n    <tr>\n      <th>mean</th>\n      <td>10.340659</td>\n      <td>10.349386</td>\n      <td>10.312444</td>\n      <td>292437.12941</td>\n      <td>15.236690</td>\n      <td>0.925299</td>\n      <td>0.627073</td>\n      <td>0.056859</td>\n      <td>0.269379</td>\n      <td>0.028835</td>\n      <td>0.043095</td>\n      <td>0.027705</td>\n      <td>0.027694</td>\n      <td>61.369001</td>\n      <td>0.799028</td>\n      <td>0.002036</td>\n      <td>69.657751</td>\n      <td>0.050395</td>\n      <td>0.990442</td>\n    </tr>\n    <tr>\n      <th>std</th>\n      <td>11.666545</td>\n      <td>11.664467</td>\n      <td>11.659925</td>\n      <td>145569.51070</td>\n      <td>8.761968</td>\n      <td>1.130585</td>\n      <td>0.983856</td>\n      <td>0.231573</td>\n      <td>0.443638</td>\n      <td>0.167344</td>\n      <td>0.203072</td>\n      <td>0.164127</td>\n      <td>0.164095</td>\n      <td>83.083890</td>\n      <td>0.400728</td>\n      <td>0.045080</td>\n      <td>29.495155</td>\n      <td>0.218760</td>\n      <td>1.363921</td>\n    </tr>\n    <tr>\n      <th>min</th>\n      <td>0.000000</td>\n      <td>0.000000</td>\n      <td>0.000000</td>\n      <td>0.00000</td>\n      <td>0.000000</td>\n      <td>0.000000</td>\n      <td>0.000000</td>\n      <td>0.000000</td>\n      <td>0.000000</td>\n      <td>0.000000</td>\n      <td>0.000000</td>\n      <td>0.000000</td>\n      <td>0.000000</td>\n      <td>-578.000000</td>\n      <td>0.000000</td>\n      <td>0.000000</td>\n      <td>0.000000</td>\n      <td>0.000000</td>\n      <td>0.000000</td>\n    </tr>\n    <tr>\n      <th>25%</th>\n      <td>0.000000</td>\n      <td>0.000000</td>\n      <td>0.000000</td>\n      <td>181538.00000</td>\n      <td>10.000000</td>\n      <td>0.000000</td>\n      <td>0.000000</td>\n      <td>0.000000</td>\n      <td>0.000000</td>\n      <td>0.000000</td>\n      <td>0.000000</td>\n      <td>0.000000</td>\n      <td>0.000000</td>\n      <td>70.000000</td>\n      <td>1.000000</td>\n      <td>0.000000</td>\n      <td>61.000000</td>\n      <td>0.000000</td>\n      <td>0.000000</td>\n    </tr>\n    <tr>\n      <th>50%</th>\n      <td>0.000000</td>\n      <td>0.000000</td>\n      <td>0.000000</td>\n      <td>338536.00000</td>\n      <td>12.000000</td>\n      <td>1.000000</td>\n      <td>0.000000</td>\n      <td>0.000000</td>\n      <td>0.000000</td>\n      <td>0.000000</td>\n      <td>0.000000</td>\n      <td>0.000000</td>\n      <td>0.000000</td>\n      <td>83.000000</td>\n      <td>1.000000</td>\n      <td>0.000000</td>\n      <td>76.000000</td>\n      <td>0.000000</td>\n      <td>0.000000</td>\n    </tr>\n    <tr>\n      <th>75%</th>\n      <td>18.000000</td>\n      <td>18.000000</td>\n      <td>18.000000</td>\n      <td>418488.00000</td>\n      <td>24.000000</td>\n      <td>2.000000</td>\n      <td>1.000000</td>\n      <td>0.000000</td>\n      <td>1.000000</td>\n      <td>0.000000</td>\n      <td>0.000000</td>\n      <td>0.000000</td>\n      <td>0.000000</td>\n      <td>98.000000</td>\n      <td>1.000000</td>\n      <td>0.000000</td>\n      <td>89.000000</td>\n      <td>0.000000</td>\n      <td>3.000000</td>\n    </tr>\n    <tr>\n      <th>max</th>\n      <td>120.000000</td>\n      <td>120.000000</td>\n      <td>120.000000</td>\n      <td>476431.00000</td>\n      <td>59.000000</td>\n      <td>10.000000</td>\n      <td>11.000000</td>\n      <td>1.000000</td>\n      <td>1.000000</td>\n      <td>1.000000</td>\n      <td>1.000000</td>\n      <td>1.000000</td>\n      <td>1.000000</td>\n      <td>314.000000</td>\n      <td>1.000000</td>\n      <td>1.000000</td>\n      <td>120.000000</td>\n      <td>1.000000</td>\n      <td>3.000000</td>\n    </tr>\n  </tbody>\n</table>\n</div>"
     },
     "execution_count": 14,
     "metadata": {},
     "output_type": "execute_result"
    }
   ],
   "source": [
    "skat_dt_game_data_frame[[\"CallValueFH\", \"CallValueMH\", \"CallValueBH\", \"PlayerID\", \"Spiel\",\n",
    "                         \"With\", \"Without\", \"Hand\", \"Schneider\", \"SchneiderCalled\", \"Schwarz\",\n",
    "                         \"SchwarzCalled\", \"Overt\", \"PointsPlayer\", \"Won\", \"Miscall\",\n",
    "                         \"CardPointsPlayer\", \"AllPassed\", \"Surrendered\"]].describe()"
   ],
   "metadata": {
    "collapsed": false,
    "pycharm": {
     "name": "#%% Sanity Checks\n"
    }
   }
  },
  {
   "cell_type": "code",
   "execution_count": 15,
   "outputs": [
    {
     "data": {
      "text/plain": "         CallValueFH    CallValueMH    CallValueBH  PlayerPosAtTableFH  \\\ncount  360945.000000  360945.000000  360945.000000       360945.000000   \nmean       10.340659      10.349386      10.312444            1.000061   \nstd        11.666545      11.664467      11.659925            0.816464   \nmin         0.000000       0.000000       0.000000            0.000000   \n25%         0.000000       0.000000       0.000000            0.000000   \n50%         0.000000       0.000000       0.000000            1.000000   \n75%        18.000000      18.000000      18.000000            2.000000   \nmax       120.000000     120.000000     120.000000            2.000000   \n\n       PlayerPosAtTableMH  PlayerPosAtTableBH  \ncount       360945.000000       360945.000000  \nmean             1.000053            0.999886  \nstd              0.816533            0.816496  \nmin              0.000000            0.000000  \n25%              0.000000            0.000000  \n50%              1.000000            1.000000  \n75%              2.000000            2.000000  \nmax              2.000000            2.000000  ",
      "text/html": "<div>\n<style scoped>\n    .dataframe tbody tr th:only-of-type {\n        vertical-align: middle;\n    }\n\n    .dataframe tbody tr th {\n        vertical-align: top;\n    }\n\n    .dataframe thead th {\n        text-align: right;\n    }\n</style>\n<table border=\"1\" class=\"dataframe\">\n  <thead>\n    <tr style=\"text-align: right;\">\n      <th></th>\n      <th>CallValueFH</th>\n      <th>CallValueMH</th>\n      <th>CallValueBH</th>\n      <th>PlayerPosAtTableFH</th>\n      <th>PlayerPosAtTableMH</th>\n      <th>PlayerPosAtTableBH</th>\n    </tr>\n  </thead>\n  <tbody>\n    <tr>\n      <th>count</th>\n      <td>360945.000000</td>\n      <td>360945.000000</td>\n      <td>360945.000000</td>\n      <td>360945.000000</td>\n      <td>360945.000000</td>\n      <td>360945.000000</td>\n    </tr>\n    <tr>\n      <th>mean</th>\n      <td>10.340659</td>\n      <td>10.349386</td>\n      <td>10.312444</td>\n      <td>1.000061</td>\n      <td>1.000053</td>\n      <td>0.999886</td>\n    </tr>\n    <tr>\n      <th>std</th>\n      <td>11.666545</td>\n      <td>11.664467</td>\n      <td>11.659925</td>\n      <td>0.816464</td>\n      <td>0.816533</td>\n      <td>0.816496</td>\n    </tr>\n    <tr>\n      <th>min</th>\n      <td>0.000000</td>\n      <td>0.000000</td>\n      <td>0.000000</td>\n      <td>0.000000</td>\n      <td>0.000000</td>\n      <td>0.000000</td>\n    </tr>\n    <tr>\n      <th>25%</th>\n      <td>0.000000</td>\n      <td>0.000000</td>\n      <td>0.000000</td>\n      <td>0.000000</td>\n      <td>0.000000</td>\n      <td>0.000000</td>\n    </tr>\n    <tr>\n      <th>50%</th>\n      <td>0.000000</td>\n      <td>0.000000</td>\n      <td>0.000000</td>\n      <td>1.000000</td>\n      <td>1.000000</td>\n      <td>1.000000</td>\n    </tr>\n    <tr>\n      <th>75%</th>\n      <td>18.000000</td>\n      <td>18.000000</td>\n      <td>18.000000</td>\n      <td>2.000000</td>\n      <td>2.000000</td>\n      <td>2.000000</td>\n    </tr>\n    <tr>\n      <th>max</th>\n      <td>120.000000</td>\n      <td>120.000000</td>\n      <td>120.000000</td>\n      <td>2.000000</td>\n      <td>2.000000</td>\n      <td>2.000000</td>\n    </tr>\n  </tbody>\n</table>\n</div>"
     },
     "execution_count": 15,
     "metadata": {},
     "output_type": "execute_result"
    }
   ],
   "source": [
    "skat_dt_game_data_frame[[\"CallValueFH\", \"CallValueMH\", \"CallValueBH\", \"PlayerPosAtTableFH\", \"PlayerPosAtTableMH\",\n",
    "                         \"PlayerPosAtTableBH\"]].describe()"
   ],
   "metadata": {
    "collapsed": false,
    "pycharm": {
     "name": "#%%\n"
    }
   }
  },
  {
   "cell_type": "code",
   "execution_count": 16,
   "outputs": [
    {
     "name": "stdout",
     "output_type": "stream",
     "text": [
      "0\n"
     ]
    }
   ],
   "source": [
    "print(skat_dt_game_data_frame.isna().sum().sum())"
   ],
   "metadata": {
    "collapsed": false,
    "pycharm": {
     "name": "#%%\n"
    }
   }
  },
  {
   "cell_type": "code",
   "execution_count": 17,
   "outputs": [
    {
     "name": "stdout",
     "output_type": "stream",
     "text": [
      "360945\n"
     ]
    }
   ],
   "source": [
    "print(skat_dt_game_data_frame[\"GameID\"].size)"
   ],
   "metadata": {
    "collapsed": false,
    "pycharm": {
     "name": "#%%\n"
    }
   }
  },
  {
   "cell_type": "code",
   "execution_count": 18,
   "outputs": [
    {
     "name": "stdout",
     "output_type": "stream",
     "text": [
      "False\n"
     ]
    }
   ],
   "source": [
    "print(skat_dt_game_data_frame[\"GameID\"].duplicated().any())"
   ],
   "metadata": {
    "collapsed": false,
    "pycharm": {
     "name": "#%%\n"
    }
   }
  },
  {
   "cell_type": "code",
   "execution_count": 19,
   "outputs": [
    {
     "name": "stdout",
     "output_type": "stream",
     "text": [
      "False\n"
     ]
    }
   ],
   "source": [
    "print(skat_dt_game_data_frame[\"IDGame\"].duplicated().any())"
   ],
   "metadata": {
    "collapsed": false,
    "pycharm": {
     "name": "#%%\n"
    }
   }
  },
  {
   "cell_type": "code",
   "execution_count": 20,
   "outputs": [
    {
     "data": {
      "text/plain": "1    0.799028\n0    0.200972\nName: Won, dtype: float64"
     },
     "execution_count": 20,
     "metadata": {},
     "output_type": "execute_result"
    }
   ],
   "source": [
    "skat_dt_game_data_frame[\"Won\"].value_counts(normalize=True)"
   ],
   "metadata": {
    "collapsed": false,
    "pycharm": {
     "name": "#%%\n"
    }
   }
  },
  {
   "cell_type": "code",
   "execution_count": 21,
   "outputs": [
    {
     "data": {
      "text/plain": "0    0.730621\n1    0.269379\nName: Schneider, dtype: float64"
     },
     "execution_count": 21,
     "metadata": {},
     "output_type": "execute_result"
    }
   ],
   "source": [
    "skat_dt_game_data_frame[\"Schneider\"].value_counts(normalize=True)"
   ],
   "metadata": {
    "collapsed": false,
    "pycharm": {
     "name": "#%%\n"
    }
   }
  },
  {
   "cell_type": "code",
   "execution_count": 22,
   "outputs": [
    {
     "data": {
      "text/plain": "0    0.956905\n1    0.043095\nName: Schwarz, dtype: float64"
     },
     "execution_count": 22,
     "metadata": {},
     "output_type": "execute_result"
    }
   ],
   "source": [
    "skat_dt_game_data_frame[\"Schwarz\"].value_counts(normalize=True)"
   ],
   "metadata": {
    "collapsed": false,
    "pycharm": {
     "name": "#%%\n"
    }
   }
  },
  {
   "cell_type": "code",
   "execution_count": 23,
   "outputs": [
    {
     "data": {
      "text/plain": "24    98571\n12    74030\n11    59394\n10    49431\n9     39898\n0     18190\n23    11081\n46     8904\n59      990\n35      456\nName: Spiel, dtype: int64"
     },
     "execution_count": 23,
     "metadata": {},
     "output_type": "execute_result"
    }
   ],
   "source": [
    "skat_dt_game_data_frame[\"Spiel\"].value_counts()"
   ],
   "metadata": {
    "collapsed": false,
    "pycharm": {
     "name": "#%%\n"
    }
   }
  },
  {
   "cell_type": "code",
   "execution_count": 24,
   "outputs": [
    {
     "data": {
      "text/plain": "0    0.949605\n1    0.050395\nName: AllPassed, dtype: float64"
     },
     "execution_count": 24,
     "metadata": {},
     "output_type": "execute_result"
    }
   ],
   "source": [
    "skat_dt_game_data_frame[\"AllPassed\"].value_counts(normalize=True)"
   ],
   "metadata": {
    "collapsed": false,
    "pycharm": {
     "name": "#%%\n"
    }
   }
  },
  {
   "cell_type": "code",
   "execution_count": 25,
   "outputs": [
    {
     "data": {
      "text/plain": "0    0.997964\n1    0.002036\nName: Miscall, dtype: float64"
     },
     "execution_count": 25,
     "metadata": {},
     "output_type": "execute_result"
    }
   ],
   "source": [
    "skat_dt_game_data_frame[\"Miscall\"].value_counts(normalize=True)"
   ],
   "metadata": {
    "collapsed": false,
    "pycharm": {
     "name": "#%%\n"
    }
   }
  },
  {
   "cell_type": "code",
   "execution_count": 26,
   "outputs": [
    {
     "data": {
      "text/plain": "0    0.644530\n3    0.290432\n2    0.054108\n1    0.010930\nName: Surrendered, dtype: float64"
     },
     "execution_count": 26,
     "metadata": {},
     "output_type": "execute_result"
    }
   ],
   "source": [
    "skat_dt_game_data_frame[\"Surrendered\"].value_counts(normalize=True)\n"
   ],
   "metadata": {
    "collapsed": false,
    "pycharm": {
     "name": "#%%\n"
    }
   }
  },
  {
   "cell_type": "code",
   "execution_count": 27,
   "outputs": [
    {
     "data": {
      "text/plain": "0    0.997964\n1    0.002036\nName: Miscall, dtype: float64"
     },
     "execution_count": 27,
     "metadata": {},
     "output_type": "execute_result"
    }
   ],
   "source": [
    "skat_dt_game_data_frame[\"Miscall\"].value_counts(normalize=True)\n"
   ],
   "metadata": {
    "collapsed": false,
    "pycharm": {
     "name": "#%%\n"
    }
   }
  },
  {
   "cell_type": "code",
   "execution_count": 28,
   "outputs": [],
   "source": [
    "# TODO: convert data to following encoding:\n",
    "# ♦, ♥, ♠, ♣, {7, 8, 9, Q, K, 10, A}, J/T\n",
    "skat_dt_game_data = skat_dt_game_data_frame\n",
    "\n",
    "#print(head)\n",
    "\n",
    "# create train and test sets\n",
    "# skat_train, skat_test = train_test_split(skat_data, test_size=0.2, random_state=0)\n",
    "\n",
    "# If data set is unsorted and randomly distributed\n",
    "# train_data = skat_data[:n*0.8]\n",
    "# test_data = skat_data[n*0.2:]"
   ],
   "metadata": {
    "collapsed": false,
    "pycharm": {
     "name": "#%%\n"
    }
   }
  }
 ],
 "metadata": {
  "kernelspec": {
   "name": "python3",
   "language": "python",
   "display_name": "Python 3"
  },
  "language_info": {
   "codemirror_mode": {
    "name": "ipython",
    "version": 2
   },
   "file_extension": ".py",
   "mimetype": "text/x-python",
   "name": "python",
   "nbconvert_exporter": "python",
   "pygments_lexer": "ipython2",
   "version": "2.7.6"
  }
 },
 "nbformat": 4,
 "nbformat_minor": 0
}