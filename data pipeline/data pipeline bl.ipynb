{
 "cells": [
  {
   "cell_type": "code",
   "execution_count": 1,
   "metadata": {
    "collapsed": true,
    "pycharm": {
     "name": "#%%\n"
    }
   },
   "outputs": [],
   "source": [
    "import pandas as pd\n",
    "import random\n",
    "from sklearn.model_selection import train_test_split"
   ]
  },
  {
   "cell_type": "code",
   "execution_count": 2,
   "outputs": [],
   "source": [
    "\"\"\"The dataset of the sequence the cards (cs) were played follows\"\"\"\n",
    "skat_bl_cs_data_path = \"C:/Users/sasch/Desktop/Uni/Bachelorarbeit/SaschaBenz/data/dl/bl_skattisch_kf.CSV\"\n",
    "\n",
    "skat_bl_cs_data_frame = pd.read_csv(skat_bl_cs_data_path, header=None)\n",
    "\n",
    "# TODO: convert data to following encoding:\n",
    "# ♦, ♥, ♠, ♣, {7, 8, 9, Q, K, 10, A}, J/T\n",
    "skat_bl_cs_data = skat_bl_cs_data_frame\n",
    "\n",
    "skat_bl_cs_data.columns = [\"GameID\", \"Sd1\", \"Sd2\", \"KNr0\", \"KNr1\", \"KNr2\", \"KNr3\", \"KNr4\", \"KNr5\", \"KNr6\", \"KNr7\",\n",
    "                           \"KNr8\", \"KNr9\", \"KNr10\", \"KNr11\", \"KNr12\", \"KNr13\", \"KNr14\", \"KNr15\", \"KNr16\", \"KNr17\",\n",
    "                           \"KNr18\", \"KNr19\", \"KNr20\", \"KNr21\", \"KNr22\", \"KNr23\", \"KNr24\", \"KNr25\", \"KNr26\", \"KNr27\",\n",
    "                           \"KNr28\", \"KNr29\", \"KNr30\", \"KNr31\", \"SurrenderedAt\"]"
   ],
   "metadata": {
    "collapsed": false,
    "pycharm": {
     "name": "#%%\n"
    }
   }
  },
  {
   "cell_type": "code",
   "execution_count": 3,
   "outputs": [
    {
     "name": "stdout",
     "output_type": "stream",
     "text": [
      "0\n"
     ]
    }
   ],
   "source": [
    "# Sanity Checks"
   ],
   "metadata": {
    "collapsed": false,
    "pycharm": {
     "name": "#%%\n"
    }
   }
  },
  {
   "cell_type": "code",
   "execution_count": null,
   "outputs": [],
   "source": [
    "print(skat_bl_cs_data_frame.isna().sum().sum())"
   ],
   "metadata": {
    "collapsed": false,
    "pycharm": {
     "name": "#%%\n"
    }
   }
  },
  {
   "cell_type": "code",
   "execution_count": 4,
   "outputs": [
    {
     "name": "stdout",
     "output_type": "stream",
     "text": [
      "376344\n"
     ]
    }
   ],
   "source": [
    "print(skat_bl_cs_data_frame[\"GameID\"].size)"
   ],
   "metadata": {
    "collapsed": false,
    "pycharm": {
     "name": "#%%\n"
    }
   }
  },
  {
   "cell_type": "code",
   "execution_count": 5,
   "outputs": [
    {
     "name": "stdout",
     "output_type": "stream",
     "text": [
      "False\n"
     ]
    }
   ],
   "source": [
    "print(skat_bl_cs_data_frame[\"GameID\"].duplicated().any())"
   ],
   "metadata": {
    "collapsed": false,
    "pycharm": {
     "name": "#%%\n"
    }
   }
  },
  {
   "cell_type": "code",
   "execution_count": 6,
   "outputs": [
    {
     "name": "stdout",
     "output_type": "stream",
     "text": [
      "   GameID  Sd1  Sd2  KNr0  KNr1  KNr2  KNr3  KNr4  KNr5  KNr6  ...  KNr23  \\\n",
      "0       1   12   31    21     7    13    11    18    15     9  ...     26   \n",
      "1       2   31   30     3     7     5     0     6    21     4  ...     22   \n",
      "2       3    3   13    11    18    28    30     9    19    10  ...      2   \n",
      "3       4   10   17    24     1    19     3     8    26     0  ...     12   \n",
      "4       5   10   13    14    12    25     2    28    17    16  ...      9   \n",
      "5       6   20   28     1     4     2    11    13     0     3  ...      6   \n",
      "6       7    9   13    16    18    20     9     4    23     7  ...      6   \n",
      "7       8   28   17    22    19    29     1    28    23    17  ...     10   \n",
      "8       9   18   20     6    11    10    29     9     8     7  ...     16   \n",
      "9      11    6   16     0    26     9     3    11     2    30  ...     18   \n",
      "\n",
      "   KNr24  KNr25  KNr26  KNr27  KNr28  KNr29  KNr30  KNr31  SurrenderedAt  \n",
      "0      2     20      1      4     24      0     27     31             -1  \n",
      "1     18     29     26      2     25     20     31     30             -1  \n",
      "2     24     17     22      4     25     27     16     14             -1  \n",
      "3     27     16     20      6     17     15      5     25             -1  \n",
      "4     27     29     22     21     11     26     19      5             -1  \n",
      "5     19     20     28     17     31     25     22     16             -1  \n",
      "6     19     24     27     15     21     10     14     11             -1  \n",
      "7     11     16     15      8     30     25     18     20             -1  \n",
      "8     13     14     12     24     23     20     19     21             -1  \n",
      "9     29     23     22      6     28     25     19     16             -1  \n",
      "\n",
      "[10 rows x 36 columns]\n"
     ]
    }
   ],
   "source": [
    "skat_bl_table_data = skat_bl_cs_data_frame\n",
    "\n",
    "head = skat_bl_cs_data.head(n=10)\n",
    "print(head)\n"
   ],
   "metadata": {
    "collapsed": false,
    "pycharm": {
     "name": "#%%\n"
    }
   }
  },
  {
   "cell_type": "code",
   "execution_count": 7,
   "outputs": [
    {
     "data": {
      "text/plain": "                                    IDTable Name  Number  PlayerID1  \\\n0      799a2b2e-ae0f-11da-b3fb-8df7c9751e06    2       1       8687   \n1      7245a47d-ae0f-11da-b3fb-8df7c9751e06    8       6      25444   \n2      ffc47bc5-ae0f-11da-b3fb-8df7c9751e06   29      26      59765   \n3      7afc2c30-ae0f-11da-b3fb-8df7c9751e06   34      33      25365   \n4      7cdc0fc3-ae0f-11da-b3fb-8df7c9751e06   33      31      39775   \n...                                     ...  ...     ...        ...   \n11919                         6x7S67QWV3xRF  T11       3     237339   \n11920                         6x7S67QWV3xRO   T8       6      37068   \n11921                         6x7S67QWV3xRD   T2      13     300814   \n11922                         6x7S67QWV3xRK   T5      11     370619   \n11923                        6x7S67QWV3x63V   T2      13     300814   \n\n       PlayerID2  PlayerID3  PlayerID4          Player1          Player2  \\\n0           8628       6449          0           FRED42           MIMO46   \n1          32580      39208          0  VERFUERTH KLAUS      DER PATE 39   \n2          49816      37776          0      LUSCHENKING             T.K.   \n3          37026      25346          0            PATER       FANTASIO17   \n4          42482       8453          0      HARRYHIRSCH           DIKO98   \n...          ...        ...        ...              ...              ...   \n11919     239742       8662          0         TOTTI 48          ELACHEN   \n11920     240390     279741          0          WOLLE67  SCHACHSPIELER50   \n11921      70362     325948          0     SKAT AMATEUR             ELBE   \n11922     172135     155110          0      PIKDAME1900        SCHROCKI5   \n11923      70362     325948          0     SKAT AMATEUR             ELBE   \n\n                 Player3  Player4        Date  IDVServer   Series  \n0                   AHAB      NaN  1141759244          4      4.0  \n1          STOERTEBECKER      NaN  1141759232          4      4.0  \n2          BONNIE PARKER      NaN  1141759469          4      4.0  \n3              KRUEMEL96      NaN  1141759247          4      4.0  \n4             DOKTORBIER      NaN  1141759250          4      4.0  \n...                  ...      ...         ...        ...      ...  \n11919          HUGO 1005      NaN  1490724005          4  24242.0  \n11920         POWERPAUL1      NaN  1490724033          4  24242.0  \n11921  EDUARD DER ZWEITE      NaN  1490724023          4  24242.0  \n11922        MONSCHI1965      NaN  1490724064          4  24242.0  \n11923  EDUARD DER ZWEITE      NaN  1490726374          4  24242.0  \n\n[11924 rows x 14 columns]",
      "text/html": "<div>\n<style scoped>\n    .dataframe tbody tr th:only-of-type {\n        vertical-align: middle;\n    }\n\n    .dataframe tbody tr th {\n        vertical-align: top;\n    }\n\n    .dataframe thead th {\n        text-align: right;\n    }\n</style>\n<table border=\"1\" class=\"dataframe\">\n  <thead>\n    <tr style=\"text-align: right;\">\n      <th></th>\n      <th>IDTable</th>\n      <th>Name</th>\n      <th>Number</th>\n      <th>PlayerID1</th>\n      <th>PlayerID2</th>\n      <th>PlayerID3</th>\n      <th>PlayerID4</th>\n      <th>Player1</th>\n      <th>Player2</th>\n      <th>Player3</th>\n      <th>Player4</th>\n      <th>Date</th>\n      <th>IDVServer</th>\n      <th>Series</th>\n    </tr>\n  </thead>\n  <tbody>\n    <tr>\n      <th>0</th>\n      <td>799a2b2e-ae0f-11da-b3fb-8df7c9751e06</td>\n      <td>2</td>\n      <td>1</td>\n      <td>8687</td>\n      <td>8628</td>\n      <td>6449</td>\n      <td>0</td>\n      <td>FRED42</td>\n      <td>MIMO46</td>\n      <td>AHAB</td>\n      <td>NaN</td>\n      <td>1141759244</td>\n      <td>4</td>\n      <td>4.0</td>\n    </tr>\n    <tr>\n      <th>1</th>\n      <td>7245a47d-ae0f-11da-b3fb-8df7c9751e06</td>\n      <td>8</td>\n      <td>6</td>\n      <td>25444</td>\n      <td>32580</td>\n      <td>39208</td>\n      <td>0</td>\n      <td>VERFUERTH KLAUS</td>\n      <td>DER PATE 39</td>\n      <td>STOERTEBECKER</td>\n      <td>NaN</td>\n      <td>1141759232</td>\n      <td>4</td>\n      <td>4.0</td>\n    </tr>\n    <tr>\n      <th>2</th>\n      <td>ffc47bc5-ae0f-11da-b3fb-8df7c9751e06</td>\n      <td>29</td>\n      <td>26</td>\n      <td>59765</td>\n      <td>49816</td>\n      <td>37776</td>\n      <td>0</td>\n      <td>LUSCHENKING</td>\n      <td>T.K.</td>\n      <td>BONNIE PARKER</td>\n      <td>NaN</td>\n      <td>1141759469</td>\n      <td>4</td>\n      <td>4.0</td>\n    </tr>\n    <tr>\n      <th>3</th>\n      <td>7afc2c30-ae0f-11da-b3fb-8df7c9751e06</td>\n      <td>34</td>\n      <td>33</td>\n      <td>25365</td>\n      <td>37026</td>\n      <td>25346</td>\n      <td>0</td>\n      <td>PATER</td>\n      <td>FANTASIO17</td>\n      <td>KRUEMEL96</td>\n      <td>NaN</td>\n      <td>1141759247</td>\n      <td>4</td>\n      <td>4.0</td>\n    </tr>\n    <tr>\n      <th>4</th>\n      <td>7cdc0fc3-ae0f-11da-b3fb-8df7c9751e06</td>\n      <td>33</td>\n      <td>31</td>\n      <td>39775</td>\n      <td>42482</td>\n      <td>8453</td>\n      <td>0</td>\n      <td>HARRYHIRSCH</td>\n      <td>DIKO98</td>\n      <td>DOKTORBIER</td>\n      <td>NaN</td>\n      <td>1141759250</td>\n      <td>4</td>\n      <td>4.0</td>\n    </tr>\n    <tr>\n      <th>...</th>\n      <td>...</td>\n      <td>...</td>\n      <td>...</td>\n      <td>...</td>\n      <td>...</td>\n      <td>...</td>\n      <td>...</td>\n      <td>...</td>\n      <td>...</td>\n      <td>...</td>\n      <td>...</td>\n      <td>...</td>\n      <td>...</td>\n      <td>...</td>\n    </tr>\n    <tr>\n      <th>11919</th>\n      <td>6x7S67QWV3xRF</td>\n      <td>T11</td>\n      <td>3</td>\n      <td>237339</td>\n      <td>239742</td>\n      <td>8662</td>\n      <td>0</td>\n      <td>TOTTI 48</td>\n      <td>ELACHEN</td>\n      <td>HUGO 1005</td>\n      <td>NaN</td>\n      <td>1490724005</td>\n      <td>4</td>\n      <td>24242.0</td>\n    </tr>\n    <tr>\n      <th>11920</th>\n      <td>6x7S67QWV3xRO</td>\n      <td>T8</td>\n      <td>6</td>\n      <td>37068</td>\n      <td>240390</td>\n      <td>279741</td>\n      <td>0</td>\n      <td>WOLLE67</td>\n      <td>SCHACHSPIELER50</td>\n      <td>POWERPAUL1</td>\n      <td>NaN</td>\n      <td>1490724033</td>\n      <td>4</td>\n      <td>24242.0</td>\n    </tr>\n    <tr>\n      <th>11921</th>\n      <td>6x7S67QWV3xRD</td>\n      <td>T2</td>\n      <td>13</td>\n      <td>300814</td>\n      <td>70362</td>\n      <td>325948</td>\n      <td>0</td>\n      <td>SKAT AMATEUR</td>\n      <td>ELBE</td>\n      <td>EDUARD DER ZWEITE</td>\n      <td>NaN</td>\n      <td>1490724023</td>\n      <td>4</td>\n      <td>24242.0</td>\n    </tr>\n    <tr>\n      <th>11922</th>\n      <td>6x7S67QWV3xRK</td>\n      <td>T5</td>\n      <td>11</td>\n      <td>370619</td>\n      <td>172135</td>\n      <td>155110</td>\n      <td>0</td>\n      <td>PIKDAME1900</td>\n      <td>SCHROCKI5</td>\n      <td>MONSCHI1965</td>\n      <td>NaN</td>\n      <td>1490724064</td>\n      <td>4</td>\n      <td>24242.0</td>\n    </tr>\n    <tr>\n      <th>11923</th>\n      <td>6x7S67QWV3x63V</td>\n      <td>T2</td>\n      <td>13</td>\n      <td>300814</td>\n      <td>70362</td>\n      <td>325948</td>\n      <td>0</td>\n      <td>SKAT AMATEUR</td>\n      <td>ELBE</td>\n      <td>EDUARD DER ZWEITE</td>\n      <td>NaN</td>\n      <td>1490726374</td>\n      <td>4</td>\n      <td>24242.0</td>\n    </tr>\n  </tbody>\n</table>\n<p>11924 rows × 14 columns</p>\n</div>"
     },
     "execution_count": 7,
     "metadata": {},
     "output_type": "execute_result"
    }
   ],
   "source": [
    "\"\"\"The table dataset follows\"\"\"\n",
    "skat_bl_table_data_path = \"C:/Users/sasch/Desktop/Uni/Bachelorarbeit/SaschaBenz/data/dl/bl_skattisch.CSV\"\n",
    "\n",
    "skat_bl_table_data_frame = pd.read_csv(skat_bl_table_data_path, header=None)\n",
    "\n",
    "skat_bl_table_data_frame.columns = [\"IDTable\", \"Name\", \"Number\", \"PlayerID1\", \"PlayerID2\", \"PlayerID3\", \"PlayerID4\",\n",
    "                                    \"Player1\", \"Player2\", \"Player3\", \"Player4\", \"Date\", \"IDVServer\", \"Series\"]\n",
    "\n",
    "skat_bl_table_data_frame"
   ],
   "metadata": {
    "collapsed": false,
    "pycharm": {
     "name": "#%%\n"
    }
   }
  },
  {
   "cell_type": "code",
   "execution_count": 8,
   "outputs": [
    {
     "name": "stdout",
     "output_type": "stream",
     "text": [
      "IDTable          0\n",
      "Name             0\n",
      "Number           0\n",
      "PlayerID1        0\n",
      "PlayerID2        0\n",
      "PlayerID3        0\n",
      "PlayerID4        0\n",
      "Player1          0\n",
      "Player2          0\n",
      "Player3          0\n",
      "Player4      11924\n",
      "Date             0\n",
      "IDVServer        0\n",
      "Series           3\n",
      "dtype: int64\n"
     ]
    }
   ],
   "source": [
    "# Sanity Checks\n",
    "\n",
    "print(skat_bl_table_data_frame.isna().sum())"
   ],
   "metadata": {
    "collapsed": false,
    "pycharm": {
     "name": "#%%\n"
    }
   }
  },
  {
   "cell_type": "code",
   "execution_count": 9,
   "outputs": [
    {
     "name": "stdout",
     "output_type": "stream",
     "text": [
      "11924\n"
     ]
    }
   ],
   "source": [
    "print(skat_bl_table_data_frame[\"IDTable\"].size)"
   ],
   "metadata": {
    "collapsed": false,
    "pycharm": {
     "name": "#%%\n"
    }
   }
  },
  {
   "cell_type": "code",
   "execution_count": 10,
   "outputs": [
    {
     "name": "stdout",
     "output_type": "stream",
     "text": [
      "False\n"
     ]
    }
   ],
   "source": [
    "print(skat_bl_table_data_frame[\"IDTable\"].duplicated().any())"
   ],
   "metadata": {
    "collapsed": false,
    "pycharm": {
     "name": "#%%\n"
    }
   }
  },
  {
   "cell_type": "code",
   "execution_count": 11,
   "outputs": [
    {
     "name": "stdout",
     "output_type": "stream",
     "text": [
      "                                IDTable Name  Number  PlayerID1  PlayerID2  \\\n",
      "0  799a2b2e-ae0f-11da-b3fb-8df7c9751e06    2       1       8687       8628   \n",
      "1  7245a47d-ae0f-11da-b3fb-8df7c9751e06    8       6      25444      32580   \n",
      "2  ffc47bc5-ae0f-11da-b3fb-8df7c9751e06   29      26      59765      49816   \n",
      "3  7afc2c30-ae0f-11da-b3fb-8df7c9751e06   34      33      25365      37026   \n",
      "4  7cdc0fc3-ae0f-11da-b3fb-8df7c9751e06   33      31      39775      42482   \n",
      "5  71c3ca4c-ae0f-11da-b3fb-8df7c9751e06   12      15      29758      20755   \n",
      "6  7478d833-ae0f-11da-b3fb-8df7c9751e06   19      18      23585      11691   \n",
      "7  729b3e90-ae0f-11da-b3fb-8df7c9751e06   11       8      22429      24313   \n",
      "8  729990df-ae0f-11da-b3fb-8df7c9751e06   18      16      27957      17169   \n",
      "9  750b2d25-ae0f-11da-b3fb-8df7c9751e06   35      34      24470      55811   \n",
      "\n",
      "   PlayerID3  PlayerID4          Player1      Player2        Player3  Player4  \\\n",
      "0       6449          0           FRED42       MIMO46           AHAB      NaN   \n",
      "1      39208          0  VERFUERTH KLAUS  DER PATE 39  STOERTEBECKER      NaN   \n",
      "2      37776          0      LUSCHENKING         T.K.  BONNIE PARKER      NaN   \n",
      "3      25346          0            PATER   FANTASIO17      KRUEMEL96      NaN   \n",
      "4       8453          0      HARRYHIRSCH       DIKO98     DOKTORBIER      NaN   \n",
      "5      58716          0           MZUNGU        HELAU       SPADEMAN      NaN   \n",
      "6       8664          0           FOXBAT     ANJA1001  STEINRAUSCHER      NaN   \n",
      "7      11070          0          B E I L    MAGGIMANN     DEICHHEINZ      NaN   \n",
      "8      11803          0        ENTENLUTZ    PROFESSOR         SHUFTA      NaN   \n",
      "9      30141          0         SENTASSI       CAPONE      SKATMICHI      NaN   \n",
      "\n",
      "         Date  IDVServer  Series  \n",
      "0  1141759244          4     4.0  \n",
      "1  1141759232          4     4.0  \n",
      "2  1141759469          4     4.0  \n",
      "3  1141759247          4     4.0  \n",
      "4  1141759250          4     4.0  \n",
      "5  1141759231          4     4.0  \n",
      "6  1141759236          4     4.0  \n",
      "7  1141759233          4     4.0  \n",
      "8  1141759233          4     4.0  \n",
      "9  1141759237          4     4.0  \n"
     ]
    }
   ],
   "source": [
    "skat_bl_table_data = skat_bl_table_data_frame\n",
    "\n",
    "head = skat_bl_table_data.head(n=10)\n",
    "print(head)"
   ],
   "metadata": {
    "collapsed": false,
    "pycharm": {
     "name": "#%%\n"
    }
   }
  },
  {
   "cell_type": "code",
   "execution_count": 31,
   "outputs": [],
   "source": [
    "\"\"\"The game dataset follows\"\"\"\n",
    "\n",
    "skat_bl_game_data_path = \"C:/Users/sasch/Desktop/Uni/Bachelorarbeit/SaschaBenz/data/dl/bl_skattisch_spiel.CSV\"\n",
    "\n",
    "skat_bl_game_data_frame = pd.read_csv(skat_bl_game_data_path, header=None)\n",
    "\n",
    "skat_bl_game_data_frame.columns = [\"GameID\", \"IDGame\", \"IDTable\", \"IDVServer\", \"StartTime\", \"EndTime\", \"PlayerFH\",\n",
    "                                   \"PlayerMH\", \"PlayerBH\", \"Card1\", \"Card2\", \"Card3\", \"Card4\", \"Card5\", \"Card6\",\n",
    "                                   \"Card7\", \"Card8\", \"Card9\", \"Card10\", \"Card11\", \"Card12\", \"Card13\", \"Card14\",\n",
    "                                   \"Card15\", \"Card16\", \"Card17\", \"Card18\", \"Card19\", \"Card20\", \"Card21\", \"Card22\",\n",
    "                                   \"Card23\", \"Card24\", \"Card25\", \"Card26\", \"Card27\", \"Card28\", \"Card29\", \"Card30\",\n",
    "                                   \"Card31\", \"Card32\", \"CallValueFH\", \"CallValueMH\", \"CallValueBH\", \"PlayerID\", \"Game\",\n",
    "                                   \"With\", \"Without\", \"Hand\", \"Schneider\", \"SchneiderCalled\", \"Schwarz\",\n",
    "                                   \"SchwarzCalled\", \"Overt\", \"PointsPlayer\", \"Won\", \"Miscall\",\n",
    "                                   \"CardPointsPlayer\", \"AllPassed\", \"Surrendered\", \"PlayerPosAtTableFH\",\n",
    "                                   \"PlayerPosAtTableMH\", \"PlayerPosAtTableBH\"]"
   ],
   "metadata": {
    "collapsed": false,
    "pycharm": {
     "name": "#%%\n"
    }
   }
  },
  {
   "cell_type": "code",
   "execution_count": 13,
   "outputs": [
    {
     "name": "stdout",
     "output_type": "stream",
     "text": [
      "   GameID                                IDGame  \\\n",
      "0       1  9ff1d7c1-ae0f-11da-b3fb-8df7c9751e06   \n",
      "1       2  c7c48b9e-ae0f-11da-b3fb-8df7c9751e06   \n",
      "2       3  f2de7b40-ae0f-11da-b3fb-8df7c9751e06   \n",
      "3       4  269b9093-ae10-11da-b3fb-8df7c9751e06   \n",
      "4       5  5206ad6f-ae10-11da-b3fb-8df7c9751e06   \n",
      "5       6  811f68fb-ae10-11da-b3fb-8df7c9751e06   \n",
      "6       7  baed1441-ae10-11da-b3fb-8df7c9751e06   \n",
      "7       8  e2598c37-ae10-11da-b3fb-8df7c9751e06   \n",
      "8       9  0d643994-ae11-11da-b3fb-8df7c9751e06   \n",
      "9      10  131c7557-ae11-11da-b3fb-8df7c9751e06   \n",
      "\n",
      "                                IDTable  IDVServer   StartTime     EndTime  \\\n",
      "0  799a2b2e-ae0f-11da-b3fb-8df7c9751e06          4  1141759244  1141759309   \n",
      "1  799a2b2e-ae0f-11da-b3fb-8df7c9751e06          4  1141759312  1141759376   \n",
      "2  799a2b2e-ae0f-11da-b3fb-8df7c9751e06          4  1141759379  1141759448   \n",
      "3  799a2b2e-ae0f-11da-b3fb-8df7c9751e06          4  1141759451  1141759535   \n",
      "4  799a2b2e-ae0f-11da-b3fb-8df7c9751e06          4  1141759539  1141759607   \n",
      "5  799a2b2e-ae0f-11da-b3fb-8df7c9751e06          4  1141759612  1141759686   \n",
      "6  799a2b2e-ae0f-11da-b3fb-8df7c9751e06          4  1141759719  1141759783   \n",
      "7  799a2b2e-ae0f-11da-b3fb-8df7c9751e06          4  1141759788  1141759850   \n",
      "8  799a2b2e-ae0f-11da-b3fb-8df7c9751e06          4  1141759856  1141759922   \n",
      "9  799a2b2e-ae0f-11da-b3fb-8df7c9751e06          4  1141759925  1141759931   \n",
      "\n",
      "   PlayerFH  PlayerMH  PlayerBH  Card1  ...  Overt  PointsPlayer  Won  \\\n",
      "0      8628      6449      8687     10  ...      0            98    1   \n",
      "1      6449      8687      8628     22  ...      0           146    1   \n",
      "2      8687      8628      6449     16  ...      0           110    1   \n",
      "3      8628      6449      8687     12  ...      0            98    1   \n",
      "4      6449      8687      8628     24  ...      0           122    1   \n",
      "5      8687      8628      6449     15  ...      0            83    1   \n",
      "6      8628      6449      8687      4  ...      0            77    1   \n",
      "7      6449      8687      8628     23  ...      0            72    1   \n",
      "8      8687      8628      6449     28  ...      0            83    1   \n",
      "9      8628      6449      8687     24  ...      0             0    0   \n",
      "\n",
      "   Miscall  CardPointsPlayer  AllPassed  Surrendered  PlayerPosAtTableFH  \\\n",
      "0        0               112          0            0                   1   \n",
      "1        0               100          0            0                   2   \n",
      "2        0                99          0            0                   0   \n",
      "3        0                62          0            0                   1   \n",
      "4        0                91          0            0                   2   \n",
      "5        0                94          0            0                   0   \n",
      "6        0                71          0            0                   1   \n",
      "7        0                66          0            0                   2   \n",
      "8        0                66          0            0                   0   \n",
      "9        0                 0          1            0                   1   \n",
      "\n",
      "   PlayerPosAtTableMH  PlayerPosAtTableBH  \n",
      "0                   2                   0  \n",
      "1                   0                   1  \n",
      "2                   1                   2  \n",
      "3                   2                   0  \n",
      "4                   0                   1  \n",
      "5                   1                   2  \n",
      "6                   2                   0  \n",
      "7                   0                   1  \n",
      "8                   1                   2  \n",
      "9                   2                   0  \n",
      "\n",
      "[10 rows x 63 columns]\n"
     ]
    }
   ],
   "source": [
    "head = skat_bl_game_data_frame.head(n=10)\n",
    "print(head)"
   ],
   "metadata": {
    "collapsed": false,
    "pycharm": {
     "name": "#%%\n"
    }
   }
  },
  {
   "cell_type": "code",
   "execution_count": 29,
   "outputs": [
    {
     "ename": "KeyError",
     "evalue": "\"['Game'] not in index\"",
     "output_type": "error",
     "traceback": [
      "\u001B[1;31m---------------------------------------------------------------------------\u001B[0m",
      "\u001B[1;31mKeyError\u001B[0m                                  Traceback (most recent call last)",
      "\u001B[1;32m<ipython-input-29-89c72eec4b12>\u001B[0m in \u001B[0;36m<module>\u001B[1;34m\u001B[0m\n\u001B[1;32m----> 1\u001B[1;33m skat_bl_game_data_frame[[\"CallValueFH\", \"CallValueMH\", \"CallValueBH\", \"PlayerID\", \"Game\",\n\u001B[0m\u001B[0;32m      2\u001B[0m                          \u001B[1;34m\"With\"\u001B[0m\u001B[1;33m,\u001B[0m \u001B[1;34m\"Without\"\u001B[0m\u001B[1;33m,\u001B[0m \u001B[1;34m\"Hand\"\u001B[0m\u001B[1;33m,\u001B[0m \u001B[1;34m\"Schneider\"\u001B[0m\u001B[1;33m,\u001B[0m \u001B[1;34m\"SchneiderCalled\"\u001B[0m\u001B[1;33m,\u001B[0m \u001B[1;34m\"Schwarz\"\u001B[0m\u001B[1;33m,\u001B[0m\u001B[1;33m\u001B[0m\u001B[1;33m\u001B[0m\u001B[0m\n\u001B[0;32m      3\u001B[0m                          \u001B[1;34m\"SchwarzCalled\"\u001B[0m\u001B[1;33m,\u001B[0m \u001B[1;34m\"Overt\"\u001B[0m\u001B[1;33m,\u001B[0m \u001B[1;34m\"PointsPlayer\"\u001B[0m\u001B[1;33m,\u001B[0m \u001B[1;34m\"Won\"\u001B[0m\u001B[1;33m,\u001B[0m \u001B[1;34m\"Miscall\"\u001B[0m\u001B[1;33m,\u001B[0m\u001B[1;33m\u001B[0m\u001B[1;33m\u001B[0m\u001B[0m\n\u001B[0;32m      4\u001B[0m                          \"CardPointsPlayer\", \"AllPassed\", \"Surrendered\"]].describe()\n\u001B[0;32m      5\u001B[0m \u001B[1;33m\u001B[0m\u001B[0m\n",
      "\u001B[1;32m~\\anaconda3\\lib\\site-packages\\pandas\\core\\frame.py\u001B[0m in \u001B[0;36m__getitem__\u001B[1;34m(self, key)\u001B[0m\n\u001B[0;32m   3028\u001B[0m             \u001B[1;32mif\u001B[0m \u001B[0mis_iterator\u001B[0m\u001B[1;33m(\u001B[0m\u001B[0mkey\u001B[0m\u001B[1;33m)\u001B[0m\u001B[1;33m:\u001B[0m\u001B[1;33m\u001B[0m\u001B[1;33m\u001B[0m\u001B[0m\n\u001B[0;32m   3029\u001B[0m                 \u001B[0mkey\u001B[0m \u001B[1;33m=\u001B[0m \u001B[0mlist\u001B[0m\u001B[1;33m(\u001B[0m\u001B[0mkey\u001B[0m\u001B[1;33m)\u001B[0m\u001B[1;33m\u001B[0m\u001B[1;33m\u001B[0m\u001B[0m\n\u001B[1;32m-> 3030\u001B[1;33m             \u001B[0mindexer\u001B[0m \u001B[1;33m=\u001B[0m \u001B[0mself\u001B[0m\u001B[1;33m.\u001B[0m\u001B[0mloc\u001B[0m\u001B[1;33m.\u001B[0m\u001B[0m_get_listlike_indexer\u001B[0m\u001B[1;33m(\u001B[0m\u001B[0mkey\u001B[0m\u001B[1;33m,\u001B[0m \u001B[0maxis\u001B[0m\u001B[1;33m=\u001B[0m\u001B[1;36m1\u001B[0m\u001B[1;33m,\u001B[0m \u001B[0mraise_missing\u001B[0m\u001B[1;33m=\u001B[0m\u001B[1;32mTrue\u001B[0m\u001B[1;33m)\u001B[0m\u001B[1;33m[\u001B[0m\u001B[1;36m1\u001B[0m\u001B[1;33m]\u001B[0m\u001B[1;33m\u001B[0m\u001B[1;33m\u001B[0m\u001B[0m\n\u001B[0m\u001B[0;32m   3031\u001B[0m \u001B[1;33m\u001B[0m\u001B[0m\n\u001B[0;32m   3032\u001B[0m         \u001B[1;31m# take() does not accept boolean indexers\u001B[0m\u001B[1;33m\u001B[0m\u001B[1;33m\u001B[0m\u001B[1;33m\u001B[0m\u001B[0m\n",
      "\u001B[1;32m~\\anaconda3\\lib\\site-packages\\pandas\\core\\indexing.py\u001B[0m in \u001B[0;36m_get_listlike_indexer\u001B[1;34m(self, key, axis, raise_missing)\u001B[0m\n\u001B[0;32m   1264\u001B[0m             \u001B[0mkeyarr\u001B[0m\u001B[1;33m,\u001B[0m \u001B[0mindexer\u001B[0m\u001B[1;33m,\u001B[0m \u001B[0mnew_indexer\u001B[0m \u001B[1;33m=\u001B[0m \u001B[0max\u001B[0m\u001B[1;33m.\u001B[0m\u001B[0m_reindex_non_unique\u001B[0m\u001B[1;33m(\u001B[0m\u001B[0mkeyarr\u001B[0m\u001B[1;33m)\u001B[0m\u001B[1;33m\u001B[0m\u001B[1;33m\u001B[0m\u001B[0m\n\u001B[0;32m   1265\u001B[0m \u001B[1;33m\u001B[0m\u001B[0m\n\u001B[1;32m-> 1266\u001B[1;33m         \u001B[0mself\u001B[0m\u001B[1;33m.\u001B[0m\u001B[0m_validate_read_indexer\u001B[0m\u001B[1;33m(\u001B[0m\u001B[0mkeyarr\u001B[0m\u001B[1;33m,\u001B[0m \u001B[0mindexer\u001B[0m\u001B[1;33m,\u001B[0m \u001B[0maxis\u001B[0m\u001B[1;33m,\u001B[0m \u001B[0mraise_missing\u001B[0m\u001B[1;33m=\u001B[0m\u001B[0mraise_missing\u001B[0m\u001B[1;33m)\u001B[0m\u001B[1;33m\u001B[0m\u001B[1;33m\u001B[0m\u001B[0m\n\u001B[0m\u001B[0;32m   1267\u001B[0m         \u001B[1;32mreturn\u001B[0m \u001B[0mkeyarr\u001B[0m\u001B[1;33m,\u001B[0m \u001B[0mindexer\u001B[0m\u001B[1;33m\u001B[0m\u001B[1;33m\u001B[0m\u001B[0m\n\u001B[0;32m   1268\u001B[0m \u001B[1;33m\u001B[0m\u001B[0m\n",
      "\u001B[1;32m~\\anaconda3\\lib\\site-packages\\pandas\\core\\indexing.py\u001B[0m in \u001B[0;36m_validate_read_indexer\u001B[1;34m(self, key, indexer, axis, raise_missing)\u001B[0m\n\u001B[0;32m   1314\u001B[0m             \u001B[1;32mif\u001B[0m \u001B[0mraise_missing\u001B[0m\u001B[1;33m:\u001B[0m\u001B[1;33m\u001B[0m\u001B[1;33m\u001B[0m\u001B[0m\n\u001B[0;32m   1315\u001B[0m                 \u001B[0mnot_found\u001B[0m \u001B[1;33m=\u001B[0m \u001B[0mlist\u001B[0m\u001B[1;33m(\u001B[0m\u001B[0mset\u001B[0m\u001B[1;33m(\u001B[0m\u001B[0mkey\u001B[0m\u001B[1;33m)\u001B[0m \u001B[1;33m-\u001B[0m \u001B[0mset\u001B[0m\u001B[1;33m(\u001B[0m\u001B[0max\u001B[0m\u001B[1;33m)\u001B[0m\u001B[1;33m)\u001B[0m\u001B[1;33m\u001B[0m\u001B[1;33m\u001B[0m\u001B[0m\n\u001B[1;32m-> 1316\u001B[1;33m                 \u001B[1;32mraise\u001B[0m \u001B[0mKeyError\u001B[0m\u001B[1;33m(\u001B[0m\u001B[1;34mf\"{not_found} not in index\"\u001B[0m\u001B[1;33m)\u001B[0m\u001B[1;33m\u001B[0m\u001B[1;33m\u001B[0m\u001B[0m\n\u001B[0m\u001B[0;32m   1317\u001B[0m \u001B[1;33m\u001B[0m\u001B[0m\n\u001B[0;32m   1318\u001B[0m             \u001B[0mnot_found\u001B[0m \u001B[1;33m=\u001B[0m \u001B[0mkey\u001B[0m\u001B[1;33m[\u001B[0m\u001B[0mmissing_mask\u001B[0m\u001B[1;33m]\u001B[0m\u001B[1;33m\u001B[0m\u001B[1;33m\u001B[0m\u001B[0m\n",
      "\u001B[1;31mKeyError\u001B[0m: \"['Game'] not in index\""
     ]
    }
   ],
   "source": [
    "skat_bl_game_data_frame[[\"CallValueFH\", \"CallValueMH\", \"CallValueBH\", \"PlayerID\", \"Game\",\n",
    "                         \"With\", \"Without\", \"Hand\", \"Schneider\", \"SchneiderCalled\", \"Schwarz\",\n",
    "                         \"SchwarzCalled\", \"Overt\", \"PointsPlayer\", \"Won\", \"Miscall\",\n",
    "                         \"CardPointsPlayer\", \"AllPassed\", \"Surrendered\"]].describe()"
   ],
   "metadata": {
    "collapsed": false,
    "pycharm": {
     "name": "#%% Sanity Checks\n"
    }
   }
  },
  {
   "cell_type": "code",
   "execution_count": 15,
   "outputs": [
    {
     "data": {
      "text/plain": "         CallValueFH    CallValueMH    CallValueBH  PlayerPosAtTableFH  \\\ncount  407259.000000  407259.000000  407259.000000       407259.000000   \nmean        9.116813       9.139501       9.131648            1.000037   \nstd        11.009870      11.015312      11.012890            0.816457   \nmin         0.000000       0.000000       0.000000            0.000000   \n25%         0.000000       0.000000       0.000000            0.000000   \n50%         0.000000       0.000000       0.000000            1.000000   \n75%        18.000000      18.000000      18.000000            2.000000   \nmax        96.000000     120.000000      90.000000            2.000000   \n\n       PlayerPosAtTableMH  PlayerPosAtTableBH  \ncount       407259.000000       407259.000000  \nmean             1.000081            0.999845  \nstd              0.816544            0.816514  \nmin              0.000000            0.000000  \n25%              0.000000            0.000000  \n50%              1.000000            1.000000  \n75%              2.000000            2.000000  \nmax              2.000000            2.000000  ",
      "text/html": "<div>\n<style scoped>\n    .dataframe tbody tr th:only-of-type {\n        vertical-align: middle;\n    }\n\n    .dataframe tbody tr th {\n        vertical-align: top;\n    }\n\n    .dataframe thead th {\n        text-align: right;\n    }\n</style>\n<table border=\"1\" class=\"dataframe\">\n  <thead>\n    <tr style=\"text-align: right;\">\n      <th></th>\n      <th>CallValueFH</th>\n      <th>CallValueMH</th>\n      <th>CallValueBH</th>\n      <th>PlayerPosAtTableFH</th>\n      <th>PlayerPosAtTableMH</th>\n      <th>PlayerPosAtTableBH</th>\n    </tr>\n  </thead>\n  <tbody>\n    <tr>\n      <th>count</th>\n      <td>407259.000000</td>\n      <td>407259.000000</td>\n      <td>407259.000000</td>\n      <td>407259.000000</td>\n      <td>407259.000000</td>\n      <td>407259.000000</td>\n    </tr>\n    <tr>\n      <th>mean</th>\n      <td>9.116813</td>\n      <td>9.139501</td>\n      <td>9.131648</td>\n      <td>1.000037</td>\n      <td>1.000081</td>\n      <td>0.999845</td>\n    </tr>\n    <tr>\n      <th>std</th>\n      <td>11.009870</td>\n      <td>11.015312</td>\n      <td>11.012890</td>\n      <td>0.816457</td>\n      <td>0.816544</td>\n      <td>0.816514</td>\n    </tr>\n    <tr>\n      <th>min</th>\n      <td>0.000000</td>\n      <td>0.000000</td>\n      <td>0.000000</td>\n      <td>0.000000</td>\n      <td>0.000000</td>\n      <td>0.000000</td>\n    </tr>\n    <tr>\n      <th>25%</th>\n      <td>0.000000</td>\n      <td>0.000000</td>\n      <td>0.000000</td>\n      <td>0.000000</td>\n      <td>0.000000</td>\n      <td>0.000000</td>\n    </tr>\n    <tr>\n      <th>50%</th>\n      <td>0.000000</td>\n      <td>0.000000</td>\n      <td>0.000000</td>\n      <td>1.000000</td>\n      <td>1.000000</td>\n      <td>1.000000</td>\n    </tr>\n    <tr>\n      <th>75%</th>\n      <td>18.000000</td>\n      <td>18.000000</td>\n      <td>18.000000</td>\n      <td>2.000000</td>\n      <td>2.000000</td>\n      <td>2.000000</td>\n    </tr>\n    <tr>\n      <th>max</th>\n      <td>96.000000</td>\n      <td>120.000000</td>\n      <td>90.000000</td>\n      <td>2.000000</td>\n      <td>2.000000</td>\n      <td>2.000000</td>\n    </tr>\n  </tbody>\n</table>\n</div>"
     },
     "execution_count": 15,
     "metadata": {},
     "output_type": "execute_result"
    }
   ],
   "source": [
    "skat_bl_game_data_frame[[\"CallValueFH\", \"CallValueMH\", \"CallValueBH\", \"PlayerPosAtTableFH\", \"PlayerPosAtTableMH\",\n",
    "                         \"PlayerPosAtTableBH\"]].describe()"
   ],
   "metadata": {
    "collapsed": false,
    "pycharm": {
     "name": "#%%\n"
    }
   }
  },
  {
   "cell_type": "code",
   "execution_count": 16,
   "outputs": [
    {
     "name": "stdout",
     "output_type": "stream",
     "text": [
      "0\n"
     ]
    }
   ],
   "source": [
    "print(skat_bl_game_data_frame.isna().sum().sum())"
   ],
   "metadata": {
    "collapsed": false,
    "pycharm": {
     "name": "#%%\n"
    }
   }
  },
  {
   "cell_type": "code",
   "execution_count": 17,
   "outputs": [
    {
     "name": "stdout",
     "output_type": "stream",
     "text": [
      "407259\n"
     ]
    }
   ],
   "source": [
    "print(skat_bl_game_data_frame[\"GameID\"].size)"
   ],
   "metadata": {
    "collapsed": false,
    "pycharm": {
     "name": "#%%\n"
    }
   }
  },
  {
   "cell_type": "code",
   "execution_count": 18,
   "outputs": [
    {
     "name": "stdout",
     "output_type": "stream",
     "text": [
      "False\n"
     ]
    }
   ],
   "source": [
    "print(skat_bl_game_data_frame[\"GameID\"].duplicated().any())"
   ],
   "metadata": {
    "collapsed": false,
    "pycharm": {
     "name": "#%%\n"
    }
   }
  },
  {
   "cell_type": "code",
   "execution_count": 19,
   "outputs": [
    {
     "name": "stdout",
     "output_type": "stream",
     "text": [
      "False\n"
     ]
    }
   ],
   "source": [
    "print(skat_bl_game_data_frame[\"IDGame\"].duplicated().any())"
   ],
   "metadata": {
    "collapsed": false,
    "pycharm": {
     "name": "#%%\n"
    }
   }
  },
  {
   "cell_type": "code",
   "execution_count": 20,
   "outputs": [
    {
     "data": {
      "text/plain": "1    0.786414\n0    0.213586\nName: Won, dtype: float64"
     },
     "execution_count": 20,
     "metadata": {},
     "output_type": "execute_result"
    }
   ],
   "source": [
    "skat_bl_game_data_frame[\"Won\"].value_counts(normalize=True)"
   ],
   "metadata": {
    "collapsed": false,
    "pycharm": {
     "name": "#%%\n"
    }
   }
  },
  {
   "cell_type": "code",
   "execution_count": 21,
   "outputs": [
    {
     "data": {
      "text/plain": "0    0.731299\n1    0.268701\nName: Schneider, dtype: float64"
     },
     "execution_count": 21,
     "metadata": {},
     "output_type": "execute_result"
    }
   ],
   "source": [
    "skat_bl_game_data_frame[\"Schneider\"].value_counts(normalize=True)"
   ],
   "metadata": {
    "collapsed": false,
    "pycharm": {
     "name": "#%%\n"
    }
   }
  },
  {
   "cell_type": "code",
   "execution_count": 22,
   "outputs": [
    {
     "data": {
      "text/plain": "0    0.9588\n1    0.0412\nName: Schwarz, dtype: float64"
     },
     "execution_count": 22,
     "metadata": {},
     "output_type": "execute_result"
    }
   ],
   "source": [
    "skat_bl_game_data_frame[\"Schwarz\"].value_counts(normalize=True)"
   ],
   "metadata": {
    "collapsed": false,
    "pycharm": {
     "name": "#%%\n"
    }
   }
  },
  {
   "cell_type": "code",
   "execution_count": 32,
   "outputs": [
    {
     "data": {
      "text/plain": "24    102087\n12     81812\n11     66704\n10     56240\n9      47285\n0      30914\n23     11334\n46      9458\n59      1028\n35       397\nName: Game, dtype: int64"
     },
     "execution_count": 32,
     "metadata": {},
     "output_type": "execute_result"
    }
   ],
   "source": [
    "skat_bl_game_data_frame[\"Game\"].value_counts()"
   ],
   "metadata": {
    "collapsed": false,
    "pycharm": {
     "name": "#%%\n"
    }
   }
  },
  {
   "cell_type": "code",
   "execution_count": 24,
   "outputs": [
    {
     "data": {
      "text/plain": "0    0.924093\n1    0.075907\nName: AllPassed, dtype: float64"
     },
     "execution_count": 24,
     "metadata": {},
     "output_type": "execute_result"
    }
   ],
   "source": [
    "skat_bl_game_data_frame[\"AllPassed\"].value_counts(normalize=True)"
   ],
   "metadata": {
    "collapsed": false,
    "pycharm": {
     "name": "#%%\n"
    }
   }
  },
  {
   "cell_type": "code",
   "execution_count": 25,
   "outputs": [
    {
     "data": {
      "text/plain": "0    0.998701\n1    0.001299\nName: Miscall, dtype: float64"
     },
     "execution_count": 25,
     "metadata": {},
     "output_type": "execute_result"
    }
   ],
   "source": [
    "skat_bl_game_data_frame[\"Miscall\"].value_counts(normalize=True)"
   ],
   "metadata": {
    "collapsed": false,
    "pycharm": {
     "name": "#%%\n"
    }
   }
  },
  {
   "cell_type": "code",
   "execution_count": 26,
   "outputs": [
    {
     "data": {
      "text/plain": "0    1.0\nName: Surrendered, dtype: float64"
     },
     "execution_count": 26,
     "metadata": {},
     "output_type": "execute_result"
    }
   ],
   "source": [
    "skat_bl_game_data_frame[\"Surrendered\"].value_counts(normalize=True)\n"
   ],
   "metadata": {
    "collapsed": false,
    "pycharm": {
     "name": "#%%\n"
    }
   }
  },
  {
   "cell_type": "code",
   "execution_count": 27,
   "outputs": [
    {
     "data": {
      "text/plain": "0    0.998701\n1    0.001299\nName: Miscall, dtype: float64"
     },
     "execution_count": 27,
     "metadata": {},
     "output_type": "execute_result"
    }
   ],
   "source": [
    "skat_bl_game_data_frame[\"Miscall\"].value_counts(normalize=True)\n"
   ],
   "metadata": {
    "collapsed": false,
    "pycharm": {
     "name": "#%%\n"
    }
   }
  },
  {
   "cell_type": "code",
   "execution_count": 28,
   "outputs": [],
   "source": [
    "# Data Visualisation"
   ],
   "metadata": {
    "collapsed": false,
    "pycharm": {
     "name": "#%%\n"
    }
   }
  },
  {
   "cell_type": "code",
   "execution_count": 50,
   "outputs": [],
   "source": [
    "# Create a pie plot showing the relative occurrence of game variants\n",
    "game_variants = skat_bl_game_data_frame[\"Game\"].value_counts(normalize=True)\n",
    "game_variants = game_variants.rename(\n",
    "    index={24: \"Grand\", 12: \"Cross\", 11: \"Spades\", 10: \"Hearts\", 9: \"Diamonds\", 0: \"AllPassed\", 23: \"Null\",\n",
    "           46: \"Null Ouvert\", 59: \"Null Ouvert Hand\", 35: \"Null Hand\"})\n",
    "game_variants"
   ],
   "metadata": {
    "collapsed": false,
    "pycharm": {
     "name": "#%%\n"
    }
   }
  },
  {
   "cell_type": "code",
   "execution_count": 55,
   "outputs": [
    {
     "data": {
      "text/plain": "<AxesSubplot:ylabel='Game'>"
     },
     "execution_count": 55,
     "metadata": {},
     "output_type": "execute_result"
    },
    {
     "data": {
      "text/plain": "<Figure size 432x288 with 1 Axes>",
      "image/png": "[encoded data removed]"
     },
     "metadata": {},
     "output_type": "display_data"
    }
   ],
   "source": [
    "game_variants.plot(kind=\"pie\", y=\"Game\", autopct='%1.0f%%')"
   ],
   "metadata": {
    "collapsed": false,
    "pycharm": {
     "name": "#%%\n"
    }
   }
  },
  {
   "cell_type": "code",
   "execution_count": 45,
   "outputs": [
    {
     "data": {
      "text/plain": "Grand               0.250668\nCross               0.200884\nSpades              0.163788\nHearts              0.138094\nDiamonds            0.116105\nAllPassed           0.075907\nNull                0.027830\nNull Ouvert         0.023224\nNull Ouvert Hand    0.002524\nNull Hand           0.000975\nName: Game, dtype: float64"
     },
     "execution_count": 45,
     "metadata": {},
     "output_type": "execute_result"
    }
   ],
   "source": [
    "# skat_bl_game_data_frame.groupby([\"Game\"]).sum() #.sum().plot(kind=\"pie\", y=\"Game\")\n",
    "# skat_bl_game_data_frame[\"Game\"]"
   ],
   "metadata": {
    "collapsed": false,
    "pycharm": {
     "name": "#%%\n"
    }
   }
  },
  {
   "cell_type": "code",
   "execution_count": null,
   "outputs": [],
   "source": [
    "# TODO: convert data to following encoding:\n",
    "# ♦, ♥, ♠, ♣, {7, 8, 9, Q, K, 10, A}, J/T\n",
    "skat_bl_game_data = skat_bl_game_data_frame\n",
    "\n",
    "#print(head)\n",
    "\n",
    "# create train and test sets\n",
    "# skat_train, skat_test = train_test_split(skat_data, test_size=0.2, random_state=0)\n",
    "\n",
    "# If data set is unsorted and randomly distributed\n",
    "# train_data = skat_data[:n*0.8]\n",
    "# test_data = skat_data[n*0.2:]"
   ],
   "metadata": {
    "collapsed": false,
    "pycharm": {
     "name": "#%%\n"
    }
   }
  }
 ],
 "metadata": {
  "kernelspec": {
   "name": "python3",
   "language": "python",
   "display_name": "Python 3"
  },
  "language_info": {
   "codemirror_mode": {
    "name": "ipython",
    "version": 2
   },
   "file_extension": ".py",
   "mimetype": "text/x-python",
   "name": "python",
   "nbconvert_exporter": "python",
   "pygments_lexer": "ipython2",
   "version": "2.7.6"
  }
 },
 "nbformat": 4,
 "nbformat_minor": 0
}