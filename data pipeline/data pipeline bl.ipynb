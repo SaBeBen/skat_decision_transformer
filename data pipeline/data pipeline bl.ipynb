{
 "cells": [
  {
   "cell_type": "code",
   "execution_count": 244,
   "metadata": {
    "collapsed": true,
    "pycharm": {
     "name": "#%%\n"
    }
   },
   "outputs": [],
   "source": [
    "import numpy as np\n",
    "import pandas as pd\n",
    "import matplotlib.pyplot as plt\n",
    "import random\n",
    "from sklearn.model_selection import train_test_split"
   ]
  },
  {
   "cell_type": "code",
   "execution_count": 245,
   "outputs": [],
   "source": [
    "\"\"\"The dataset of the sequence the cards (cs) were played follows\"\"\"\n",
    "skat_bl_cs_data_path = \"C:/Users/sasch/Desktop/Uni/Bachelorarbeit/SaschaBenz/data/dl/bl_skattisch_kf.CSV\"\n",
    "\n",
    "skat_bl_cs_data_frame = pd.read_csv(skat_bl_cs_data_path, header=None)\n",
    "\n",
    "# TODO: convert data to following encoding:\n",
    "# ♦, ♥, ♠, ♣, {7, 8, 9, Q, K, 10, A}, J/T\n",
    "skat_bl_cs_data = skat_bl_cs_data_frame\n",
    "\n",
    "skat_bl_cs_data.columns = [\"GameID\", \"Sd1\", \"Sd2\", \"KNr0\", \"KNr1\", \"KNr2\", \"KNr3\", \"KNr4\", \"KNr5\", \"KNr6\", \"KNr7\",\n",
    "                           \"KNr8\", \"KNr9\", \"KNr10\", \"KNr11\", \"KNr12\", \"KNr13\", \"KNr14\", \"KNr15\", \"KNr16\", \"KNr17\",\n",
    "                           \"KNr18\", \"KNr19\", \"KNr20\", \"KNr21\", \"KNr22\", \"KNr23\", \"KNr24\", \"KNr25\", \"KNr26\", \"KNr27\",\n",
    "                           \"KNr28\", \"KNr29\", \"KNr30\", \"KNr31\", \"SurrenderedAt\"]"
   ],
   "metadata": {
    "collapsed": false,
    "pycharm": {
     "name": "#%%\n"
    }
   }
  },
  {
   "cell_type": "code",
   "execution_count": 246,
   "outputs": [],
   "source": [
    "# Sanity Checks"
   ],
   "metadata": {
    "collapsed": false,
    "pycharm": {
     "name": "#%%\n"
    }
   }
  },
  {
   "cell_type": "code",
   "execution_count": 247,
   "outputs": [
    {
     "name": "stdout",
     "output_type": "stream",
     "text": [
      "0\n"
     ]
    }
   ],
   "source": [
    "print(skat_bl_cs_data_frame.isna().sum().sum())"
   ],
   "metadata": {
    "collapsed": false,
    "pycharm": {
     "name": "#%%\n"
    }
   }
  },
  {
   "cell_type": "code",
   "execution_count": 248,
   "outputs": [
    {
     "name": "stdout",
     "output_type": "stream",
     "text": [
      "376344\n"
     ]
    }
   ],
   "source": [
    "print(skat_bl_cs_data_frame[\"GameID\"].size)"
   ],
   "metadata": {
    "collapsed": false,
    "pycharm": {
     "name": "#%%\n"
    }
   }
  },
  {
   "cell_type": "code",
   "execution_count": 249,
   "outputs": [
    {
     "name": "stdout",
     "output_type": "stream",
     "text": [
      "False\n"
     ]
    }
   ],
   "source": [
    "print(skat_bl_cs_data_frame[\"GameID\"].duplicated().any())"
   ],
   "metadata": {
    "collapsed": false,
    "pycharm": {
     "name": "#%%\n"
    }
   }
  },
  {
   "cell_type": "code",
   "execution_count": 250,
   "outputs": [
    {
     "name": "stdout",
     "output_type": "stream",
     "text": [
      "   GameID  Sd1  Sd2  KNr0  KNr1  KNr2  KNr3  KNr4  KNr5  KNr6  ...  KNr23  \\\n",
      "0       1   12   31    21     7    13    11    18    15     9  ...     26   \n",
      "1       2   31   30     3     7     5     0     6    21     4  ...     22   \n",
      "2       3    3   13    11    18    28    30     9    19    10  ...      2   \n",
      "3       4   10   17    24     1    19     3     8    26     0  ...     12   \n",
      "4       5   10   13    14    12    25     2    28    17    16  ...      9   \n",
      "5       6   20   28     1     4     2    11    13     0     3  ...      6   \n",
      "6       7    9   13    16    18    20     9     4    23     7  ...      6   \n",
      "7       8   28   17    22    19    29     1    28    23    17  ...     10   \n",
      "8       9   18   20     6    11    10    29     9     8     7  ...     16   \n",
      "9      11    6   16     0    26     9     3    11     2    30  ...     18   \n",
      "\n",
      "   KNr24  KNr25  KNr26  KNr27  KNr28  KNr29  KNr30  KNr31  SurrenderedAt  \n",
      "0      2     20      1      4     24      0     27     31             -1  \n",
      "1     18     29     26      2     25     20     31     30             -1  \n",
      "2     24     17     22      4     25     27     16     14             -1  \n",
      "3     27     16     20      6     17     15      5     25             -1  \n",
      "4     27     29     22     21     11     26     19      5             -1  \n",
      "5     19     20     28     17     31     25     22     16             -1  \n",
      "6     19     24     27     15     21     10     14     11             -1  \n",
      "7     11     16     15      8     30     25     18     20             -1  \n",
      "8     13     14     12     24     23     20     19     21             -1  \n",
      "9     29     23     22      6     28     25     19     16             -1  \n",
      "\n",
      "[10 rows x 36 columns]\n"
     ]
    }
   ],
   "source": [
    "skat_bl_table_data = skat_bl_cs_data_frame\n",
    "\n",
    "head = skat_bl_cs_data.head(n=10)\n",
    "print(head)\n"
   ],
   "metadata": {
    "collapsed": false,
    "pycharm": {
     "name": "#%%\n"
    }
   }
  },
  {
   "cell_type": "code",
   "execution_count": 251,
   "outputs": [
    {
     "data": {
      "text/plain": "                                    IDTable Name  Number  PlayerID1  \\\n0      799a2b2e-ae0f-11da-b3fb-8df7c9751e06    2       1       8687   \n1      7245a47d-ae0f-11da-b3fb-8df7c9751e06    8       6      25444   \n2      ffc47bc5-ae0f-11da-b3fb-8df7c9751e06   29      26      59765   \n3      7afc2c30-ae0f-11da-b3fb-8df7c9751e06   34      33      25365   \n4      7cdc0fc3-ae0f-11da-b3fb-8df7c9751e06   33      31      39775   \n...                                     ...  ...     ...        ...   \n11919                         6x7S67QWV3xRF  T11       3     237339   \n11920                         6x7S67QWV3xRO   T8       6      37068   \n11921                         6x7S67QWV3xRD   T2      13     300814   \n11922                         6x7S67QWV3xRK   T5      11     370619   \n11923                        6x7S67QWV3x63V   T2      13     300814   \n\n       PlayerID2  PlayerID3  PlayerID4          Player1          Player2  \\\n0           8628       6449          0           FRED42           MIMO46   \n1          32580      39208          0  VERFUERTH KLAUS      DER PATE 39   \n2          49816      37776          0      LUSCHENKING             T.K.   \n3          37026      25346          0            PATER       FANTASIO17   \n4          42482       8453          0      HARRYHIRSCH           DIKO98   \n...          ...        ...        ...              ...              ...   \n11919     239742       8662          0         TOTTI 48          ELACHEN   \n11920     240390     279741          0          WOLLE67  SCHACHSPIELER50   \n11921      70362     325948          0     SKAT AMATEUR             ELBE   \n11922     172135     155110          0      PIKDAME1900        SCHROCKI5   \n11923      70362     325948          0     SKAT AMATEUR             ELBE   \n\n                 Player3  Player4        Date  IDVServer   Series  \n0                   AHAB      NaN  1141759244          4      4.0  \n1          STOERTEBECKER      NaN  1141759232          4      4.0  \n2          BONNIE PARKER      NaN  1141759469          4      4.0  \n3              KRUEMEL96      NaN  1141759247          4      4.0  \n4             DOKTORBIER      NaN  1141759250          4      4.0  \n...                  ...      ...         ...        ...      ...  \n11919          HUGO 1005      NaN  1490724005          4  24242.0  \n11920         POWERPAUL1      NaN  1490724033          4  24242.0  \n11921  EDUARD DER ZWEITE      NaN  1490724023          4  24242.0  \n11922        MONSCHI1965      NaN  1490724064          4  24242.0  \n11923  EDUARD DER ZWEITE      NaN  1490726374          4  24242.0  \n\n[11924 rows x 14 columns]",
      "text/html": "<div>\n<style scoped>\n    .dataframe tbody tr th:only-of-type {\n        vertical-align: middle;\n    }\n\n    .dataframe tbody tr th {\n        vertical-align: top;\n    }\n\n    .dataframe thead th {\n        text-align: right;\n    }\n</style>\n<table border=\"1\" class=\"dataframe\">\n  <thead>\n    <tr style=\"text-align: right;\">\n      <th></th>\n      <th>IDTable</th>\n      <th>Name</th>\n      <th>Number</th>\n      <th>PlayerID1</th>\n      <th>PlayerID2</th>\n      <th>PlayerID3</th>\n      <th>PlayerID4</th>\n      <th>Player1</th>\n      <th>Player2</th>\n      <th>Player3</th>\n      <th>Player4</th>\n      <th>Date</th>\n      <th>IDVServer</th>\n      <th>Series</th>\n    </tr>\n  </thead>\n  <tbody>\n    <tr>\n      <th>0</th>\n      <td>799a2b2e-ae0f-11da-b3fb-8df7c9751e06</td>\n      <td>2</td>\n      <td>1</td>\n      <td>8687</td>\n      <td>8628</td>\n      <td>6449</td>\n      <td>0</td>\n      <td>FRED42</td>\n      <td>MIMO46</td>\n      <td>AHAB</td>\n      <td>NaN</td>\n      <td>1141759244</td>\n      <td>4</td>\n      <td>4.0</td>\n    </tr>\n    <tr>\n      <th>1</th>\n      <td>7245a47d-ae0f-11da-b3fb-8df7c9751e06</td>\n      <td>8</td>\n      <td>6</td>\n      <td>25444</td>\n      <td>32580</td>\n      <td>39208</td>\n      <td>0</td>\n      <td>VERFUERTH KLAUS</td>\n      <td>DER PATE 39</td>\n      <td>STOERTEBECKER</td>\n      <td>NaN</td>\n      <td>1141759232</td>\n      <td>4</td>\n      <td>4.0</td>\n    </tr>\n    <tr>\n      <th>2</th>\n      <td>ffc47bc5-ae0f-11da-b3fb-8df7c9751e06</td>\n      <td>29</td>\n      <td>26</td>\n      <td>59765</td>\n      <td>49816</td>\n      <td>37776</td>\n      <td>0</td>\n      <td>LUSCHENKING</td>\n      <td>T.K.</td>\n      <td>BONNIE PARKER</td>\n      <td>NaN</td>\n      <td>1141759469</td>\n      <td>4</td>\n      <td>4.0</td>\n    </tr>\n    <tr>\n      <th>3</th>\n      <td>7afc2c30-ae0f-11da-b3fb-8df7c9751e06</td>\n      <td>34</td>\n      <td>33</td>\n      <td>25365</td>\n      <td>37026</td>\n      <td>25346</td>\n      <td>0</td>\n      <td>PATER</td>\n      <td>FANTASIO17</td>\n      <td>KRUEMEL96</td>\n      <td>NaN</td>\n      <td>1141759247</td>\n      <td>4</td>\n      <td>4.0</td>\n    </tr>\n    <tr>\n      <th>4</th>\n      <td>7cdc0fc3-ae0f-11da-b3fb-8df7c9751e06</td>\n      <td>33</td>\n      <td>31</td>\n      <td>39775</td>\n      <td>42482</td>\n      <td>8453</td>\n      <td>0</td>\n      <td>HARRYHIRSCH</td>\n      <td>DIKO98</td>\n      <td>DOKTORBIER</td>\n      <td>NaN</td>\n      <td>1141759250</td>\n      <td>4</td>\n      <td>4.0</td>\n    </tr>\n    <tr>\n      <th>...</th>\n      <td>...</td>\n      <td>...</td>\n      <td>...</td>\n      <td>...</td>\n      <td>...</td>\n      <td>...</td>\n      <td>...</td>\n      <td>...</td>\n      <td>...</td>\n      <td>...</td>\n      <td>...</td>\n      <td>...</td>\n      <td>...</td>\n      <td>...</td>\n    </tr>\n    <tr>\n      <th>11919</th>\n      <td>6x7S67QWV3xRF</td>\n      <td>T11</td>\n      <td>3</td>\n      <td>237339</td>\n      <td>239742</td>\n      <td>8662</td>\n      <td>0</td>\n      <td>TOTTI 48</td>\n      <td>ELACHEN</td>\n      <td>HUGO 1005</td>\n      <td>NaN</td>\n      <td>1490724005</td>\n      <td>4</td>\n      <td>24242.0</td>\n    </tr>\n    <tr>\n      <th>11920</th>\n      <td>6x7S67QWV3xRO</td>\n      <td>T8</td>\n      <td>6</td>\n      <td>37068</td>\n      <td>240390</td>\n      <td>279741</td>\n      <td>0</td>\n      <td>WOLLE67</td>\n      <td>SCHACHSPIELER50</td>\n      <td>POWERPAUL1</td>\n      <td>NaN</td>\n      <td>1490724033</td>\n      <td>4</td>\n      <td>24242.0</td>\n    </tr>\n    <tr>\n      <th>11921</th>\n      <td>6x7S67QWV3xRD</td>\n      <td>T2</td>\n      <td>13</td>\n      <td>300814</td>\n      <td>70362</td>\n      <td>325948</td>\n      <td>0</td>\n      <td>SKAT AMATEUR</td>\n      <td>ELBE</td>\n      <td>EDUARD DER ZWEITE</td>\n      <td>NaN</td>\n      <td>1490724023</td>\n      <td>4</td>\n      <td>24242.0</td>\n    </tr>\n    <tr>\n      <th>11922</th>\n      <td>6x7S67QWV3xRK</td>\n      <td>T5</td>\n      <td>11</td>\n      <td>370619</td>\n      <td>172135</td>\n      <td>155110</td>\n      <td>0</td>\n      <td>PIKDAME1900</td>\n      <td>SCHROCKI5</td>\n      <td>MONSCHI1965</td>\n      <td>NaN</td>\n      <td>1490724064</td>\n      <td>4</td>\n      <td>24242.0</td>\n    </tr>\n    <tr>\n      <th>11923</th>\n      <td>6x7S67QWV3x63V</td>\n      <td>T2</td>\n      <td>13</td>\n      <td>300814</td>\n      <td>70362</td>\n      <td>325948</td>\n      <td>0</td>\n      <td>SKAT AMATEUR</td>\n      <td>ELBE</td>\n      <td>EDUARD DER ZWEITE</td>\n      <td>NaN</td>\n      <td>1490726374</td>\n      <td>4</td>\n      <td>24242.0</td>\n    </tr>\n  </tbody>\n</table>\n<p>11924 rows × 14 columns</p>\n</div>"
     },
     "execution_count": 251,
     "metadata": {},
     "output_type": "execute_result"
    }
   ],
   "source": [
    "\"\"\"The table dataset follows\"\"\"\n",
    "skat_bl_table_data_path = \"C:/Users/sasch/Desktop/Uni/Bachelorarbeit/SaschaBenz/data/dl/bl_skattisch.CSV\"\n",
    "\n",
    "skat_bl_table_data_frame = pd.read_csv(skat_bl_table_data_path, header=None)\n",
    "\n",
    "skat_bl_table_data_frame.columns = [\"IDTable\", \"Name\", \"Number\", \"PlayerID1\", \"PlayerID2\", \"PlayerID3\", \"PlayerID4\",\n",
    "                                    \"Player1\", \"Player2\", \"Player3\", \"Player4\", \"Date\", \"IDVServer\", \"Series\"]\n",
    "\n",
    "skat_bl_table_data_frame"
   ],
   "metadata": {
    "collapsed": false,
    "pycharm": {
     "name": "#%%\n"
    }
   }
  },
  {
   "cell_type": "code",
   "execution_count": 252,
   "outputs": [
    {
     "name": "stdout",
     "output_type": "stream",
     "text": [
      "IDTable          0\n",
      "Name             0\n",
      "Number           0\n",
      "PlayerID1        0\n",
      "PlayerID2        0\n",
      "PlayerID3        0\n",
      "PlayerID4        0\n",
      "Player1          0\n",
      "Player2          0\n",
      "Player3          0\n",
      "Player4      11924\n",
      "Date             0\n",
      "IDVServer        0\n",
      "Series           3\n",
      "dtype: int64\n"
     ]
    }
   ],
   "source": [
    "# Sanity Checks\n",
    "\n",
    "print(skat_bl_table_data_frame.isna().sum())"
   ],
   "metadata": {
    "collapsed": false,
    "pycharm": {
     "name": "#%%\n"
    }
   }
  },
  {
   "cell_type": "code",
   "execution_count": 253,
   "outputs": [
    {
     "name": "stdout",
     "output_type": "stream",
     "text": [
      "11924\n"
     ]
    }
   ],
   "source": [
    "print(skat_bl_table_data_frame[\"IDTable\"].size)"
   ],
   "metadata": {
    "collapsed": false,
    "pycharm": {
     "name": "#%%\n"
    }
   }
  },
  {
   "cell_type": "code",
   "execution_count": 254,
   "outputs": [
    {
     "name": "stdout",
     "output_type": "stream",
     "text": [
      "False\n"
     ]
    }
   ],
   "source": [
    "print(skat_bl_table_data_frame[\"IDTable\"].duplicated().any())"
   ],
   "metadata": {
    "collapsed": false,
    "pycharm": {
     "name": "#%%\n"
    }
   }
  },
  {
   "cell_type": "code",
   "execution_count": 255,
   "outputs": [
    {
     "name": "stdout",
     "output_type": "stream",
     "text": [
      "                                IDTable Name  Number  PlayerID1  PlayerID2  \\\n",
      "0  799a2b2e-ae0f-11da-b3fb-8df7c9751e06    2       1       8687       8628   \n",
      "1  7245a47d-ae0f-11da-b3fb-8df7c9751e06    8       6      25444      32580   \n",
      "2  ffc47bc5-ae0f-11da-b3fb-8df7c9751e06   29      26      59765      49816   \n",
      "3  7afc2c30-ae0f-11da-b3fb-8df7c9751e06   34      33      25365      37026   \n",
      "4  7cdc0fc3-ae0f-11da-b3fb-8df7c9751e06   33      31      39775      42482   \n",
      "5  71c3ca4c-ae0f-11da-b3fb-8df7c9751e06   12      15      29758      20755   \n",
      "6  7478d833-ae0f-11da-b3fb-8df7c9751e06   19      18      23585      11691   \n",
      "7  729b3e90-ae0f-11da-b3fb-8df7c9751e06   11       8      22429      24313   \n",
      "8  729990df-ae0f-11da-b3fb-8df7c9751e06   18      16      27957      17169   \n",
      "9  750b2d25-ae0f-11da-b3fb-8df7c9751e06   35      34      24470      55811   \n",
      "\n",
      "   PlayerID3  PlayerID4          Player1      Player2        Player3  Player4  \\\n",
      "0       6449          0           FRED42       MIMO46           AHAB      NaN   \n",
      "1      39208          0  VERFUERTH KLAUS  DER PATE 39  STOERTEBECKER      NaN   \n",
      "2      37776          0      LUSCHENKING         T.K.  BONNIE PARKER      NaN   \n",
      "3      25346          0            PATER   FANTASIO17      KRUEMEL96      NaN   \n",
      "4       8453          0      HARRYHIRSCH       DIKO98     DOKTORBIER      NaN   \n",
      "5      58716          0           MZUNGU        HELAU       SPADEMAN      NaN   \n",
      "6       8664          0           FOXBAT     ANJA1001  STEINRAUSCHER      NaN   \n",
      "7      11070          0          B E I L    MAGGIMANN     DEICHHEINZ      NaN   \n",
      "8      11803          0        ENTENLUTZ    PROFESSOR         SHUFTA      NaN   \n",
      "9      30141          0         SENTASSI       CAPONE      SKATMICHI      NaN   \n",
      "\n",
      "         Date  IDVServer  Series  \n",
      "0  1141759244          4     4.0  \n",
      "1  1141759232          4     4.0  \n",
      "2  1141759469          4     4.0  \n",
      "3  1141759247          4     4.0  \n",
      "4  1141759250          4     4.0  \n",
      "5  1141759231          4     4.0  \n",
      "6  1141759236          4     4.0  \n",
      "7  1141759233          4     4.0  \n",
      "8  1141759233          4     4.0  \n",
      "9  1141759237          4     4.0  \n"
     ]
    }
   ],
   "source": [
    "head = skat_bl_table_data_frame.head(n=10)\n",
    "print(head)"
   ],
   "metadata": {
    "collapsed": false,
    "pycharm": {
     "name": "#%%\n"
    }
   }
  },
  {
   "cell_type": "code",
   "execution_count": 256,
   "outputs": [],
   "source": [
    "\"\"\"The game dataset follows\"\"\"\n",
    "\n",
    "skat_bl_game_data_path = \"C:/Users/sasch/Desktop/Uni/Bachelorarbeit/SaschaBenz/data/dl/bl_skattisch_spiel.CSV\"\n",
    "\n",
    "skat_bl_game_data_frame = pd.read_csv(skat_bl_game_data_path, header=None)\n",
    "\n",
    "skat_bl_game_data_frame.columns = [\"GameID\", \"IDGame\", \"IDTable\", \"IDVServer\", \"StartTime\", \"EndTime\", \"PlayerFH\",\n",
    "                                   \"PlayerMH\", \"PlayerBH\", \"Card1\", \"Card2\", \"Card3\", \"Card4\", \"Card5\", \"Card6\",\n",
    "                                   \"Card7\", \"Card8\", \"Card9\", \"Card10\", \"Card11\", \"Card12\", \"Card13\", \"Card14\",\n",
    "                                   \"Card15\", \"Card16\", \"Card17\", \"Card18\", \"Card19\", \"Card20\", \"Card21\", \"Card22\",\n",
    "                                   \"Card23\", \"Card24\", \"Card25\", \"Card26\", \"Card27\", \"Card28\", \"Card29\", \"Card30\",\n",
    "                                   \"Card31\", \"Card32\", \"CallValueFH\", \"CallValueMH\", \"CallValueBH\", \"PlayerID\", \"Game\",\n",
    "                                   \"With\", \"Without\", \"Hand\", \"Schneider\", \"SchneiderCalled\", \"Schwarz\",\n",
    "                                   \"SchwarzCalled\", \"Overt\", \"PointsPlayer\", \"Won\", \"Miscall\",\n",
    "                                   \"CardPointsPlayer\", \"AllPassed\", \"Surrendered\", \"PlayerPosAtTableFH\",\n",
    "                                   \"PlayerPosAtTableMH\", \"PlayerPosAtTableBH\"]"
   ],
   "metadata": {
    "collapsed": false,
    "pycharm": {
     "name": "#%%\n"
    }
   }
  },
  {
   "cell_type": "code",
   "execution_count": 257,
   "outputs": [
    {
     "name": "stdout",
     "output_type": "stream",
     "text": [
      "   GameID                                IDGame  \\\n",
      "0       1  9ff1d7c1-ae0f-11da-b3fb-8df7c9751e06   \n",
      "1       2  c7c48b9e-ae0f-11da-b3fb-8df7c9751e06   \n",
      "2       3  f2de7b40-ae0f-11da-b3fb-8df7c9751e06   \n",
      "3       4  269b9093-ae10-11da-b3fb-8df7c9751e06   \n",
      "4       5  5206ad6f-ae10-11da-b3fb-8df7c9751e06   \n",
      "5       6  811f68fb-ae10-11da-b3fb-8df7c9751e06   \n",
      "6       7  baed1441-ae10-11da-b3fb-8df7c9751e06   \n",
      "7       8  e2598c37-ae10-11da-b3fb-8df7c9751e06   \n",
      "8       9  0d643994-ae11-11da-b3fb-8df7c9751e06   \n",
      "9      10  131c7557-ae11-11da-b3fb-8df7c9751e06   \n",
      "\n",
      "                                IDTable  IDVServer   StartTime     EndTime  \\\n",
      "0  799a2b2e-ae0f-11da-b3fb-8df7c9751e06          4  1141759244  1141759309   \n",
      "1  799a2b2e-ae0f-11da-b3fb-8df7c9751e06          4  1141759312  1141759376   \n",
      "2  799a2b2e-ae0f-11da-b3fb-8df7c9751e06          4  1141759379  1141759448   \n",
      "3  799a2b2e-ae0f-11da-b3fb-8df7c9751e06          4  1141759451  1141759535   \n",
      "4  799a2b2e-ae0f-11da-b3fb-8df7c9751e06          4  1141759539  1141759607   \n",
      "5  799a2b2e-ae0f-11da-b3fb-8df7c9751e06          4  1141759612  1141759686   \n",
      "6  799a2b2e-ae0f-11da-b3fb-8df7c9751e06          4  1141759719  1141759783   \n",
      "7  799a2b2e-ae0f-11da-b3fb-8df7c9751e06          4  1141759788  1141759850   \n",
      "8  799a2b2e-ae0f-11da-b3fb-8df7c9751e06          4  1141759856  1141759922   \n",
      "9  799a2b2e-ae0f-11da-b3fb-8df7c9751e06          4  1141759925  1141759931   \n",
      "\n",
      "   PlayerFH  PlayerMH  PlayerBH  Card1  ...  Overt  PointsPlayer  Won  \\\n",
      "0      8628      6449      8687     10  ...      0            98    1   \n",
      "1      6449      8687      8628     22  ...      0           146    1   \n",
      "2      8687      8628      6449     16  ...      0           110    1   \n",
      "3      8628      6449      8687     12  ...      0            98    1   \n",
      "4      6449      8687      8628     24  ...      0           122    1   \n",
      "5      8687      8628      6449     15  ...      0            83    1   \n",
      "6      8628      6449      8687      4  ...      0            77    1   \n",
      "7      6449      8687      8628     23  ...      0            72    1   \n",
      "8      8687      8628      6449     28  ...      0            83    1   \n",
      "9      8628      6449      8687     24  ...      0             0    0   \n",
      "\n",
      "   Miscall  CardPointsPlayer  AllPassed  Surrendered  PlayerPosAtTableFH  \\\n",
      "0        0               112          0            0                   1   \n",
      "1        0               100          0            0                   2   \n",
      "2        0                99          0            0                   0   \n",
      "3        0                62          0            0                   1   \n",
      "4        0                91          0            0                   2   \n",
      "5        0                94          0            0                   0   \n",
      "6        0                71          0            0                   1   \n",
      "7        0                66          0            0                   2   \n",
      "8        0                66          0            0                   0   \n",
      "9        0                 0          1            0                   1   \n",
      "\n",
      "   PlayerPosAtTableMH  PlayerPosAtTableBH  \n",
      "0                   2                   0  \n",
      "1                   0                   1  \n",
      "2                   1                   2  \n",
      "3                   2                   0  \n",
      "4                   0                   1  \n",
      "5                   1                   2  \n",
      "6                   2                   0  \n",
      "7                   0                   1  \n",
      "8                   1                   2  \n",
      "9                   2                   0  \n",
      "\n",
      "[10 rows x 63 columns]\n"
     ]
    }
   ],
   "source": [
    "head = skat_bl_game_data_frame.head(n=10)\n",
    "print(head)"
   ],
   "metadata": {
    "collapsed": false,
    "pycharm": {
     "name": "#%%\n"
    }
   }
  },
  {
   "cell_type": "code",
   "execution_count": 258,
   "outputs": [
    {
     "data": {
      "text/plain": "         CallValueFH    CallValueMH    CallValueBH       PlayerID  \\\ncount  407259.000000  407259.000000  407259.000000  407259.000000   \nmean        9.116813       9.139501       9.131648  104217.098650   \nstd        11.009870      11.015312      11.012890   94446.125838   \nmin         0.000000       0.000000       0.000000       0.000000   \n25%         0.000000       0.000000       0.000000   25552.000000   \n50%         0.000000       0.000000       0.000000   73002.000000   \n75%        18.000000      18.000000      18.000000  162419.000000   \nmax        96.000000     120.000000      90.000000  394263.000000   \n\n                Game           With        Without           Hand  \\\ncount  407259.000000  407259.000000  407259.000000  407259.000000   \nmean       14.545628       0.921586       0.582651       0.046823   \nstd         8.866425       1.133817       0.938203       0.211259   \nmin         0.000000       0.000000       0.000000       0.000000   \n25%        10.000000       0.000000       0.000000       0.000000   \n50%        12.000000       1.000000       0.000000       0.000000   \n75%        24.000000       2.000000       1.000000       0.000000   \nmax        59.000000      10.000000       9.000000       1.000000   \n\n           Schneider  SchneiderCalled        Schwarz  SchwarzCalled  \\\ncount  407259.000000    407259.000000  407259.000000  407259.000000   \nmean        0.268701         0.026791       0.041200       0.025836   \nstd         0.443285         0.161473       0.198752       0.158646   \nmin         0.000000         0.000000       0.000000       0.000000   \n25%         0.000000         0.000000       0.000000       0.000000   \n50%         0.000000         0.000000       0.000000       0.000000   \n75%         1.000000         0.000000       0.000000       0.000000   \nmax         1.000000         1.000000       1.000000       1.000000   \n\n               Overt   PointsPlayer            Won        Miscall  \\\ncount  407259.000000  407259.000000  407259.000000  407259.000000   \nmean        0.025834      61.314259       0.786414       0.001299   \nstd         0.158639      79.583084       0.409839       0.036017   \nmin         0.000000    -530.000000       0.000000       0.000000   \n25%         0.000000      70.000000       1.000000       0.000000   \n50%         0.000000      80.000000       1.000000       0.000000   \n75%         0.000000      98.000000       1.000000       0.000000   \nmax         1.000000     314.000000       1.000000       1.000000   \n\n       CardPointsPlayer      AllPassed  Surrendered  \ncount     407259.000000  407259.000000     407259.0  \nmean          68.495139       0.075907          0.0  \nstd           31.010530       0.264850          0.0  \nmin            0.000000       0.000000          0.0  \n25%           60.000000       0.000000          0.0  \n50%           76.000000       0.000000          0.0  \n75%           89.000000       0.000000          0.0  \nmax          120.000000       1.000000          0.0  ",
      "text/html": "<div>\n<style scoped>\n    .dataframe tbody tr th:only-of-type {\n        vertical-align: middle;\n    }\n\n    .dataframe tbody tr th {\n        vertical-align: top;\n    }\n\n    .dataframe thead th {\n        text-align: right;\n    }\n</style>\n<table border=\"1\" class=\"dataframe\">\n  <thead>\n    <tr style=\"text-align: right;\">\n      <th></th>\n      <th>CallValueFH</th>\n      <th>CallValueMH</th>\n      <th>CallValueBH</th>\n      <th>PlayerID</th>\n      <th>Game</th>\n      <th>With</th>\n      <th>Without</th>\n      <th>Hand</th>\n      <th>Schneider</th>\n      <th>SchneiderCalled</th>\n      <th>Schwarz</th>\n      <th>SchwarzCalled</th>\n      <th>Overt</th>\n      <th>PointsPlayer</th>\n      <th>Won</th>\n      <th>Miscall</th>\n      <th>CardPointsPlayer</th>\n      <th>AllPassed</th>\n      <th>Surrendered</th>\n    </tr>\n  </thead>\n  <tbody>\n    <tr>\n      <th>count</th>\n      <td>407259.000000</td>\n      <td>407259.000000</td>\n      <td>407259.000000</td>\n      <td>407259.000000</td>\n      <td>407259.000000</td>\n      <td>407259.000000</td>\n      <td>407259.000000</td>\n      <td>407259.000000</td>\n      <td>407259.000000</td>\n      <td>407259.000000</td>\n      <td>407259.000000</td>\n      <td>407259.000000</td>\n      <td>407259.000000</td>\n      <td>407259.000000</td>\n      <td>407259.000000</td>\n      <td>407259.000000</td>\n      <td>407259.000000</td>\n      <td>407259.000000</td>\n      <td>407259.0</td>\n    </tr>\n    <tr>\n      <th>mean</th>\n      <td>9.116813</td>\n      <td>9.139501</td>\n      <td>9.131648</td>\n      <td>104217.098650</td>\n      <td>14.545628</td>\n      <td>0.921586</td>\n      <td>0.582651</td>\n      <td>0.046823</td>\n      <td>0.268701</td>\n      <td>0.026791</td>\n      <td>0.041200</td>\n      <td>0.025836</td>\n      <td>0.025834</td>\n      <td>61.314259</td>\n      <td>0.786414</td>\n      <td>0.001299</td>\n      <td>68.495139</td>\n      <td>0.075907</td>\n      <td>0.0</td>\n    </tr>\n    <tr>\n      <th>std</th>\n      <td>11.009870</td>\n      <td>11.015312</td>\n      <td>11.012890</td>\n      <td>94446.125838</td>\n      <td>8.866425</td>\n      <td>1.133817</td>\n      <td>0.938203</td>\n      <td>0.211259</td>\n      <td>0.443285</td>\n      <td>0.161473</td>\n      <td>0.198752</td>\n      <td>0.158646</td>\n      <td>0.158639</td>\n      <td>79.583084</td>\n      <td>0.409839</td>\n      <td>0.036017</td>\n      <td>31.010530</td>\n      <td>0.264850</td>\n      <td>0.0</td>\n    </tr>\n    <tr>\n      <th>min</th>\n      <td>0.000000</td>\n      <td>0.000000</td>\n      <td>0.000000</td>\n      <td>0.000000</td>\n      <td>0.000000</td>\n      <td>0.000000</td>\n      <td>0.000000</td>\n      <td>0.000000</td>\n      <td>0.000000</td>\n      <td>0.000000</td>\n      <td>0.000000</td>\n      <td>0.000000</td>\n      <td>0.000000</td>\n      <td>-530.000000</td>\n      <td>0.000000</td>\n      <td>0.000000</td>\n      <td>0.000000</td>\n      <td>0.000000</td>\n      <td>0.0</td>\n    </tr>\n    <tr>\n      <th>25%</th>\n      <td>0.000000</td>\n      <td>0.000000</td>\n      <td>0.000000</td>\n      <td>25552.000000</td>\n      <td>10.000000</td>\n      <td>0.000000</td>\n      <td>0.000000</td>\n      <td>0.000000</td>\n      <td>0.000000</td>\n      <td>0.000000</td>\n      <td>0.000000</td>\n      <td>0.000000</td>\n      <td>0.000000</td>\n      <td>70.000000</td>\n      <td>1.000000</td>\n      <td>0.000000</td>\n      <td>60.000000</td>\n      <td>0.000000</td>\n      <td>0.0</td>\n    </tr>\n    <tr>\n      <th>50%</th>\n      <td>0.000000</td>\n      <td>0.000000</td>\n      <td>0.000000</td>\n      <td>73002.000000</td>\n      <td>12.000000</td>\n      <td>1.000000</td>\n      <td>0.000000</td>\n      <td>0.000000</td>\n      <td>0.000000</td>\n      <td>0.000000</td>\n      <td>0.000000</td>\n      <td>0.000000</td>\n      <td>0.000000</td>\n      <td>80.000000</td>\n      <td>1.000000</td>\n      <td>0.000000</td>\n      <td>76.000000</td>\n      <td>0.000000</td>\n      <td>0.0</td>\n    </tr>\n    <tr>\n      <th>75%</th>\n      <td>18.000000</td>\n      <td>18.000000</td>\n      <td>18.000000</td>\n      <td>162419.000000</td>\n      <td>24.000000</td>\n      <td>2.000000</td>\n      <td>1.000000</td>\n      <td>0.000000</td>\n      <td>1.000000</td>\n      <td>0.000000</td>\n      <td>0.000000</td>\n      <td>0.000000</td>\n      <td>0.000000</td>\n      <td>98.000000</td>\n      <td>1.000000</td>\n      <td>0.000000</td>\n      <td>89.000000</td>\n      <td>0.000000</td>\n      <td>0.0</td>\n    </tr>\n    <tr>\n      <th>max</th>\n      <td>96.000000</td>\n      <td>120.000000</td>\n      <td>90.000000</td>\n      <td>394263.000000</td>\n      <td>59.000000</td>\n      <td>10.000000</td>\n      <td>9.000000</td>\n      <td>1.000000</td>\n      <td>1.000000</td>\n      <td>1.000000</td>\n      <td>1.000000</td>\n      <td>1.000000</td>\n      <td>1.000000</td>\n      <td>314.000000</td>\n      <td>1.000000</td>\n      <td>1.000000</td>\n      <td>120.000000</td>\n      <td>1.000000</td>\n      <td>0.0</td>\n    </tr>\n  </tbody>\n</table>\n</div>"
     },
     "execution_count": 258,
     "metadata": {},
     "output_type": "execute_result"
    }
   ],
   "source": [
    "skat_bl_game_data_frame[[\"CallValueFH\", \"CallValueMH\", \"CallValueBH\", \"PlayerID\", \"Game\",\n",
    "                         \"With\", \"Without\", \"Hand\", \"Schneider\", \"SchneiderCalled\", \"Schwarz\",\n",
    "                         \"SchwarzCalled\", \"Overt\", \"PointsPlayer\", \"Won\", \"Miscall\",\n",
    "                         \"CardPointsPlayer\", \"AllPassed\", \"Surrendered\"]].describe()"
   ],
   "metadata": {
    "collapsed": false,
    "pycharm": {
     "name": "#%% Sanity Checks\n"
    }
   }
  },
  {
   "cell_type": "code",
   "execution_count": 259,
   "outputs": [
    {
     "data": {
      "text/plain": "         CallValueFH    CallValueMH    CallValueBH  PlayerPosAtTableFH  \\\ncount  407259.000000  407259.000000  407259.000000       407259.000000   \nmean        9.116813       9.139501       9.131648            1.000037   \nstd        11.009870      11.015312      11.012890            0.816457   \nmin         0.000000       0.000000       0.000000            0.000000   \n25%         0.000000       0.000000       0.000000            0.000000   \n50%         0.000000       0.000000       0.000000            1.000000   \n75%        18.000000      18.000000      18.000000            2.000000   \nmax        96.000000     120.000000      90.000000            2.000000   \n\n       PlayerPosAtTableMH  PlayerPosAtTableBH  \ncount       407259.000000       407259.000000  \nmean             1.000081            0.999845  \nstd              0.816544            0.816514  \nmin              0.000000            0.000000  \n25%              0.000000            0.000000  \n50%              1.000000            1.000000  \n75%              2.000000            2.000000  \nmax              2.000000            2.000000  ",
      "text/html": "<div>\n<style scoped>\n    .dataframe tbody tr th:only-of-type {\n        vertical-align: middle;\n    }\n\n    .dataframe tbody tr th {\n        vertical-align: top;\n    }\n\n    .dataframe thead th {\n        text-align: right;\n    }\n</style>\n<table border=\"1\" class=\"dataframe\">\n  <thead>\n    <tr style=\"text-align: right;\">\n      <th></th>\n      <th>CallValueFH</th>\n      <th>CallValueMH</th>\n      <th>CallValueBH</th>\n      <th>PlayerPosAtTableFH</th>\n      <th>PlayerPosAtTableMH</th>\n      <th>PlayerPosAtTableBH</th>\n    </tr>\n  </thead>\n  <tbody>\n    <tr>\n      <th>count</th>\n      <td>407259.000000</td>\n      <td>407259.000000</td>\n      <td>407259.000000</td>\n      <td>407259.000000</td>\n      <td>407259.000000</td>\n      <td>407259.000000</td>\n    </tr>\n    <tr>\n      <th>mean</th>\n      <td>9.116813</td>\n      <td>9.139501</td>\n      <td>9.131648</td>\n      <td>1.000037</td>\n      <td>1.000081</td>\n      <td>0.999845</td>\n    </tr>\n    <tr>\n      <th>std</th>\n      <td>11.009870</td>\n      <td>11.015312</td>\n      <td>11.012890</td>\n      <td>0.816457</td>\n      <td>0.816544</td>\n      <td>0.816514</td>\n    </tr>\n    <tr>\n      <th>min</th>\n      <td>0.000000</td>\n      <td>0.000000</td>\n      <td>0.000000</td>\n      <td>0.000000</td>\n      <td>0.000000</td>\n      <td>0.000000</td>\n    </tr>\n    <tr>\n      <th>25%</th>\n      <td>0.000000</td>\n      <td>0.000000</td>\n      <td>0.000000</td>\n      <td>0.000000</td>\n      <td>0.000000</td>\n      <td>0.000000</td>\n    </tr>\n    <tr>\n      <th>50%</th>\n      <td>0.000000</td>\n      <td>0.000000</td>\n      <td>0.000000</td>\n      <td>1.000000</td>\n      <td>1.000000</td>\n      <td>1.000000</td>\n    </tr>\n    <tr>\n      <th>75%</th>\n      <td>18.000000</td>\n      <td>18.000000</td>\n      <td>18.000000</td>\n      <td>2.000000</td>\n      <td>2.000000</td>\n      <td>2.000000</td>\n    </tr>\n    <tr>\n      <th>max</th>\n      <td>96.000000</td>\n      <td>120.000000</td>\n      <td>90.000000</td>\n      <td>2.000000</td>\n      <td>2.000000</td>\n      <td>2.000000</td>\n    </tr>\n  </tbody>\n</table>\n</div>"
     },
     "execution_count": 259,
     "metadata": {},
     "output_type": "execute_result"
    }
   ],
   "source": [
    "skat_bl_game_data_frame[[\"CallValueFH\", \"CallValueMH\", \"CallValueBH\", \"PlayerPosAtTableFH\", \"PlayerPosAtTableMH\",\n",
    "                         \"PlayerPosAtTableBH\"]].describe()"
   ],
   "metadata": {
    "collapsed": false,
    "pycharm": {
     "name": "#%%\n"
    }
   }
  },
  {
   "cell_type": "code",
   "execution_count": 260,
   "outputs": [
    {
     "name": "stdout",
     "output_type": "stream",
     "text": [
      "0\n"
     ]
    }
   ],
   "source": [
    "print(skat_bl_game_data_frame.isna().sum().sum())"
   ],
   "metadata": {
    "collapsed": false,
    "pycharm": {
     "name": "#%%\n"
    }
   }
  },
  {
   "cell_type": "code",
   "execution_count": 261,
   "outputs": [
    {
     "name": "stdout",
     "output_type": "stream",
     "text": [
      "407259\n"
     ]
    }
   ],
   "source": [
    "print(skat_bl_game_data_frame[\"GameID\"].size)"
   ],
   "metadata": {
    "collapsed": false,
    "pycharm": {
     "name": "#%%\n"
    }
   }
  },
  {
   "cell_type": "code",
   "execution_count": 262,
   "outputs": [
    {
     "name": "stdout",
     "output_type": "stream",
     "text": [
      "False\n"
     ]
    }
   ],
   "source": [
    "print(skat_bl_game_data_frame[\"GameID\"].duplicated().any())"
   ],
   "metadata": {
    "collapsed": false,
    "pycharm": {
     "name": "#%%\n"
    }
   }
  },
  {
   "cell_type": "code",
   "execution_count": 263,
   "outputs": [
    {
     "name": "stdout",
     "output_type": "stream",
     "text": [
      "False\n"
     ]
    }
   ],
   "source": [
    "print(skat_bl_game_data_frame[\"IDGame\"].duplicated().any())"
   ],
   "metadata": {
    "collapsed": false,
    "pycharm": {
     "name": "#%%\n"
    }
   }
  },
  {
   "cell_type": "code",
   "execution_count": 264,
   "outputs": [
    {
     "data": {
      "text/plain": "1    0.786414\n0    0.213586\nName: Won, dtype: float64"
     },
     "execution_count": 264,
     "metadata": {},
     "output_type": "execute_result"
    }
   ],
   "source": [
    "skat_bl_game_data_frame[\"Won\"].value_counts(normalize=True)"
   ],
   "metadata": {
    "collapsed": false,
    "pycharm": {
     "name": "#%%\n"
    }
   }
  },
  {
   "cell_type": "code",
   "execution_count": 265,
   "outputs": [
    {
     "data": {
      "text/plain": "0    0.731299\n1    0.268701\nName: Schneider, dtype: float64"
     },
     "execution_count": 265,
     "metadata": {},
     "output_type": "execute_result"
    }
   ],
   "source": [
    "skat_bl_game_data_frame[\"Schneider\"].value_counts(normalize=True)"
   ],
   "metadata": {
    "collapsed": false,
    "pycharm": {
     "name": "#%%\n"
    }
   }
  },
  {
   "cell_type": "code",
   "execution_count": 266,
   "outputs": [
    {
     "data": {
      "text/plain": "0    0.9588\n1    0.0412\nName: Schwarz, dtype: float64"
     },
     "execution_count": 266,
     "metadata": {},
     "output_type": "execute_result"
    }
   ],
   "source": [
    "skat_bl_game_data_frame[\"Schwarz\"].value_counts(normalize=True)"
   ],
   "metadata": {
    "collapsed": false,
    "pycharm": {
     "name": "#%%\n"
    }
   }
  },
  {
   "cell_type": "code",
   "execution_count": 267,
   "outputs": [
    {
     "data": {
      "text/plain": "24    102087\n12     81812\n11     66704\n10     56240\n9      47285\n0      30914\n23     11334\n46      9458\n59      1028\n35       397\nName: Game, dtype: int64"
     },
     "execution_count": 267,
     "metadata": {},
     "output_type": "execute_result"
    }
   ],
   "source": [
    "skat_bl_game_data_frame[\"Game\"].value_counts()"
   ],
   "metadata": {
    "collapsed": false,
    "pycharm": {
     "name": "#%%\n"
    }
   }
  },
  {
   "cell_type": "code",
   "execution_count": 268,
   "outputs": [
    {
     "data": {
      "text/plain": "0    0.924093\n1    0.075907\nName: AllPassed, dtype: float64"
     },
     "execution_count": 268,
     "metadata": {},
     "output_type": "execute_result"
    }
   ],
   "source": [
    "skat_bl_game_data_frame[\"AllPassed\"].value_counts(normalize=True)"
   ],
   "metadata": {
    "collapsed": false,
    "pycharm": {
     "name": "#%%\n"
    }
   }
  },
  {
   "cell_type": "code",
   "execution_count": 269,
   "outputs": [
    {
     "data": {
      "text/plain": "0    0.998701\n1    0.001299\nName: Miscall, dtype: float64"
     },
     "execution_count": 269,
     "metadata": {},
     "output_type": "execute_result"
    }
   ],
   "source": [
    "skat_bl_game_data_frame[\"Miscall\"].value_counts(normalize=True)"
   ],
   "metadata": {
    "collapsed": false,
    "pycharm": {
     "name": "#%%\n"
    }
   }
  },
  {
   "cell_type": "code",
   "execution_count": 270,
   "outputs": [
    {
     "data": {
      "text/plain": "0    1.0\nName: Surrendered, dtype: float64"
     },
     "execution_count": 270,
     "metadata": {},
     "output_type": "execute_result"
    }
   ],
   "source": [
    "skat_bl_game_data_frame[\"Surrendered\"].value_counts(normalize=True)\n"
   ],
   "metadata": {
    "collapsed": false,
    "pycharm": {
     "name": "#%%\n"
    }
   }
  },
  {
   "cell_type": "code",
   "execution_count": 271,
   "outputs": [
    {
     "data": {
      "text/plain": "0    0.998701\n1    0.001299\nName: Miscall, dtype: float64"
     },
     "execution_count": 271,
     "metadata": {},
     "output_type": "execute_result"
    }
   ],
   "source": [
    "skat_bl_game_data_frame[\"Miscall\"].value_counts(normalize=True)"
   ],
   "metadata": {
    "collapsed": false,
    "pycharm": {
     "name": "#%%\n"
    }
   }
  },
  {
   "cell_type": "code",
   "execution_count": 272,
   "outputs": [],
   "source": [
    "# Data Visualisation"
   ],
   "metadata": {
    "collapsed": false,
    "pycharm": {
     "name": "#%%\n"
    }
   }
  },
  {
   "cell_type": "code",
   "execution_count": 273,
   "outputs": [
    {
     "data": {
      "text/plain": "Grand               0.250668\nCross               0.200884\nSpades              0.163788\nHearts              0.138094\nDiamonds            0.116105\nAllPassed           0.075907\nNull                0.027830\nNull Ouvert         0.023224\nNull Ouvert Hand    0.002524\nNull Hand           0.000975\nName: Game, dtype: float64"
     },
     "execution_count": 273,
     "metadata": {},
     "output_type": "execute_result"
    }
   ],
   "source": [
    "# Analysis of games\n",
    "game_variants = skat_bl_game_data_frame[\"Game\"].value_counts(normalize=True)\n",
    "game_variants = game_variants.rename(\n",
    "    index={24: \"Grand\", 12: \"Cross\", 11: \"Spades\", 10: \"Hearts\", 9: \"Diamonds\", 0: \"AllPassed\", 23: \"Null\",\n",
    "           46: \"Null Ouvert\", 59: \"Null Ouvert Hand\", 35: \"Null Hand\"})\n",
    "game_variants"
   ],
   "metadata": {
    "collapsed": false,
    "pycharm": {
     "name": "#%%\n"
    }
   }
  },
  {
   "cell_type": "code",
   "execution_count": 274,
   "outputs": [
    {
     "data": {
      "text/plain": "<AxesSubplot:ylabel='Game'>"
     },
     "execution_count": 274,
     "metadata": {},
     "output_type": "execute_result"
    },
    {
     "data": {
      "text/plain": "<Figure size 432x288 with 1 Axes>",
      "image/png": "[encoded data removed]"
     },
     "metadata": {},
     "output_type": "display_data"
    }
   ],
   "source": [
    "# Create a pie plot showing the relative occurrence of game variants in all games\n",
    "game_variants.plot(kind=\"pie\", y=\"Game\", autopct='%1.0f%%')"
   ],
   "metadata": {
    "collapsed": false,
    "pycharm": {
     "name": "#%%\n"
    }
   }
  },
  {
   "cell_type": "code",
   "execution_count": 275,
   "outputs": [
    {
     "data": {
      "text/plain": "Grand               0.303309\nCross               0.208084\nSpades              0.170198\nHearts              0.143299\nDiamonds            0.120640\nNull Ouvert         0.027692\nNull                0.022731\nNull Ouvert Hand    0.003129\nNull Hand           0.000918\nAllPassed           0.000000\nName: Game, dtype: float64"
     },
     "execution_count": 275,
     "metadata": {},
     "output_type": "execute_result"
    }
   ],
   "source": [
    "# Filter the games that were won\n",
    "games_won = skat_bl_game_data_frame[skat_bl_game_data_frame[\"Won\"] == 1]\n",
    "\n",
    "game_variants_won = games_won[\"Game\"].value_counts(normalize=True)\n",
    "game_variants_won = game_variants_won.rename(\n",
    "    index={24: \"Grand\", 12: \"Cross\", 11: \"Spades\", 10: \"Hearts\", 9: \"Diamonds\", 0: \"AllPassed\", 23: \"Null\",\n",
    "           46: \"Null Ouvert\", 59: \"Null Ouvert Hand\", 35: \"Null Hand\"})\n",
    "game_variants_won.loc[\"AllPassed\"] = 0.0\n",
    "game_variants_won"
   ],
   "metadata": {
    "collapsed": false,
    "pycharm": {
     "name": "#%%\n"
    }
   }
  },
  {
   "cell_type": "code",
   "execution_count": 276,
   "outputs": [
    {
     "data": {
      "text/plain": "<AxesSubplot:ylabel='Game'>"
     },
     "execution_count": 276,
     "metadata": {},
     "output_type": "execute_result"
    },
    {
     "data": {
      "text/plain": "<Figure size 432x288 with 1 Axes>",
      "image/png": "[encoded data removed]"
     },
     "metadata": {},
     "output_type": "display_data"
    }
   ],
   "source": [
    "# Create a pie plot showing the relative occurrence of game variants in won games\n",
    "game_variants_won.plot(kind=\"pie\", y=\"Game\", autopct='%1.0f%%')"
   ],
   "metadata": {
    "collapsed": false,
    "pycharm": {
     "name": "#%%\n"
    }
   }
  },
  {
   "cell_type": "code",
   "execution_count": 277,
   "outputs": [
    {
     "data": {
      "text/plain": "AllPassed           0.355395\nCross               0.174375\nSpades              0.140185\nHearts              0.118929\nDiamonds            0.099408\nGrand               0.056849\nNull                0.046606\nNull Ouvert         0.006771\nNull Hand           0.001184\nNull Ouvert Hand    0.000299\nName: Game, dtype: float64"
     },
     "execution_count": 277,
     "metadata": {},
     "output_type": "execute_result"
    }
   ],
   "source": [
    "# Filter the games that were lost\n",
    "games_lost = skat_bl_game_data_frame[skat_bl_game_data_frame[\"Won\"] == 0]\n",
    "\n",
    "game_variants_lost = games_lost[\"Game\"].value_counts(normalize=True)\n",
    "game_variants_lost = game_variants_lost.rename(\n",
    "    index={24: \"Grand\", 12: \"Cross\", 11: \"Spades\", 10: \"Hearts\", 9: \"Diamonds\", 0: \"AllPassed\", 23: \"Null\",\n",
    "           46: \"Null Ouvert\", 59: \"Null Ouvert Hand\", 35: \"Null Hand\"})\n",
    "game_variants_lost\n",
    "\n"
   ],
   "metadata": {
    "collapsed": false,
    "pycharm": {
     "name": "#%%\n"
    }
   }
  },
  {
   "cell_type": "code",
   "execution_count": 278,
   "outputs": [
    {
     "data": {
      "text/plain": "<Figure size 432x288 with 1 Axes>",
      "image/png": "[encoded data removed]"
     },
     "metadata": {
      "needs_background": "light"
     },
     "output_type": "display_data"
    }
   ],
   "source": [
    "pos = np.arange(10)\n",
    "\n",
    "fig, ax = plt.subplots()\n",
    "\n",
    "won = ax.barh(pos, game_variants_won, 0.2, label=\"won\")\n",
    "\n",
    "lost = ax.barh(pos+0.2, game_variants_lost, 0.2, label=\"lost\")\n",
    "\n",
    "ax.set_ylabel(\"Game Variant\")\n",
    "ax.legend()\n",
    "\n",
    "plt.show()\n"
   ],
   "metadata": {
    "collapsed": false,
    "pycharm": {
     "name": "#%%\n"
    }
   }
  },
  {
   "cell_type": "code",
   "execution_count": 279,
   "outputs": [],
   "source": [
    "# Drop the games were all passed for the comparison with the won games\n",
    "game_variants_lost = game_variants_lost.drop([\"AllPassed\"])"
   ],
   "metadata": {
    "collapsed": false,
    "pycharm": {
     "name": "#%%\n"
    }
   }
  },
  {
   "cell_type": "code",
   "execution_count": 280,
   "outputs": [
    {
     "data": {
      "text/plain": "<AxesSubplot:>"
     },
     "execution_count": 280,
     "metadata": {},
     "output_type": "execute_result"
    },
    {
     "data": {
      "text/plain": "<Figure size 432x288 with 1 Axes>",
      "image/png": "[encoded data removed]"
     },
     "metadata": {
      "needs_background": "light"
     },
     "output_type": "display_data"
    }
   ],
   "source": [
    "# difference between all game variants and won games\n",
    "game_difference = game_variants_won - game_variants_lost\n",
    "\n",
    "game_difference.plot.barh(xlim=[-0.05, 0.3])\n",
    "# plt.barh(game_difference,)\n",
    "# plt.show()\n",
    "\n"
   ],
   "metadata": {
    "collapsed": false,
    "pycharm": {
     "name": "#%%\n"
    }
   }
  },
  {
   "cell_type": "code",
   "execution_count": 281,
   "outputs": [],
   "source": [
    "# Data Cleansing"
   ],
   "metadata": {
    "collapsed": false,
    "pycharm": {
     "name": "#%%\n"
    }
   }
  },
  {
   "cell_type": "code",
   "execution_count": 282,
   "outputs": [],
   "source": [
    "# Drop irrelevant information\n",
    "games_clean = skat_bl_game_data_frame.drop([\"IDVServer\",\"StartTime\", \"EndTime\"], axis=1)\n"
   ],
   "metadata": {
    "collapsed": false,
    "pycharm": {
     "name": "#%%\n"
    }
   }
  },
  {
   "cell_type": "code",
   "execution_count": 285,
   "outputs": [
    {
     "data": {
      "text/plain": "        GameID                                IDGame  \\\n0            1  9ff1d7c1-ae0f-11da-b3fb-8df7c9751e06   \n1            2  c7c48b9e-ae0f-11da-b3fb-8df7c9751e06   \n2            3  f2de7b40-ae0f-11da-b3fb-8df7c9751e06   \n3            4  269b9093-ae10-11da-b3fb-8df7c9751e06   \n4            5  5206ad6f-ae10-11da-b3fb-8df7c9751e06   \n...        ...                                   ...   \n407254  407255                        6x7S67QWV3x6CO   \n407255  407256                        6x7S67QWV3x6CG   \n407256  407257                        6x7S67QWV3x6CJ   \n407257  407258                        6x7S67QWV3x6YV   \n407258  407259  6a64a851-606f-11dc-817b-8df7c9751e06   \n\n                                     IDTable  PlayerFH  PlayerMH  PlayerBH  \\\n0       799a2b2e-ae0f-11da-b3fb-8df7c9751e06      8628      6449      8687   \n1       799a2b2e-ae0f-11da-b3fb-8df7c9751e06      6449      8687      8628   \n2       799a2b2e-ae0f-11da-b3fb-8df7c9751e06      8687      8628      6449   \n3       799a2b2e-ae0f-11da-b3fb-8df7c9751e06      8628      6449      8687   \n4       799a2b2e-ae0f-11da-b3fb-8df7c9751e06      6449      8687      8628   \n...                                      ...       ...       ...       ...   \n407254                        6x7S67QWV3x63V    325948    300814     70362   \n407255                        6x7S67QWV3x63V    300814     70362    325948   \n407256                        6x7S67QWV3x63V    325948    300814     70362   \n407257                        6x7S67QWV3x63V    300814     70362    325948   \n407258  3c1e748d-606e-11dc-817b-8df7c9751e06        56     48018       738   \n\n                     Card1               Card2               Card3  \\\n0       [0, 0, 1, 0, 4, 0]  [1, 0, 0, 0, 8, 1]  [0, 1, 0, 0, 6, 0]   \n1       [0, 1, 0, 0, 2, 0]  [1, 0, 0, 0, 1, 0]  [0, 0, 1, 0, 3, 0]   \n2       [0, 1, 0, 0, 7, 0]  [0, 1, 0, 0, 5, 0]  [1, 0, 0, 0, 7, 0]   \n3       [0, 0, 1, 0, 6, 0]  [0, 1, 0, 0, 6, 0]  [0, 0, 0, 1, 6, 0]   \n4       [1, 0, 0, 0, 7, 0]  [0, 0, 0, 1, 7, 0]  [0, 1, 0, 0, 1, 0]   \n...                    ...                 ...                 ...   \n407254  [0, 1, 0, 0, 8, 1]  [1, 0, 0, 0, 2, 0]  [0, 0, 0, 1, 2, 0]   \n407255  [0, 0, 0, 1, 3, 0]  [0, 0, 1, 0, 8, 1]  [0, 0, 1, 0, 2, 0]   \n407256  [0, 0, 0, 1, 7, 0]  [0, 1, 0, 0, 7, 0]  [0, 0, 1, 0, 3, 0]   \n407257  [0, 0, 1, 0, 6, 0]  [0, 0, 0, 1, 4, 0]  [0, 0, 0, 1, 6, 0]   \n407258  [0, 1, 0, 0, 4, 0]  [0, 0, 1, 0, 4, 0]  [0, 0, 0, 1, 1, 0]   \n\n                     Card4  ... Overt PointsPlayer Won Miscall  \\\n0       [0, 0, 0, 1, 1, 0]  ...     0           98   1       0   \n1       [0, 0, 0, 1, 8, 1]  ...     0          146   1       0   \n2       [0, 0, 1, 0, 8, 1]  ...     0          110   1       0   \n3       [0, 0, 0, 1, 3, 0]  ...     0           98   1       0   \n4       [0, 0, 1, 0, 3, 0]  ...     0          122   1       0   \n...                    ...  ...   ...          ...  ..     ...   \n407254  [0, 0, 0, 1, 5, 0]  ...     0          146   1       0   \n407255  [0, 1, 0, 0, 5, 0]  ...     0            0   0       0   \n407256  [1, 0, 0, 0, 2, 0]  ...     0            0   0       0   \n407257  [1, 0, 0, 0, 7, 0]  ...     0           74   1       0   \n407258  [0, 0, 0, 1, 5, 0]  ...     0           77   1       0   \n\n       CardPointsPlayer AllPassed Surrendered PlayerPosAtTableFH  \\\n0                   112         0           0                  1   \n1                   100         0           0                  2   \n2                    99         0           0                  0   \n3                    62         0           0                  1   \n4                    91         0           0                  2   \n...                 ...       ...         ...                ...   \n407254               99         0           0                  2   \n407255                0         1           0                  0   \n407256                0         1           0                  2   \n407257               77         0           0                  0   \n407258               78         0           0                  1   \n\n       PlayerPosAtTableMH PlayerPosAtTableBH  \n0                       2                  0  \n1                       0                  1  \n2                       1                  2  \n3                       2                  0  \n4                       0                  1  \n...                   ...                ...  \n407254                  0                  1  \n407255                  1                  2  \n407256                  0                  1  \n407257                  1                  2  \n407258                  2                  0  \n\n[407259 rows x 60 columns]",
      "text/html": "<div>\n<style scoped>\n    .dataframe tbody tr th:only-of-type {\n        vertical-align: middle;\n    }\n\n    .dataframe tbody tr th {\n        vertical-align: top;\n    }\n\n    .dataframe thead th {\n        text-align: right;\n    }\n</style>\n<table border=\"1\" class=\"dataframe\">\n  <thead>\n    <tr style=\"text-align: right;\">\n      <th></th>\n      <th>GameID</th>\n      <th>IDGame</th>\n      <th>IDTable</th>\n      <th>PlayerFH</th>\n      <th>PlayerMH</th>\n      <th>PlayerBH</th>\n      <th>Card1</th>\n      <th>Card2</th>\n      <th>Card3</th>\n      <th>Card4</th>\n      <th>...</th>\n      <th>Overt</th>\n      <th>PointsPlayer</th>\n      <th>Won</th>\n      <th>Miscall</th>\n      <th>CardPointsPlayer</th>\n      <th>AllPassed</th>\n      <th>Surrendered</th>\n      <th>PlayerPosAtTableFH</th>\n      <th>PlayerPosAtTableMH</th>\n      <th>PlayerPosAtTableBH</th>\n    </tr>\n  </thead>\n  <tbody>\n    <tr>\n      <th>0</th>\n      <td>1</td>\n      <td>9ff1d7c1-ae0f-11da-b3fb-8df7c9751e06</td>\n      <td>799a2b2e-ae0f-11da-b3fb-8df7c9751e06</td>\n      <td>8628</td>\n      <td>6449</td>\n      <td>8687</td>\n      <td>[0, 0, 1, 0, 4, 0]</td>\n      <td>[1, 0, 0, 0, 8, 1]</td>\n      <td>[0, 1, 0, 0, 6, 0]</td>\n      <td>[0, 0, 0, 1, 1, 0]</td>\n      <td>...</td>\n      <td>0</td>\n      <td>98</td>\n      <td>1</td>\n      <td>0</td>\n      <td>112</td>\n      <td>0</td>\n      <td>0</td>\n      <td>1</td>\n      <td>2</td>\n      <td>0</td>\n    </tr>\n    <tr>\n      <th>1</th>\n      <td>2</td>\n      <td>c7c48b9e-ae0f-11da-b3fb-8df7c9751e06</td>\n      <td>799a2b2e-ae0f-11da-b3fb-8df7c9751e06</td>\n      <td>6449</td>\n      <td>8687</td>\n      <td>8628</td>\n      <td>[0, 1, 0, 0, 2, 0]</td>\n      <td>[1, 0, 0, 0, 1, 0]</td>\n      <td>[0, 0, 1, 0, 3, 0]</td>\n      <td>[0, 0, 0, 1, 8, 1]</td>\n      <td>...</td>\n      <td>0</td>\n      <td>146</td>\n      <td>1</td>\n      <td>0</td>\n      <td>100</td>\n      <td>0</td>\n      <td>0</td>\n      <td>2</td>\n      <td>0</td>\n      <td>1</td>\n    </tr>\n    <tr>\n      <th>2</th>\n      <td>3</td>\n      <td>f2de7b40-ae0f-11da-b3fb-8df7c9751e06</td>\n      <td>799a2b2e-ae0f-11da-b3fb-8df7c9751e06</td>\n      <td>8687</td>\n      <td>8628</td>\n      <td>6449</td>\n      <td>[0, 1, 0, 0, 7, 0]</td>\n      <td>[0, 1, 0, 0, 5, 0]</td>\n      <td>[1, 0, 0, 0, 7, 0]</td>\n      <td>[0, 0, 1, 0, 8, 1]</td>\n      <td>...</td>\n      <td>0</td>\n      <td>110</td>\n      <td>1</td>\n      <td>0</td>\n      <td>99</td>\n      <td>0</td>\n      <td>0</td>\n      <td>0</td>\n      <td>1</td>\n      <td>2</td>\n    </tr>\n    <tr>\n      <th>3</th>\n      <td>4</td>\n      <td>269b9093-ae10-11da-b3fb-8df7c9751e06</td>\n      <td>799a2b2e-ae0f-11da-b3fb-8df7c9751e06</td>\n      <td>8628</td>\n      <td>6449</td>\n      <td>8687</td>\n      <td>[0, 0, 1, 0, 6, 0]</td>\n      <td>[0, 1, 0, 0, 6, 0]</td>\n      <td>[0, 0, 0, 1, 6, 0]</td>\n      <td>[0, 0, 0, 1, 3, 0]</td>\n      <td>...</td>\n      <td>0</td>\n      <td>98</td>\n      <td>1</td>\n      <td>0</td>\n      <td>62</td>\n      <td>0</td>\n      <td>0</td>\n      <td>1</td>\n      <td>2</td>\n      <td>0</td>\n    </tr>\n    <tr>\n      <th>4</th>\n      <td>5</td>\n      <td>5206ad6f-ae10-11da-b3fb-8df7c9751e06</td>\n      <td>799a2b2e-ae0f-11da-b3fb-8df7c9751e06</td>\n      <td>6449</td>\n      <td>8687</td>\n      <td>8628</td>\n      <td>[1, 0, 0, 0, 7, 0]</td>\n      <td>[0, 0, 0, 1, 7, 0]</td>\n      <td>[0, 1, 0, 0, 1, 0]</td>\n      <td>[0, 0, 1, 0, 3, 0]</td>\n      <td>...</td>\n      <td>0</td>\n      <td>122</td>\n      <td>1</td>\n      <td>0</td>\n      <td>91</td>\n      <td>0</td>\n      <td>0</td>\n      <td>2</td>\n      <td>0</td>\n      <td>1</td>\n    </tr>\n    <tr>\n      <th>...</th>\n      <td>...</td>\n      <td>...</td>\n      <td>...</td>\n      <td>...</td>\n      <td>...</td>\n      <td>...</td>\n      <td>...</td>\n      <td>...</td>\n      <td>...</td>\n      <td>...</td>\n      <td>...</td>\n      <td>...</td>\n      <td>...</td>\n      <td>...</td>\n      <td>...</td>\n      <td>...</td>\n      <td>...</td>\n      <td>...</td>\n      <td>...</td>\n      <td>...</td>\n      <td>...</td>\n    </tr>\n    <tr>\n      <th>407254</th>\n      <td>407255</td>\n      <td>6x7S67QWV3x6CO</td>\n      <td>6x7S67QWV3x63V</td>\n      <td>325948</td>\n      <td>300814</td>\n      <td>70362</td>\n      <td>[0, 1, 0, 0, 8, 1]</td>\n      <td>[1, 0, 0, 0, 2, 0]</td>\n      <td>[0, 0, 0, 1, 2, 0]</td>\n      <td>[0, 0, 0, 1, 5, 0]</td>\n      <td>...</td>\n      <td>0</td>\n      <td>146</td>\n      <td>1</td>\n      <td>0</td>\n      <td>99</td>\n      <td>0</td>\n      <td>0</td>\n      <td>2</td>\n      <td>0</td>\n      <td>1</td>\n    </tr>\n    <tr>\n      <th>407255</th>\n      <td>407256</td>\n      <td>6x7S67QWV3x6CG</td>\n      <td>6x7S67QWV3x63V</td>\n      <td>300814</td>\n      <td>70362</td>\n      <td>325948</td>\n      <td>[0, 0, 0, 1, 3, 0]</td>\n      <td>[0, 0, 1, 0, 8, 1]</td>\n      <td>[0, 0, 1, 0, 2, 0]</td>\n      <td>[0, 1, 0, 0, 5, 0]</td>\n      <td>...</td>\n      <td>0</td>\n      <td>0</td>\n      <td>0</td>\n      <td>0</td>\n      <td>0</td>\n      <td>1</td>\n      <td>0</td>\n      <td>0</td>\n      <td>1</td>\n      <td>2</td>\n    </tr>\n    <tr>\n      <th>407256</th>\n      <td>407257</td>\n      <td>6x7S67QWV3x6CJ</td>\n      <td>6x7S67QWV3x63V</td>\n      <td>325948</td>\n      <td>300814</td>\n      <td>70362</td>\n      <td>[0, 0, 0, 1, 7, 0]</td>\n      <td>[0, 1, 0, 0, 7, 0]</td>\n      <td>[0, 0, 1, 0, 3, 0]</td>\n      <td>[1, 0, 0, 0, 2, 0]</td>\n      <td>...</td>\n      <td>0</td>\n      <td>0</td>\n      <td>0</td>\n      <td>0</td>\n      <td>0</td>\n      <td>1</td>\n      <td>0</td>\n      <td>2</td>\n      <td>0</td>\n      <td>1</td>\n    </tr>\n    <tr>\n      <th>407257</th>\n      <td>407258</td>\n      <td>6x7S67QWV3x6YV</td>\n      <td>6x7S67QWV3x63V</td>\n      <td>300814</td>\n      <td>70362</td>\n      <td>325948</td>\n      <td>[0, 0, 1, 0, 6, 0]</td>\n      <td>[0, 0, 0, 1, 4, 0]</td>\n      <td>[0, 0, 0, 1, 6, 0]</td>\n      <td>[1, 0, 0, 0, 7, 0]</td>\n      <td>...</td>\n      <td>0</td>\n      <td>74</td>\n      <td>1</td>\n      <td>0</td>\n      <td>77</td>\n      <td>0</td>\n      <td>0</td>\n      <td>0</td>\n      <td>1</td>\n      <td>2</td>\n    </tr>\n    <tr>\n      <th>407258</th>\n      <td>407259</td>\n      <td>6a64a851-606f-11dc-817b-8df7c9751e06</td>\n      <td>3c1e748d-606e-11dc-817b-8df7c9751e06</td>\n      <td>56</td>\n      <td>48018</td>\n      <td>738</td>\n      <td>[0, 1, 0, 0, 4, 0]</td>\n      <td>[0, 0, 1, 0, 4, 0]</td>\n      <td>[0, 0, 0, 1, 1, 0]</td>\n      <td>[0, 0, 0, 1, 5, 0]</td>\n      <td>...</td>\n      <td>0</td>\n      <td>77</td>\n      <td>1</td>\n      <td>0</td>\n      <td>78</td>\n      <td>0</td>\n      <td>0</td>\n      <td>1</td>\n      <td>2</td>\n      <td>0</td>\n    </tr>\n  </tbody>\n</table>\n<p>407259 rows × 60 columns</p>\n</div>"
     },
     "execution_count": 285,
     "metadata": {},
     "output_type": "execute_result"
    }
   ],
   "source": [
    "# convert data to following encoding:\n",
    "# ♦, ♥, ♠, ♣, {7, 8, 9, Q, K, 10, A, J}, T\n",
    "def convert(card, trump):\n",
    "    vector_rep={\n",
    "        0: [0,0,0,1,7,0],   # A♣\n",
    "        1: [0,0,0,1,5,0],   # K♣\n",
    "        2: [0,0,0,1,4,0],   # Q♣\n",
    "        3: [0,0,0,1,8,1],   # J♣\n",
    "        4: [0,0,0,1,6,0],   # 10♣\n",
    "        5: [0,0,0,1,3,0],   # 9♣\n",
    "        6: [0,0,0,1,2,0],   # 8♣\n",
    "        7: [0,0,0,1,1,0],   # 7♣\n",
    "        8: [0,0,0,1,7,0],   # A♠\n",
    "        9: [0,0,0,1,5,0],   # K♠\n",
    "        10: [0,0,1,0,4,0],   # Q♠\n",
    "        11: [0,0,1,0,8,1],   # J♠\n",
    "        12: [0,0,1,0,6,0],   # 10♠\n",
    "        13: [0,0,1,0,3,0],   # 9♠\n",
    "        14: [0,0,1,0,2,0],   # 8♠\n",
    "        15: [0,0,1,0,1,0],   # 7♠\n",
    "        16: [0,1,0,0,7,0],   # A♥\n",
    "        17: [0,1,0,0,5,0],   # K♥\n",
    "        18: [0,1,0,0,4,0],   # Q♥\n",
    "        19: [0,1,0,0,8,1],   # J♥\n",
    "        20: [0,1,0,0,6,0],   # 10♥\n",
    "        21: [0,1,0,0,3,0],   # 9♥\n",
    "        22: [0,1,0,0,2,0],   # 8♥\n",
    "        23: [0,1,0,0,1,0],   # 7♥\n",
    "        24: [1,0,0,0,7,0],   # A♦\n",
    "        25: [1,0,0,0,5,0],   # K♦\n",
    "        26: [1,0,0,0,4,0],   # Q♦\n",
    "        27: [1,0,0,0,8,1],   # J♦\n",
    "        28: [1,0,0,0,6,0],   # 10♦\n",
    "        29: [1,0,0,0,3,0],   # 9♦\n",
    "        30: [1,0,0,0,2,0],   # 8♦\n",
    "        31: [1,0,0,0,1,0]   # 7♦\n",
    "    }\n",
    "    converted_card = vector_rep.get(card, \"Invalid input\")\n",
    "\n",
    "    # check in a colour game if the card is trump\n",
    "    if trump == 9:\n",
    "        if converted_card[0] == 1:\n",
    "            converted_card[-1] = 1\n",
    "    elif trump == 10:\n",
    "        if converted_card[1] == 1:\n",
    "            converted_card[-1] = 1\n",
    "    elif trump == 11:\n",
    "        if converted_card[2] == 1:\n",
    "            converted_card[-1] = 1\n",
    "    elif trump == 12:\n",
    "        if converted_card[3] == 1:\n",
    "            converted_card[-1] = 1\n",
    "\n",
    "    return converted_card\n",
    "\n",
    "trump = 0\n",
    "\n",
    "games_clean.loc[:, \"Card1\":\"Card32\"].head(n=10)\n",
    "\n",
    "games_clean.loc[:, \"Card1\":\"Card32\"] = games_clean.loc[:, \"Card1\":\"Card32\"].apply(lambda card_list: card_list.apply(lambda card: convert(card, trump=trump)))\n",
    "\n",
    "games_clean\n",
    "\n",
    "# create train and test sets\n",
    "# skat_train, skat_test = train_test_split(skat_data, test_size=0.2, random_state=0)\n",
    "\n",
    "# If data set is unsorted and randomly distributed\n",
    "# train_data = skat_data[:n*0.8]\n",
    "# test_data = skat_data[n*0.2:]"
   ],
   "metadata": {
    "collapsed": false,
    "pycharm": {
     "name": "#%%\n"
    }
   }
  }
 ],
 "metadata": {
  "kernelspec": {
   "name": "python3",
   "language": "python",
   "display_name": "Python 3"
  },
  "language_info": {
   "codemirror_mode": {
    "name": "ipython",
    "version": 2
   },
   "file_extension": ".py",
   "mimetype": "text/x-python",
   "name": "python",
   "nbconvert_exporter": "python",
   "pygments_lexer": "ipython2",
   "version": "2.7.6"
  }
 },
 "nbformat": 4,
 "nbformat_minor": 0
}