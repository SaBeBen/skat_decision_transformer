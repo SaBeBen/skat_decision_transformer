{
 "cells": [
  {
   "cell_type": "code",
   "execution_count": 2,
   "metadata": {
    "collapsed": true
   },
   "outputs": [
    {
     "data": {
      "text/plain": "                        dt            rl             bl             wm  \\\n# of Games   360945.000000  3.074701e+06  407259.000000  668267.000000   \nWin rate          0.799028  7.913911e-01       0.786414       0.797720   \nSchneider         0.269379  2.668032e-01       0.268701       0.267833   \nSchwarz           0.043095  4.287181e-02       0.041200       0.042716   \nAllPassed         0.050395  5.852504e-02       0.075907       0.049753   \nMiscall           0.002036  1.984583e-03       0.001299       0.001887   \nSurrendered       0.355470  6.572411e-02       0.000000       0.073369   \n\n                       dm  \n# of Games   1.173846e+06  \nWin rate     7.991227e-01  \nSchneider    2.664174e-01  \nSchwarz      4.207281e-02  \nAllPassed    4.813834e-02  \nMiscall      1.967890e-03  \nSurrendered  5.588297e-02  ",
      "text/html": "<div>\n<style scoped>\n    .dataframe tbody tr th:only-of-type {\n        vertical-align: middle;\n    }\n\n    .dataframe tbody tr th {\n        vertical-align: top;\n    }\n\n    .dataframe thead th {\n        text-align: right;\n    }\n</style>\n<table border=\"1\" class=\"dataframe\">\n  <thead>\n    <tr style=\"text-align: right;\">\n      <th></th>\n      <th>dt</th>\n      <th>rl</th>\n      <th>bl</th>\n      <th>wm</th>\n      <th>dm</th>\n    </tr>\n  </thead>\n  <tbody>\n    <tr>\n      <th># of Games</th>\n      <td>360945.000000</td>\n      <td>3.074701e+06</td>\n      <td>407259.000000</td>\n      <td>668267.000000</td>\n      <td>1.173846e+06</td>\n    </tr>\n    <tr>\n      <th>Win rate</th>\n      <td>0.799028</td>\n      <td>7.913911e-01</td>\n      <td>0.786414</td>\n      <td>0.797720</td>\n      <td>7.991227e-01</td>\n    </tr>\n    <tr>\n      <th>Schneider</th>\n      <td>0.269379</td>\n      <td>2.668032e-01</td>\n      <td>0.268701</td>\n      <td>0.267833</td>\n      <td>2.664174e-01</td>\n    </tr>\n    <tr>\n      <th>Schwarz</th>\n      <td>0.043095</td>\n      <td>4.287181e-02</td>\n      <td>0.041200</td>\n      <td>0.042716</td>\n      <td>4.207281e-02</td>\n    </tr>\n    <tr>\n      <th>AllPassed</th>\n      <td>0.050395</td>\n      <td>5.852504e-02</td>\n      <td>0.075907</td>\n      <td>0.049753</td>\n      <td>4.813834e-02</td>\n    </tr>\n    <tr>\n      <th>Miscall</th>\n      <td>0.002036</td>\n      <td>1.984583e-03</td>\n      <td>0.001299</td>\n      <td>0.001887</td>\n      <td>1.967890e-03</td>\n    </tr>\n    <tr>\n      <th>Surrendered</th>\n      <td>0.355470</td>\n      <td>6.572411e-02</td>\n      <td>0.000000</td>\n      <td>0.073369</td>\n      <td>5.588297e-02</td>\n    </tr>\n  </tbody>\n</table>\n</div>"
     },
     "execution_count": 1,
     "metadata": {},
     "output_type": "execute_result"
    }
   ],
   "source": [
    "import pandas as pd"
   ]
  },
  {
   "cell_type": "code",
   "execution_count": 3,
   "outputs": [],
   "source": [
    "# Read dt data set\n",
    "skat_dt_game_data_path = \"C:/Users/sasch/Desktop/Uni/Bachelorarbeit/SaschaBenz/data/dl/dt_skattisch_spiel.CSV\"\n",
    "\n",
    "skat_dt_game_data_frame = pd.read_csv(skat_dt_game_data_path, header=None)\n",
    "\n",
    "skat_dt_game_data_frame.columns = [\"GameID\", \"IDGame\", \"IDTable\", \"IDVServer\", \"StartTime\", \"EndTime\", \"PlayerFH\",\n",
    "                                   \"PlayerMH\", \"PlayerBH\", \"Card1\", \"Card2\", \"Card3\", \"Card4\", \"Card5\", \"Card6\",\n",
    "                                   \"Card7\", \"Card8\", \"Card9\", \"Card10\", \"Card11\", \"Card12\", \"Card13\", \"Card14\",\n",
    "                                   \"Card15\", \"Card16\", \"Card17\", \"Card18\", \"Card19\", \"Card20\", \"Card21\", \"Card22\",\n",
    "                                   \"Card23\", \"Card24\", \"Card25\", \"Card26\", \"Card27\", \"Card28\", \"Card29\", \"Card30\",\n",
    "                                   \"Card31\", \"Card32\", \"CallValueFH\", \"CallValueMH\", \"CallValueBH\", \"PlayerID\", \"Game\",\n",
    "                                   \"With\", \"Without\", \"Hand\", \"Schneider\", \"SchneiderCalled\", \"Schwarz\",\n",
    "                                   \"SchwarzCalled\", \"Overt\", \"PointsPlayer\", \"Won\", \"Miscall\",\n",
    "                                   \"CardPointsPlayer\", \"AllPassed\", \"Surrendered\", \"PlayerPosAtTableFH\",\n",
    "                                   \"PlayerPosAtTableMH\", \"PlayerPosAtTableBH\"]\n",
    "\n",
    "# Read rl data set\n",
    "skat_rl_game_data_path = \"C:/Users/sasch/Desktop/Uni/Bachelorarbeit/SaschaBenz/data/dl/rl_skattisch_spiel.CSV\"\n",
    "\n",
    "skat_rl_game_data_frame = pd.read_csv(skat_rl_game_data_path, header=None)\n",
    "\n",
    "skat_rl_game_data_frame.columns = [\"GameID\", \"IDGame\", \"IDTable\", \"IDVServer\", \"StartTime\", \"EndTime\", \"PlayerFH\",\n",
    "                                   \"PlayerMH\", \"PlayerBH\", \"Card1\", \"Card2\", \"Card3\", \"Card4\", \"Card5\", \"Card6\",\n",
    "                                   \"Card7\", \"Card8\", \"Card9\", \"Card10\", \"Card11\", \"Card12\", \"Card13\", \"Card14\",\n",
    "                                   \"Card15\", \"Card16\", \"Card17\", \"Card18\", \"Card19\", \"Card20\", \"Card21\", \"Card22\",\n",
    "                                   \"Card23\", \"Card24\", \"Card25\", \"Card26\", \"Card27\", \"Card28\", \"Card29\", \"Card30\",\n",
    "                                   \"Card31\", \"Card32\", \"CallValueFH\", \"CallValueMH\", \"CallValueBH\", \"PlayerID\", \"Game\",\n",
    "                                   \"With\", \"Without\", \"Hand\", \"Schneider\", \"SchneiderCalled\", \"Schwarz\",\n",
    "                                   \"SchwarzCalled\", \"Overt\", \"PointsPlayer\", \"Won\", \"Miscall\",\n",
    "                                   \"CardPointsPlayer\", \"AllPassed\", \"Surrendered\", \"PlayerPosAtTableFH\",\n",
    "                                   \"PlayerPosAtTableMH\", \"PlayerPosAtTableBH\"]\n",
    "\n",
    "# Read wm data set\n",
    "skat_wm_game_data_path = \"C:/Users/sasch/Desktop/Uni/Bachelorarbeit/SaschaBenz/data/dl/wm_skattisch_spiel.CSV\"\n",
    "\n",
    "skat_wm_game_data_frame = pd.read_csv(skat_wm_game_data_path, header=None)\n",
    "\n",
    "skat_wm_game_data_frame.columns = [\"GameID\", \"IDGame\", \"IDTable\", \"IDVServer\", \"StartTime\", \"EndTime\", \"PlayerFH\",\n",
    "                                   \"PlayerMH\", \"PlayerBH\", \"Card1\", \"Card2\", \"Card3\", \"Card4\", \"Card5\", \"Card6\",\n",
    "                                   \"Card7\", \"Card8\", \"Card9\", \"Card10\", \"Card11\", \"Card12\", \"Card13\", \"Card14\",\n",
    "                                   \"Card15\", \"Card16\", \"Card17\", \"Card18\", \"Card19\", \"Card20\", \"Card21\", \"Card22\",\n",
    "                                   \"Card23\", \"Card24\", \"Card25\", \"Card26\", \"Card27\", \"Card28\", \"Card29\", \"Card30\",\n",
    "                                   \"Card31\", \"Card32\", \"CallValueFH\", \"CallValueMH\", \"CallValueBH\", \"PlayerID\", \"Game\",\n",
    "                                   \"With\", \"Without\", \"Hand\", \"Schneider\", \"SchneiderCalled\", \"Schwarz\",\n",
    "                                   \"SchwarzCalled\", \"Overt\", \"PointsPlayer\", \"Won\", \"Miscall\",\n",
    "                                   \"CardPointsPlayer\", \"AllPassed\", \"Surrendered\", \"PlayerPosAtTableFH\",\n",
    "                                   \"PlayerPosAtTableMH\", \"PlayerPosAtTableBH\"]\n",
    "\n",
    "# Read dm data set\n",
    "skat_dm_game_data_path = \"C:/Users/sasch/Desktop/Uni/Bachelorarbeit/SaschaBenz/data/dl/dm_skattisch_spiel.CSV\"\n",
    "\n",
    "skat_dm_game_data_frame = pd.read_csv(skat_dm_game_data_path, header=None)\n",
    "\n",
    "skat_dm_game_data_frame.columns = [\"GameID\", \"IDGame\", \"IDTable\", \"IDVServer\", \"StartTime\", \"EndTime\", \"PlayerFH\",\n",
    "                                   \"PlayerMH\", \"PlayerBH\", \"Card1\", \"Card2\", \"Card3\", \"Card4\", \"Card5\", \"Card6\",\n",
    "                                   \"Card7\", \"Card8\", \"Card9\", \"Card10\", \"Card11\", \"Card12\", \"Card13\", \"Card14\",\n",
    "                                   \"Card15\", \"Card16\", \"Card17\", \"Card18\", \"Card19\", \"Card20\", \"Card21\", \"Card22\",\n",
    "                                   \"Card23\", \"Card24\", \"Card25\", \"Card26\", \"Card27\", \"Card28\", \"Card29\", \"Card30\",\n",
    "                                   \"Card31\", \"Card32\", \"CallValueFH\", \"CallValueMH\", \"CallValueBH\", \"PlayerID\", \"Game\",\n",
    "                                   \"With\", \"Without\", \"Hand\", \"Schneider\", \"SchneiderCalled\", \"Schwarz\",\n",
    "                                   \"SchwarzCalled\", \"Overt\", \"PointsPlayer\", \"Won\", \"Miscall\",\n",
    "                                   \"CardPointsPlayer\", \"AllPassed\", \"Surrendered\", \"PlayerPosAtTableFH\",\n",
    "                                   \"PlayerPosAtTableMH\", \"PlayerPosAtTableBH\"]\n",
    "\n",
    "# Read bl data set\n",
    "skat_bl_game_data_path = \"C:/Users/sasch/Desktop/Uni/Bachelorarbeit/SaschaBenz/data/dl/bl_skattisch_spiel.CSV\"\n",
    "\n",
    "skat_bl_game_data_frame = pd.read_csv(skat_bl_game_data_path, header=None)\n",
    "\n",
    "skat_bl_game_data_frame.columns = [\"GameID\", \"IDGame\", \"IDTable\", \"IDVServer\", \"StartTime\", \"EndTime\", \"PlayerFH\",\n",
    "                                   \"PlayerMH\", \"PlayerBH\", \"Card1\", \"Card2\", \"Card3\", \"Card4\", \"Card5\", \"Card6\",\n",
    "                                   \"Card7\", \"Card8\", \"Card9\", \"Card10\", \"Card11\", \"Card12\", \"Card13\", \"Card14\",\n",
    "                                   \"Card15\", \"Card16\", \"Card17\", \"Card18\", \"Card19\", \"Card20\", \"Card21\", \"Card22\",\n",
    "                                   \"Card23\", \"Card24\", \"Card25\", \"Card26\", \"Card27\", \"Card28\", \"Card29\", \"Card30\",\n",
    "                                   \"Card31\", \"Card32\", \"CallValueFH\", \"CallValueMH\", \"CallValueBH\", \"PlayerID\", \"Game\",\n",
    "                                   \"With\", \"Without\", \"Hand\", \"Schneider\", \"SchneiderCalled\", \"Schwarz\",\n",
    "                                   \"SchwarzCalled\", \"Overt\", \"PointsPlayer\", \"Won\", \"Miscall\",\n",
    "                                   \"CardPointsPlayer\", \"AllPassed\", \"Surrendered\", \"PlayerPosAtTableFH\",\n",
    "                                   \"PlayerPosAtTableMH\", \"PlayerPosAtTableBH\"]"
   ],
   "metadata": {
    "collapsed": false,
    "pycharm": {
     "name": "#%%\n"
    }
   }
  },
  {
   "cell_type": "code",
   "execution_count": 4,
   "outputs": [
    {
     "data": {
      "text/plain": "                        dt            rl             bl             wm  \\\n# of Games   360945.000000  3.074701e+06  407259.000000  668267.000000   \nWin rate          0.799028  7.913911e-01       0.786414       0.797720   \nSchneider         0.269379  2.668032e-01       0.268701       0.267833   \nSchwarz           0.043095  4.287181e-02       0.041200       0.042716   \nAllPassed         0.050395  5.852504e-02       0.075907       0.049753   \nMiscall           0.002036  1.984583e-03       0.001299       0.001887   \nSurrendered       0.355470  6.572411e-02       0.000000       0.073369   \n\n                       dm  \n# of Games   1.173846e+06  \nWin rate     7.991227e-01  \nSchneider    2.664174e-01  \nSchwarz      4.207281e-02  \nAllPassed    4.813834e-02  \nMiscall      1.967890e-03  \nSurrendered  5.588297e-02  ",
      "text/html": "<div>\n<style scoped>\n    .dataframe tbody tr th:only-of-type {\n        vertical-align: middle;\n    }\n\n    .dataframe tbody tr th {\n        vertical-align: top;\n    }\n\n    .dataframe thead th {\n        text-align: right;\n    }\n</style>\n<table border=\"1\" class=\"dataframe\">\n  <thead>\n    <tr style=\"text-align: right;\">\n      <th></th>\n      <th>dt</th>\n      <th>rl</th>\n      <th>bl</th>\n      <th>wm</th>\n      <th>dm</th>\n    </tr>\n  </thead>\n  <tbody>\n    <tr>\n      <th># of Games</th>\n      <td>360945.000000</td>\n      <td>3.074701e+06</td>\n      <td>407259.000000</td>\n      <td>668267.000000</td>\n      <td>1.173846e+06</td>\n    </tr>\n    <tr>\n      <th>Win rate</th>\n      <td>0.799028</td>\n      <td>7.913911e-01</td>\n      <td>0.786414</td>\n      <td>0.797720</td>\n      <td>7.991227e-01</td>\n    </tr>\n    <tr>\n      <th>Schneider</th>\n      <td>0.269379</td>\n      <td>2.668032e-01</td>\n      <td>0.268701</td>\n      <td>0.267833</td>\n      <td>2.664174e-01</td>\n    </tr>\n    <tr>\n      <th>Schwarz</th>\n      <td>0.043095</td>\n      <td>4.287181e-02</td>\n      <td>0.041200</td>\n      <td>0.042716</td>\n      <td>4.207281e-02</td>\n    </tr>\n    <tr>\n      <th>AllPassed</th>\n      <td>0.050395</td>\n      <td>5.852504e-02</td>\n      <td>0.075907</td>\n      <td>0.049753</td>\n      <td>4.813834e-02</td>\n    </tr>\n    <tr>\n      <th>Miscall</th>\n      <td>0.002036</td>\n      <td>1.984583e-03</td>\n      <td>0.001299</td>\n      <td>0.001887</td>\n      <td>1.967890e-03</td>\n    </tr>\n    <tr>\n      <th>Surrendered</th>\n      <td>0.355470</td>\n      <td>6.572411e-02</td>\n      <td>0.000000</td>\n      <td>0.073369</td>\n      <td>5.588297e-02</td>\n    </tr>\n  </tbody>\n</table>\n</div>"
     },
     "execution_count": 4,
     "metadata": {},
     "output_type": "execute_result"
    }
   ],
   "source": [
    "stats = {\n",
    "    \"dt\": [skat_dt_game_data_frame[\"GameID\"].size, skat_dt_game_data_frame[\"Won\"].value_counts(normalize=True)[1],\n",
    "           skat_dt_game_data_frame[\"Schneider\"].value_counts(normalize=True)[1],\n",
    "           skat_dt_game_data_frame[\"Schwarz\"].value_counts(normalize=True)[1],\n",
    "           skat_dt_game_data_frame[\"AllPassed\"].value_counts(normalize=True)[1],\n",
    "           skat_dt_game_data_frame[\"Miscall\"].value_counts(normalize=True)[1],\n",
    "           1-skat_dt_game_data_frame[\"Surrendered\"].value_counts(normalize=True)[0]\n",
    "           ],\n",
    "    \"rl\": [skat_rl_game_data_frame[\"GameID\"].size, skat_rl_game_data_frame[\"Won\"].value_counts(normalize=True)[1],\n",
    "           skat_rl_game_data_frame[\"Schneider\"].value_counts(normalize=True)[1],\n",
    "           skat_rl_game_data_frame[\"Schwarz\"].value_counts(normalize=True)[1],\n",
    "           skat_rl_game_data_frame[\"AllPassed\"].value_counts(normalize=True)[1],\n",
    "           skat_rl_game_data_frame[\"Miscall\"].value_counts(normalize=True)[1],\n",
    "           1-skat_rl_game_data_frame[\"Surrendered\"].value_counts(normalize=True)[0]\n",
    "           ],\n",
    "    \"bl\": [skat_bl_game_data_frame[\"GameID\"].size, skat_bl_game_data_frame[\"Won\"].value_counts(normalize=True)[1],\n",
    "           skat_bl_game_data_frame[\"Schneider\"].value_counts(normalize=True)[1],\n",
    "           skat_bl_game_data_frame[\"Schwarz\"].value_counts(normalize=True)[1],\n",
    "           skat_bl_game_data_frame[\"AllPassed\"].value_counts(normalize=True)[1],\n",
    "           skat_bl_game_data_frame[\"Miscall\"].value_counts(normalize=True)[1],\n",
    "           1-skat_bl_game_data_frame[\"Surrendered\"].value_counts(normalize=True)[0]\n",
    "           ],\n",
    "    \"wm\": [skat_wm_game_data_frame[\"GameID\"].size, skat_wm_game_data_frame[\"Won\"].value_counts(normalize=True)[1],\n",
    "           skat_wm_game_data_frame[\"Schneider\"].value_counts(normalize=True)[1],\n",
    "           skat_wm_game_data_frame[\"Schwarz\"].value_counts(normalize=True)[1],\n",
    "           skat_wm_game_data_frame[\"AllPassed\"].value_counts(normalize=True)[1],\n",
    "           skat_wm_game_data_frame[\"Miscall\"].value_counts(normalize=True)[1],\n",
    "           1-skat_wm_game_data_frame[\"Surrendered\"].value_counts(normalize=True)[0]\n",
    "           ],\n",
    "    \"dm\": [skat_dm_game_data_frame[\"GameID\"].size, skat_dm_game_data_frame[\"Won\"].value_counts(normalize=True)[1],\n",
    "           skat_dm_game_data_frame[\"Schneider\"].value_counts(normalize=True)[1],\n",
    "           skat_dm_game_data_frame[\"Schwarz\"].value_counts(normalize=True)[1],\n",
    "           skat_dm_game_data_frame[\"AllPassed\"].value_counts(normalize=True)[1],\n",
    "           skat_dm_game_data_frame[\"Miscall\"].value_counts(normalize=True)[1],\n",
    "           1-skat_dm_game_data_frame[\"Surrendered\"].value_counts(normalize=True)[0]\n",
    "           ]\n",
    "}\n",
    "\n",
    "\n",
    "stat_frame = pd.DataFrame(stats, [\"# of Games\", \"Win rate\", \"Schneider\", \"Schwarz\", \"AllPassed\", \"Miscall\", \"Surrendered\"])\n",
    "stat_frame\n"
   ],
   "metadata": {
    "collapsed": false,
    "pycharm": {
     "name": "#%%\n"
    }
   }
  }
 ],
 "metadata": {
  "kernelspec": {
   "display_name": "Python 3",
   "language": "python",
   "name": "python3"
  },
  "language_info": {
   "codemirror_mode": {
    "name": "ipython",
    "version": 2
   },
   "file_extension": ".py",
   "mimetype": "text/x-python",
   "name": "python",
   "nbconvert_exporter": "python",
   "pygments_lexer": "ipython2",
   "version": "2.7.6"
  }
 },
 "nbformat": 4,
 "nbformat_minor": 0
}